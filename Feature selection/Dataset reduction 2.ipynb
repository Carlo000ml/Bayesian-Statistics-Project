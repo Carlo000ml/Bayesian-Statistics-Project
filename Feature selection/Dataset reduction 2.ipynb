{
 "cells": [
  {
   "cell_type": "markdown",
   "id": "d39f30b8",
   "metadata": {},
   "source": [
    "# Feature selection\n"
   ]
  },
  {
   "cell_type": "markdown",
   "id": "b26c99fa",
   "metadata": {},
   "source": [
    "## TF"
   ]
  },
  {
   "cell_type": "markdown",
   "id": "0debac02",
   "metadata": {},
   "source": [
    "### 1) Import the Datasets"
   ]
  },
  {
   "cell_type": "code",
   "execution_count": 2,
   "id": "eb07b4be",
   "metadata": {},
   "outputs": [],
   "source": [
    "data1=read.csv(\"tf.csv\")\n",
    "data2=read.csv(\"tfidf.csv\")"
   ]
  },
  {
   "cell_type": "markdown",
   "id": "636441ff",
   "metadata": {},
   "source": [
    "### 2) Data visualization"
   ]
  },
  {
   "cell_type": "code",
   "execution_count": 3,
   "id": "7658713a",
   "metadata": {},
   "outputs": [],
   "source": [
    "Xtf=data1\n",
    "Xtfidf=data2"
   ]
  },
  {
   "cell_type": "code",
   "execution_count": 4,
   "id": "04aff665",
   "metadata": {},
   "outputs": [],
   "source": [
    "Xtf=Xtf[,-1]\n",
    "Xtfidf=Xtfidf[,-1]"
   ]
  },
  {
   "cell_type": "code",
   "execution_count": 5,
   "id": "54a904b2",
   "metadata": {},
   "outputs": [
    {
     "data": {
      "text/html": [
       "<table class=\"dataframe\">\n",
       "<caption>A data.frame: 6 × 17094</caption>\n",
       "<thead>\n",
       "\t<tr><th></th><th scope=col>distanc</th><th scope=col>well.equip</th><th scope=col>concur</th><th scope=col>goos</th><th scope=col>left.field</th><th scope=col>matrix</th><th scope=col>neurotransmitt</th><th scope=col>talbott</th><th scope=col>equip</th><th scope=col>relax</th><th scope=col>...</th><th scope=col>un.us</th><th scope=col>.becaus</th><th scope=col>bodywork</th><th scope=col>infatu</th><th scope=col>pratchett</th><th scope=col>awar</th><th scope=col>dude</th><th scope=col>jp</th><th scope=col>sector</th><th scope=col>type_text</th></tr>\n",
       "\t<tr><th></th><th scope=col>&lt;int&gt;</th><th scope=col>&lt;int&gt;</th><th scope=col>&lt;int&gt;</th><th scope=col>&lt;int&gt;</th><th scope=col>&lt;int&gt;</th><th scope=col>&lt;int&gt;</th><th scope=col>&lt;int&gt;</th><th scope=col>&lt;int&gt;</th><th scope=col>&lt;int&gt;</th><th scope=col>&lt;int&gt;</th><th scope=col>...</th><th scope=col>&lt;int&gt;</th><th scope=col>&lt;int&gt;</th><th scope=col>&lt;int&gt;</th><th scope=col>&lt;int&gt;</th><th scope=col>&lt;int&gt;</th><th scope=col>&lt;int&gt;</th><th scope=col>&lt;int&gt;</th><th scope=col>&lt;int&gt;</th><th scope=col>&lt;int&gt;</th><th scope=col>&lt;int&gt;</th></tr>\n",
       "</thead>\n",
       "<tbody>\n",
       "\t<tr><th scope=row>1</th><td>0</td><td>0</td><td>0</td><td>0</td><td>0</td><td>0</td><td>0</td><td>0</td><td>0</td><td>0</td><td>...</td><td>0</td><td>0</td><td>0</td><td>0</td><td>0</td><td>0</td><td>0</td><td>0</td><td>0</td><td>1</td></tr>\n",
       "\t<tr><th scope=row>2</th><td>0</td><td>0</td><td>0</td><td>0</td><td>0</td><td>0</td><td>0</td><td>0</td><td>0</td><td>0</td><td>...</td><td>0</td><td>0</td><td>0</td><td>0</td><td>0</td><td>0</td><td>0</td><td>0</td><td>0</td><td>1</td></tr>\n",
       "\t<tr><th scope=row>3</th><td>0</td><td>0</td><td>0</td><td>0</td><td>0</td><td>0</td><td>0</td><td>0</td><td>0</td><td>0</td><td>...</td><td>0</td><td>0</td><td>0</td><td>0</td><td>0</td><td>0</td><td>0</td><td>0</td><td>0</td><td>1</td></tr>\n",
       "\t<tr><th scope=row>4</th><td>0</td><td>0</td><td>0</td><td>0</td><td>0</td><td>0</td><td>0</td><td>0</td><td>0</td><td>0</td><td>...</td><td>0</td><td>0</td><td>0</td><td>0</td><td>0</td><td>0</td><td>0</td><td>0</td><td>0</td><td>1</td></tr>\n",
       "\t<tr><th scope=row>5</th><td>0</td><td>0</td><td>0</td><td>0</td><td>0</td><td>0</td><td>0</td><td>0</td><td>0</td><td>0</td><td>...</td><td>0</td><td>0</td><td>0</td><td>0</td><td>0</td><td>0</td><td>0</td><td>0</td><td>0</td><td>1</td></tr>\n",
       "\t<tr><th scope=row>6</th><td>0</td><td>0</td><td>0</td><td>0</td><td>0</td><td>0</td><td>0</td><td>0</td><td>0</td><td>0</td><td>...</td><td>0</td><td>0</td><td>0</td><td>0</td><td>0</td><td>0</td><td>0</td><td>0</td><td>0</td><td>1</td></tr>\n",
       "</tbody>\n",
       "</table>\n"
      ],
      "text/latex": [
       "A data.frame: 6 × 17094\n",
       "\\begin{tabular}{r|lllllllllllllllllllll}\n",
       "  & distanc & well.equip & concur & goos & left.field & matrix & neurotransmitt & talbott & equip & relax & ... & un.us & .becaus & bodywork & infatu & pratchett & awar & dude & jp & sector & type\\_text\\\\\n",
       "  & <int> & <int> & <int> & <int> & <int> & <int> & <int> & <int> & <int> & <int> & ... & <int> & <int> & <int> & <int> & <int> & <int> & <int> & <int> & <int> & <int>\\\\\n",
       "\\hline\n",
       "\t1 & 0 & 0 & 0 & 0 & 0 & 0 & 0 & 0 & 0 & 0 & ... & 0 & 0 & 0 & 0 & 0 & 0 & 0 & 0 & 0 & 1\\\\\n",
       "\t2 & 0 & 0 & 0 & 0 & 0 & 0 & 0 & 0 & 0 & 0 & ... & 0 & 0 & 0 & 0 & 0 & 0 & 0 & 0 & 0 & 1\\\\\n",
       "\t3 & 0 & 0 & 0 & 0 & 0 & 0 & 0 & 0 & 0 & 0 & ... & 0 & 0 & 0 & 0 & 0 & 0 & 0 & 0 & 0 & 1\\\\\n",
       "\t4 & 0 & 0 & 0 & 0 & 0 & 0 & 0 & 0 & 0 & 0 & ... & 0 & 0 & 0 & 0 & 0 & 0 & 0 & 0 & 0 & 1\\\\\n",
       "\t5 & 0 & 0 & 0 & 0 & 0 & 0 & 0 & 0 & 0 & 0 & ... & 0 & 0 & 0 & 0 & 0 & 0 & 0 & 0 & 0 & 1\\\\\n",
       "\t6 & 0 & 0 & 0 & 0 & 0 & 0 & 0 & 0 & 0 & 0 & ... & 0 & 0 & 0 & 0 & 0 & 0 & 0 & 0 & 0 & 1\\\\\n",
       "\\end{tabular}\n"
      ],
      "text/markdown": [
       "\n",
       "A data.frame: 6 × 17094\n",
       "\n",
       "| <!--/--> | distanc &lt;int&gt; | well.equip &lt;int&gt; | concur &lt;int&gt; | goos &lt;int&gt; | left.field &lt;int&gt; | matrix &lt;int&gt; | neurotransmitt &lt;int&gt; | talbott &lt;int&gt; | equip &lt;int&gt; | relax &lt;int&gt; | ... ... | un.us &lt;int&gt; | .becaus &lt;int&gt; | bodywork &lt;int&gt; | infatu &lt;int&gt; | pratchett &lt;int&gt; | awar &lt;int&gt; | dude &lt;int&gt; | jp &lt;int&gt; | sector &lt;int&gt; | type_text &lt;int&gt; |\n",
       "|---|---|---|---|---|---|---|---|---|---|---|---|---|---|---|---|---|---|---|---|---|---|\n",
       "| 1 | 0 | 0 | 0 | 0 | 0 | 0 | 0 | 0 | 0 | 0 | ... | 0 | 0 | 0 | 0 | 0 | 0 | 0 | 0 | 0 | 1 |\n",
       "| 2 | 0 | 0 | 0 | 0 | 0 | 0 | 0 | 0 | 0 | 0 | ... | 0 | 0 | 0 | 0 | 0 | 0 | 0 | 0 | 0 | 1 |\n",
       "| 3 | 0 | 0 | 0 | 0 | 0 | 0 | 0 | 0 | 0 | 0 | ... | 0 | 0 | 0 | 0 | 0 | 0 | 0 | 0 | 0 | 1 |\n",
       "| 4 | 0 | 0 | 0 | 0 | 0 | 0 | 0 | 0 | 0 | 0 | ... | 0 | 0 | 0 | 0 | 0 | 0 | 0 | 0 | 0 | 1 |\n",
       "| 5 | 0 | 0 | 0 | 0 | 0 | 0 | 0 | 0 | 0 | 0 | ... | 0 | 0 | 0 | 0 | 0 | 0 | 0 | 0 | 0 | 1 |\n",
       "| 6 | 0 | 0 | 0 | 0 | 0 | 0 | 0 | 0 | 0 | 0 | ... | 0 | 0 | 0 | 0 | 0 | 0 | 0 | 0 | 0 | 1 |\n",
       "\n"
      ],
      "text/plain": [
       "  distanc well.equip concur goos left.field matrix neurotransmitt talbott equip\n",
       "1 0       0          0      0    0          0      0              0       0    \n",
       "2 0       0          0      0    0          0      0              0       0    \n",
       "3 0       0          0      0    0          0      0              0       0    \n",
       "4 0       0          0      0    0          0      0              0       0    \n",
       "5 0       0          0      0    0          0      0              0       0    \n",
       "6 0       0          0      0    0          0      0              0       0    \n",
       "  relax ... un.us .becaus bodywork infatu pratchett awar dude jp sector\n",
       "1 0     ... 0     0       0        0      0         0    0    0  0     \n",
       "2 0     ... 0     0       0        0      0         0    0    0  0     \n",
       "3 0     ... 0     0       0        0      0         0    0    0  0     \n",
       "4 0     ... 0     0       0        0      0         0    0    0  0     \n",
       "5 0     ... 0     0       0        0      0         0    0    0  0     \n",
       "6 0     ... 0     0       0        0      0         0    0    0  0     \n",
       "  type_text\n",
       "1 1        \n",
       "2 1        \n",
       "3 1        \n",
       "4 1        \n",
       "5 1        \n",
       "6 1        "
      ]
     },
     "metadata": {},
     "output_type": "display_data"
    },
    {
     "data": {
      "text/html": [
       "<table class=\"dataframe\">\n",
       "<caption>A data.frame: 6 × 17094</caption>\n",
       "<thead>\n",
       "\t<tr><th></th><th scope=col>distanc</th><th scope=col>well.equip</th><th scope=col>concur</th><th scope=col>goos</th><th scope=col>left.field</th><th scope=col>matrix</th><th scope=col>neurotransmitt</th><th scope=col>talbott</th><th scope=col>equip</th><th scope=col>relax</th><th scope=col>...</th><th scope=col>un.us</th><th scope=col>.becaus</th><th scope=col>bodywork</th><th scope=col>infatu</th><th scope=col>pratchett</th><th scope=col>awar</th><th scope=col>dude</th><th scope=col>jp</th><th scope=col>sector</th><th scope=col>type_text</th></tr>\n",
       "\t<tr><th></th><th scope=col>&lt;dbl&gt;</th><th scope=col>&lt;dbl&gt;</th><th scope=col>&lt;dbl&gt;</th><th scope=col>&lt;dbl&gt;</th><th scope=col>&lt;dbl&gt;</th><th scope=col>&lt;dbl&gt;</th><th scope=col>&lt;dbl&gt;</th><th scope=col>&lt;dbl&gt;</th><th scope=col>&lt;dbl&gt;</th><th scope=col>&lt;dbl&gt;</th><th scope=col>...</th><th scope=col>&lt;dbl&gt;</th><th scope=col>&lt;dbl&gt;</th><th scope=col>&lt;dbl&gt;</th><th scope=col>&lt;dbl&gt;</th><th scope=col>&lt;dbl&gt;</th><th scope=col>&lt;dbl&gt;</th><th scope=col>&lt;dbl&gt;</th><th scope=col>&lt;dbl&gt;</th><th scope=col>&lt;dbl&gt;</th><th scope=col>&lt;int&gt;</th></tr>\n",
       "</thead>\n",
       "<tbody>\n",
       "\t<tr><th scope=row>1</th><td>0</td><td>0</td><td>0</td><td>0</td><td>0</td><td>0</td><td>0</td><td>0</td><td>0</td><td>0</td><td>...</td><td>0</td><td>0</td><td>0</td><td>0</td><td>0</td><td>0</td><td>0</td><td>0</td><td>0</td><td>0</td></tr>\n",
       "\t<tr><th scope=row>2</th><td>0</td><td>0</td><td>0</td><td>0</td><td>0</td><td>0</td><td>0</td><td>0</td><td>0</td><td>0</td><td>...</td><td>0</td><td>0</td><td>0</td><td>0</td><td>0</td><td>0</td><td>0</td><td>0</td><td>0</td><td>0</td></tr>\n",
       "\t<tr><th scope=row>3</th><td>0</td><td>0</td><td>0</td><td>0</td><td>0</td><td>0</td><td>0</td><td>0</td><td>0</td><td>0</td><td>...</td><td>0</td><td>0</td><td>0</td><td>0</td><td>0</td><td>0</td><td>0</td><td>0</td><td>0</td><td>0</td></tr>\n",
       "\t<tr><th scope=row>4</th><td>0</td><td>0</td><td>0</td><td>0</td><td>0</td><td>0</td><td>0</td><td>0</td><td>0</td><td>0</td><td>...</td><td>0</td><td>0</td><td>0</td><td>0</td><td>0</td><td>0</td><td>0</td><td>0</td><td>0</td><td>0</td></tr>\n",
       "\t<tr><th scope=row>5</th><td>0</td><td>0</td><td>0</td><td>0</td><td>0</td><td>0</td><td>0</td><td>0</td><td>0</td><td>0</td><td>...</td><td>0</td><td>0</td><td>0</td><td>0</td><td>0</td><td>0</td><td>0</td><td>0</td><td>0</td><td>0</td></tr>\n",
       "\t<tr><th scope=row>6</th><td>0</td><td>0</td><td>0</td><td>0</td><td>0</td><td>0</td><td>0</td><td>0</td><td>0</td><td>0</td><td>...</td><td>0</td><td>0</td><td>0</td><td>0</td><td>0</td><td>0</td><td>0</td><td>0</td><td>0</td><td>0</td></tr>\n",
       "</tbody>\n",
       "</table>\n"
      ],
      "text/latex": [
       "A data.frame: 6 × 17094\n",
       "\\begin{tabular}{r|lllllllllllllllllllll}\n",
       "  & distanc & well.equip & concur & goos & left.field & matrix & neurotransmitt & talbott & equip & relax & ... & un.us & .becaus & bodywork & infatu & pratchett & awar & dude & jp & sector & type\\_text\\\\\n",
       "  & <dbl> & <dbl> & <dbl> & <dbl> & <dbl> & <dbl> & <dbl> & <dbl> & <dbl> & <dbl> & ... & <dbl> & <dbl> & <dbl> & <dbl> & <dbl> & <dbl> & <dbl> & <dbl> & <dbl> & <int>\\\\\n",
       "\\hline\n",
       "\t1 & 0 & 0 & 0 & 0 & 0 & 0 & 0 & 0 & 0 & 0 & ... & 0 & 0 & 0 & 0 & 0 & 0 & 0 & 0 & 0 & 0\\\\\n",
       "\t2 & 0 & 0 & 0 & 0 & 0 & 0 & 0 & 0 & 0 & 0 & ... & 0 & 0 & 0 & 0 & 0 & 0 & 0 & 0 & 0 & 0\\\\\n",
       "\t3 & 0 & 0 & 0 & 0 & 0 & 0 & 0 & 0 & 0 & 0 & ... & 0 & 0 & 0 & 0 & 0 & 0 & 0 & 0 & 0 & 0\\\\\n",
       "\t4 & 0 & 0 & 0 & 0 & 0 & 0 & 0 & 0 & 0 & 0 & ... & 0 & 0 & 0 & 0 & 0 & 0 & 0 & 0 & 0 & 0\\\\\n",
       "\t5 & 0 & 0 & 0 & 0 & 0 & 0 & 0 & 0 & 0 & 0 & ... & 0 & 0 & 0 & 0 & 0 & 0 & 0 & 0 & 0 & 0\\\\\n",
       "\t6 & 0 & 0 & 0 & 0 & 0 & 0 & 0 & 0 & 0 & 0 & ... & 0 & 0 & 0 & 0 & 0 & 0 & 0 & 0 & 0 & 0\\\\\n",
       "\\end{tabular}\n"
      ],
      "text/markdown": [
       "\n",
       "A data.frame: 6 × 17094\n",
       "\n",
       "| <!--/--> | distanc &lt;dbl&gt; | well.equip &lt;dbl&gt; | concur &lt;dbl&gt; | goos &lt;dbl&gt; | left.field &lt;dbl&gt; | matrix &lt;dbl&gt; | neurotransmitt &lt;dbl&gt; | talbott &lt;dbl&gt; | equip &lt;dbl&gt; | relax &lt;dbl&gt; | ... ... | un.us &lt;dbl&gt; | .becaus &lt;dbl&gt; | bodywork &lt;dbl&gt; | infatu &lt;dbl&gt; | pratchett &lt;dbl&gt; | awar &lt;dbl&gt; | dude &lt;dbl&gt; | jp &lt;dbl&gt; | sector &lt;dbl&gt; | type_text &lt;int&gt; |\n",
       "|---|---|---|---|---|---|---|---|---|---|---|---|---|---|---|---|---|---|---|---|---|---|\n",
       "| 1 | 0 | 0 | 0 | 0 | 0 | 0 | 0 | 0 | 0 | 0 | ... | 0 | 0 | 0 | 0 | 0 | 0 | 0 | 0 | 0 | 0 |\n",
       "| 2 | 0 | 0 | 0 | 0 | 0 | 0 | 0 | 0 | 0 | 0 | ... | 0 | 0 | 0 | 0 | 0 | 0 | 0 | 0 | 0 | 0 |\n",
       "| 3 | 0 | 0 | 0 | 0 | 0 | 0 | 0 | 0 | 0 | 0 | ... | 0 | 0 | 0 | 0 | 0 | 0 | 0 | 0 | 0 | 0 |\n",
       "| 4 | 0 | 0 | 0 | 0 | 0 | 0 | 0 | 0 | 0 | 0 | ... | 0 | 0 | 0 | 0 | 0 | 0 | 0 | 0 | 0 | 0 |\n",
       "| 5 | 0 | 0 | 0 | 0 | 0 | 0 | 0 | 0 | 0 | 0 | ... | 0 | 0 | 0 | 0 | 0 | 0 | 0 | 0 | 0 | 0 |\n",
       "| 6 | 0 | 0 | 0 | 0 | 0 | 0 | 0 | 0 | 0 | 0 | ... | 0 | 0 | 0 | 0 | 0 | 0 | 0 | 0 | 0 | 0 |\n",
       "\n"
      ],
      "text/plain": [
       "  distanc well.equip concur goos left.field matrix neurotransmitt talbott equip\n",
       "1 0       0          0      0    0          0      0              0       0    \n",
       "2 0       0          0      0    0          0      0              0       0    \n",
       "3 0       0          0      0    0          0      0              0       0    \n",
       "4 0       0          0      0    0          0      0              0       0    \n",
       "5 0       0          0      0    0          0      0              0       0    \n",
       "6 0       0          0      0    0          0      0              0       0    \n",
       "  relax ... un.us .becaus bodywork infatu pratchett awar dude jp sector\n",
       "1 0     ... 0     0       0        0      0         0    0    0  0     \n",
       "2 0     ... 0     0       0        0      0         0    0    0  0     \n",
       "3 0     ... 0     0       0        0      0         0    0    0  0     \n",
       "4 0     ... 0     0       0        0      0         0    0    0  0     \n",
       "5 0     ... 0     0       0        0      0         0    0    0  0     \n",
       "6 0     ... 0     0       0        0      0         0    0    0  0     \n",
       "  type_text\n",
       "1 0        \n",
       "2 0        \n",
       "3 0        \n",
       "4 0        \n",
       "5 0        \n",
       "6 0        "
      ]
     },
     "metadata": {},
     "output_type": "display_data"
    }
   ],
   "source": [
    "head(Xtf)\n",
    "head(Xtfidf)\n",
    "\n",
    "\n",
    "ytf=Xtf[\"type_text\"]\n",
    "ytfidf=Xtfidf[\"type_text\"]"
   ]
  },
  {
   "cell_type": "code",
   "execution_count": 6,
   "id": "162b7807",
   "metadata": {},
   "outputs": [],
   "source": [
    "names=colnames(Xtf)"
   ]
  },
  {
   "cell_type": "markdown",
   "id": "1419319c",
   "metadata": {},
   "source": [
    "### 2) Delete the useless feature"
   ]
  },
  {
   "cell_type": "markdown",
   "id": "6ab66e0e",
   "metadata": {},
   "source": [
    "Function to count the number of documents in which a word of the vocaboulary appears"
   ]
  },
  {
   "cell_type": "code",
   "execution_count": 7,
   "id": "9c9f5c2e",
   "metadata": {},
   "outputs": [],
   "source": [
    "count_fun =function(vector)\n",
    "    {\n",
    "    L=length(vector)\n",
    "    \n",
    "    count=0\n",
    "    \n",
    "    for (i in 1:L)\n",
    "        {\n",
    "        if (vector[i]>0)\n",
    "            {\n",
    "            count=count+1\n",
    "        }\n",
    "    }\n",
    "    \n",
    "    return(count)\n",
    "    \n",
    "    \n",
    "}"
   ]
  },
  {
   "cell_type": "code",
   "execution_count": 8,
   "id": "1793fe71",
   "metadata": {},
   "outputs": [],
   "source": [
    "counting=apply(Xtf,2,count_fun)"
   ]
  },
  {
   "cell_type": "markdown",
   "id": "b9f62ea8",
   "metadata": {},
   "source": [
    "Delete all the words contained in less than 10 documents or more than 800 documents"
   ]
  },
  {
   "cell_type": "code",
   "execution_count": 9,
   "id": "51fc0204",
   "metadata": {},
   "outputs": [],
   "source": [
    "useful=c()\n",
    "\n",
    "min_count=10\n",
    "\n",
    "max_count=800\n",
    "\n",
    "for (i in 1:length(counting))\n",
    "    {\n",
    "    if (counting[i]>min_count & counting[i]<max_count)\n",
    "        {\n",
    "        useful=c(useful,names[i])\n",
    "    }\n",
    "    \n",
    "    \n",
    "}"
   ]
  },
  {
   "cell_type": "markdown",
   "id": "b0b22412",
   "metadata": {},
   "source": [
    "The resulting dataset:"
   ]
  },
  {
   "cell_type": "code",
   "execution_count": 10,
   "id": "35984ac1",
   "metadata": {},
   "outputs": [],
   "source": [
    "Xtf=Xtf[useful]\n",
    "Xtfidf=Xtfidf[useful]"
   ]
  },
  {
   "cell_type": "code",
   "execution_count": 11,
   "id": "e9820e64",
   "metadata": {},
   "outputs": [
    {
     "data": {
      "text/html": [
       "<table class=\"dataframe\">\n",
       "<caption>A data.frame: 6 × 2108</caption>\n",
       "<thead>\n",
       "\t<tr><th></th><th scope=col>shallow</th><th scope=col>insan</th><th scope=col>still</th><th scope=col>circumst</th><th scope=col>portray</th><th scope=col>overview</th><th scope=col>experienc</th><th scope=col>X4</th><th scope=col>serv</th><th scope=col>mountain</th><th scope=col>...</th><th scope=col>ration</th><th scope=col>someon</th><th scope=col>recogn</th><th scope=col>danger</th><th scope=col>senior</th><th scope=col>back</th><th scope=col>independ</th><th scope=col>crucial</th><th scope=col>focu</th><th scope=col>awar</th></tr>\n",
       "\t<tr><th></th><th scope=col>&lt;int&gt;</th><th scope=col>&lt;int&gt;</th><th scope=col>&lt;int&gt;</th><th scope=col>&lt;int&gt;</th><th scope=col>&lt;int&gt;</th><th scope=col>&lt;int&gt;</th><th scope=col>&lt;int&gt;</th><th scope=col>&lt;int&gt;</th><th scope=col>&lt;int&gt;</th><th scope=col>&lt;int&gt;</th><th scope=col>...</th><th scope=col>&lt;int&gt;</th><th scope=col>&lt;int&gt;</th><th scope=col>&lt;int&gt;</th><th scope=col>&lt;int&gt;</th><th scope=col>&lt;int&gt;</th><th scope=col>&lt;int&gt;</th><th scope=col>&lt;int&gt;</th><th scope=col>&lt;int&gt;</th><th scope=col>&lt;int&gt;</th><th scope=col>&lt;int&gt;</th></tr>\n",
       "</thead>\n",
       "<tbody>\n",
       "\t<tr><th scope=row>1</th><td>0</td><td>0</td><td>1</td><td>0</td><td>0</td><td>0</td><td>0</td><td>1</td><td>0</td><td>0</td><td>...</td><td>0</td><td>0</td><td>0</td><td>0</td><td>0</td><td>2</td><td>0</td><td>0</td><td>0</td><td>0</td></tr>\n",
       "\t<tr><th scope=row>2</th><td>0</td><td>0</td><td>0</td><td>0</td><td>0</td><td>1</td><td>0</td><td>0</td><td>0</td><td>0</td><td>...</td><td>0</td><td>0</td><td>0</td><td>0</td><td>0</td><td>0</td><td>0</td><td>0</td><td>0</td><td>0</td></tr>\n",
       "\t<tr><th scope=row>3</th><td>0</td><td>0</td><td>0</td><td>0</td><td>0</td><td>0</td><td>0</td><td>0</td><td>0</td><td>0</td><td>...</td><td>0</td><td>0</td><td>0</td><td>0</td><td>0</td><td>0</td><td>0</td><td>0</td><td>0</td><td>0</td></tr>\n",
       "\t<tr><th scope=row>4</th><td>0</td><td>0</td><td>0</td><td>0</td><td>0</td><td>0</td><td>0</td><td>0</td><td>0</td><td>0</td><td>...</td><td>0</td><td>0</td><td>0</td><td>0</td><td>0</td><td>0</td><td>0</td><td>0</td><td>0</td><td>0</td></tr>\n",
       "\t<tr><th scope=row>5</th><td>0</td><td>0</td><td>0</td><td>0</td><td>0</td><td>0</td><td>0</td><td>0</td><td>0</td><td>0</td><td>...</td><td>0</td><td>0</td><td>0</td><td>0</td><td>0</td><td>1</td><td>0</td><td>0</td><td>0</td><td>0</td></tr>\n",
       "\t<tr><th scope=row>6</th><td>0</td><td>0</td><td>0</td><td>0</td><td>0</td><td>0</td><td>0</td><td>0</td><td>0</td><td>0</td><td>...</td><td>0</td><td>0</td><td>0</td><td>0</td><td>0</td><td>0</td><td>0</td><td>0</td><td>0</td><td>0</td></tr>\n",
       "</tbody>\n",
       "</table>\n"
      ],
      "text/latex": [
       "A data.frame: 6 × 2108\n",
       "\\begin{tabular}{r|lllllllllllllllllllll}\n",
       "  & shallow & insan & still & circumst & portray & overview & experienc & X4 & serv & mountain & ... & ration & someon & recogn & danger & senior & back & independ & crucial & focu & awar\\\\\n",
       "  & <int> & <int> & <int> & <int> & <int> & <int> & <int> & <int> & <int> & <int> & ... & <int> & <int> & <int> & <int> & <int> & <int> & <int> & <int> & <int> & <int>\\\\\n",
       "\\hline\n",
       "\t1 & 0 & 0 & 1 & 0 & 0 & 0 & 0 & 1 & 0 & 0 & ... & 0 & 0 & 0 & 0 & 0 & 2 & 0 & 0 & 0 & 0\\\\\n",
       "\t2 & 0 & 0 & 0 & 0 & 0 & 1 & 0 & 0 & 0 & 0 & ... & 0 & 0 & 0 & 0 & 0 & 0 & 0 & 0 & 0 & 0\\\\\n",
       "\t3 & 0 & 0 & 0 & 0 & 0 & 0 & 0 & 0 & 0 & 0 & ... & 0 & 0 & 0 & 0 & 0 & 0 & 0 & 0 & 0 & 0\\\\\n",
       "\t4 & 0 & 0 & 0 & 0 & 0 & 0 & 0 & 0 & 0 & 0 & ... & 0 & 0 & 0 & 0 & 0 & 0 & 0 & 0 & 0 & 0\\\\\n",
       "\t5 & 0 & 0 & 0 & 0 & 0 & 0 & 0 & 0 & 0 & 0 & ... & 0 & 0 & 0 & 0 & 0 & 1 & 0 & 0 & 0 & 0\\\\\n",
       "\t6 & 0 & 0 & 0 & 0 & 0 & 0 & 0 & 0 & 0 & 0 & ... & 0 & 0 & 0 & 0 & 0 & 0 & 0 & 0 & 0 & 0\\\\\n",
       "\\end{tabular}\n"
      ],
      "text/markdown": [
       "\n",
       "A data.frame: 6 × 2108\n",
       "\n",
       "| <!--/--> | shallow &lt;int&gt; | insan &lt;int&gt; | still &lt;int&gt; | circumst &lt;int&gt; | portray &lt;int&gt; | overview &lt;int&gt; | experienc &lt;int&gt; | X4 &lt;int&gt; | serv &lt;int&gt; | mountain &lt;int&gt; | ... ... | ration &lt;int&gt; | someon &lt;int&gt; | recogn &lt;int&gt; | danger &lt;int&gt; | senior &lt;int&gt; | back &lt;int&gt; | independ &lt;int&gt; | crucial &lt;int&gt; | focu &lt;int&gt; | awar &lt;int&gt; |\n",
       "|---|---|---|---|---|---|---|---|---|---|---|---|---|---|---|---|---|---|---|---|---|---|\n",
       "| 1 | 0 | 0 | 1 | 0 | 0 | 0 | 0 | 1 | 0 | 0 | ... | 0 | 0 | 0 | 0 | 0 | 2 | 0 | 0 | 0 | 0 |\n",
       "| 2 | 0 | 0 | 0 | 0 | 0 | 1 | 0 | 0 | 0 | 0 | ... | 0 | 0 | 0 | 0 | 0 | 0 | 0 | 0 | 0 | 0 |\n",
       "| 3 | 0 | 0 | 0 | 0 | 0 | 0 | 0 | 0 | 0 | 0 | ... | 0 | 0 | 0 | 0 | 0 | 0 | 0 | 0 | 0 | 0 |\n",
       "| 4 | 0 | 0 | 0 | 0 | 0 | 0 | 0 | 0 | 0 | 0 | ... | 0 | 0 | 0 | 0 | 0 | 0 | 0 | 0 | 0 | 0 |\n",
       "| 5 | 0 | 0 | 0 | 0 | 0 | 0 | 0 | 0 | 0 | 0 | ... | 0 | 0 | 0 | 0 | 0 | 1 | 0 | 0 | 0 | 0 |\n",
       "| 6 | 0 | 0 | 0 | 0 | 0 | 0 | 0 | 0 | 0 | 0 | ... | 0 | 0 | 0 | 0 | 0 | 0 | 0 | 0 | 0 | 0 |\n",
       "\n"
      ],
      "text/plain": [
       "  shallow insan still circumst portray overview experienc X4 serv mountain ...\n",
       "1 0       0     1     0        0       0        0         1  0    0        ...\n",
       "2 0       0     0     0        0       1        0         0  0    0        ...\n",
       "3 0       0     0     0        0       0        0         0  0    0        ...\n",
       "4 0       0     0     0        0       0        0         0  0    0        ...\n",
       "5 0       0     0     0        0       0        0         0  0    0        ...\n",
       "6 0       0     0     0        0       0        0         0  0    0        ...\n",
       "  ration someon recogn danger senior back independ crucial focu awar\n",
       "1 0      0      0      0      0      2    0        0       0    0   \n",
       "2 0      0      0      0      0      0    0        0       0    0   \n",
       "3 0      0      0      0      0      0    0        0       0    0   \n",
       "4 0      0      0      0      0      0    0        0       0    0   \n",
       "5 0      0      0      0      0      1    0        0       0    0   \n",
       "6 0      0      0      0      0      0    0        0       0    0   "
      ]
     },
     "metadata": {},
     "output_type": "display_data"
    },
    {
     "data": {
      "text/html": [
       "<table class=\"dataframe\">\n",
       "<caption>A data.frame: 6 × 2108</caption>\n",
       "<thead>\n",
       "\t<tr><th></th><th scope=col>shallow</th><th scope=col>insan</th><th scope=col>still</th><th scope=col>circumst</th><th scope=col>portray</th><th scope=col>overview</th><th scope=col>experienc</th><th scope=col>X4</th><th scope=col>serv</th><th scope=col>mountain</th><th scope=col>...</th><th scope=col>ration</th><th scope=col>someon</th><th scope=col>recogn</th><th scope=col>danger</th><th scope=col>senior</th><th scope=col>back</th><th scope=col>independ</th><th scope=col>crucial</th><th scope=col>focu</th><th scope=col>awar</th></tr>\n",
       "\t<tr><th></th><th scope=col>&lt;dbl&gt;</th><th scope=col>&lt;dbl&gt;</th><th scope=col>&lt;dbl&gt;</th><th scope=col>&lt;dbl&gt;</th><th scope=col>&lt;dbl&gt;</th><th scope=col>&lt;dbl&gt;</th><th scope=col>&lt;dbl&gt;</th><th scope=col>&lt;dbl&gt;</th><th scope=col>&lt;dbl&gt;</th><th scope=col>&lt;dbl&gt;</th><th scope=col>...</th><th scope=col>&lt;dbl&gt;</th><th scope=col>&lt;dbl&gt;</th><th scope=col>&lt;dbl&gt;</th><th scope=col>&lt;dbl&gt;</th><th scope=col>&lt;dbl&gt;</th><th scope=col>&lt;dbl&gt;</th><th scope=col>&lt;dbl&gt;</th><th scope=col>&lt;dbl&gt;</th><th scope=col>&lt;dbl&gt;</th><th scope=col>&lt;dbl&gt;</th></tr>\n",
       "</thead>\n",
       "<tbody>\n",
       "\t<tr><th scope=row>1</th><td>0</td><td>0</td><td>0</td><td>0</td><td>0.0000000</td><td>0</td><td>0</td><td>0</td><td>0.0000000</td><td>0</td><td>...</td><td>0</td><td>0</td><td>0</td><td>0</td><td>0</td><td>0</td><td>0</td><td>0</td><td>0</td><td>0</td></tr>\n",
       "\t<tr><th scope=row>2</th><td>0</td><td>0</td><td>0</td><td>0</td><td>0.1581173</td><td>0</td><td>0</td><td>0</td><td>0.1134209</td><td>0</td><td>...</td><td>0</td><td>0</td><td>0</td><td>0</td><td>0</td><td>0</td><td>0</td><td>0</td><td>0</td><td>0</td></tr>\n",
       "\t<tr><th scope=row>3</th><td>0</td><td>0</td><td>0</td><td>0</td><td>0.0000000</td><td>0</td><td>0</td><td>0</td><td>0.0000000</td><td>0</td><td>...</td><td>0</td><td>0</td><td>0</td><td>0</td><td>0</td><td>0</td><td>0</td><td>0</td><td>0</td><td>0</td></tr>\n",
       "\t<tr><th scope=row>4</th><td>0</td><td>0</td><td>0</td><td>0</td><td>0.0000000</td><td>0</td><td>0</td><td>0</td><td>0.0000000</td><td>0</td><td>...</td><td>0</td><td>0</td><td>0</td><td>0</td><td>0</td><td>0</td><td>0</td><td>0</td><td>0</td><td>0</td></tr>\n",
       "\t<tr><th scope=row>5</th><td>0</td><td>0</td><td>0</td><td>0</td><td>0.0000000</td><td>0</td><td>0</td><td>0</td><td>0.0000000</td><td>0</td><td>...</td><td>0</td><td>0</td><td>0</td><td>0</td><td>0</td><td>0</td><td>0</td><td>0</td><td>0</td><td>0</td></tr>\n",
       "\t<tr><th scope=row>6</th><td>0</td><td>0</td><td>0</td><td>0</td><td>0.0000000</td><td>0</td><td>0</td><td>0</td><td>0.0000000</td><td>0</td><td>...</td><td>0</td><td>0</td><td>0</td><td>0</td><td>0</td><td>0</td><td>0</td><td>0</td><td>0</td><td>0</td></tr>\n",
       "</tbody>\n",
       "</table>\n"
      ],
      "text/latex": [
       "A data.frame: 6 × 2108\n",
       "\\begin{tabular}{r|lllllllllllllllllllll}\n",
       "  & shallow & insan & still & circumst & portray & overview & experienc & X4 & serv & mountain & ... & ration & someon & recogn & danger & senior & back & independ & crucial & focu & awar\\\\\n",
       "  & <dbl> & <dbl> & <dbl> & <dbl> & <dbl> & <dbl> & <dbl> & <dbl> & <dbl> & <dbl> & ... & <dbl> & <dbl> & <dbl> & <dbl> & <dbl> & <dbl> & <dbl> & <dbl> & <dbl> & <dbl>\\\\\n",
       "\\hline\n",
       "\t1 & 0 & 0 & 0 & 0 & 0.0000000 & 0 & 0 & 0 & 0.0000000 & 0 & ... & 0 & 0 & 0 & 0 & 0 & 0 & 0 & 0 & 0 & 0\\\\\n",
       "\t2 & 0 & 0 & 0 & 0 & 0.1581173 & 0 & 0 & 0 & 0.1134209 & 0 & ... & 0 & 0 & 0 & 0 & 0 & 0 & 0 & 0 & 0 & 0\\\\\n",
       "\t3 & 0 & 0 & 0 & 0 & 0.0000000 & 0 & 0 & 0 & 0.0000000 & 0 & ... & 0 & 0 & 0 & 0 & 0 & 0 & 0 & 0 & 0 & 0\\\\\n",
       "\t4 & 0 & 0 & 0 & 0 & 0.0000000 & 0 & 0 & 0 & 0.0000000 & 0 & ... & 0 & 0 & 0 & 0 & 0 & 0 & 0 & 0 & 0 & 0\\\\\n",
       "\t5 & 0 & 0 & 0 & 0 & 0.0000000 & 0 & 0 & 0 & 0.0000000 & 0 & ... & 0 & 0 & 0 & 0 & 0 & 0 & 0 & 0 & 0 & 0\\\\\n",
       "\t6 & 0 & 0 & 0 & 0 & 0.0000000 & 0 & 0 & 0 & 0.0000000 & 0 & ... & 0 & 0 & 0 & 0 & 0 & 0 & 0 & 0 & 0 & 0\\\\\n",
       "\\end{tabular}\n"
      ],
      "text/markdown": [
       "\n",
       "A data.frame: 6 × 2108\n",
       "\n",
       "| <!--/--> | shallow &lt;dbl&gt; | insan &lt;dbl&gt; | still &lt;dbl&gt; | circumst &lt;dbl&gt; | portray &lt;dbl&gt; | overview &lt;dbl&gt; | experienc &lt;dbl&gt; | X4 &lt;dbl&gt; | serv &lt;dbl&gt; | mountain &lt;dbl&gt; | ... ... | ration &lt;dbl&gt; | someon &lt;dbl&gt; | recogn &lt;dbl&gt; | danger &lt;dbl&gt; | senior &lt;dbl&gt; | back &lt;dbl&gt; | independ &lt;dbl&gt; | crucial &lt;dbl&gt; | focu &lt;dbl&gt; | awar &lt;dbl&gt; |\n",
       "|---|---|---|---|---|---|---|---|---|---|---|---|---|---|---|---|---|---|---|---|---|---|\n",
       "| 1 | 0 | 0 | 0 | 0 | 0.0000000 | 0 | 0 | 0 | 0.0000000 | 0 | ... | 0 | 0 | 0 | 0 | 0 | 0 | 0 | 0 | 0 | 0 |\n",
       "| 2 | 0 | 0 | 0 | 0 | 0.1581173 | 0 | 0 | 0 | 0.1134209 | 0 | ... | 0 | 0 | 0 | 0 | 0 | 0 | 0 | 0 | 0 | 0 |\n",
       "| 3 | 0 | 0 | 0 | 0 | 0.0000000 | 0 | 0 | 0 | 0.0000000 | 0 | ... | 0 | 0 | 0 | 0 | 0 | 0 | 0 | 0 | 0 | 0 |\n",
       "| 4 | 0 | 0 | 0 | 0 | 0.0000000 | 0 | 0 | 0 | 0.0000000 | 0 | ... | 0 | 0 | 0 | 0 | 0 | 0 | 0 | 0 | 0 | 0 |\n",
       "| 5 | 0 | 0 | 0 | 0 | 0.0000000 | 0 | 0 | 0 | 0.0000000 | 0 | ... | 0 | 0 | 0 | 0 | 0 | 0 | 0 | 0 | 0 | 0 |\n",
       "| 6 | 0 | 0 | 0 | 0 | 0.0000000 | 0 | 0 | 0 | 0.0000000 | 0 | ... | 0 | 0 | 0 | 0 | 0 | 0 | 0 | 0 | 0 | 0 |\n",
       "\n"
      ],
      "text/plain": [
       "  shallow insan still circumst portray   overview experienc X4 serv     \n",
       "1 0       0     0     0        0.0000000 0        0         0  0.0000000\n",
       "2 0       0     0     0        0.1581173 0        0         0  0.1134209\n",
       "3 0       0     0     0        0.0000000 0        0         0  0.0000000\n",
       "4 0       0     0     0        0.0000000 0        0         0  0.0000000\n",
       "5 0       0     0     0        0.0000000 0        0         0  0.0000000\n",
       "6 0       0     0     0        0.0000000 0        0         0  0.0000000\n",
       "  mountain ... ration someon recogn danger senior back independ crucial focu\n",
       "1 0        ... 0      0      0      0      0      0    0        0       0   \n",
       "2 0        ... 0      0      0      0      0      0    0        0       0   \n",
       "3 0        ... 0      0      0      0      0      0    0        0       0   \n",
       "4 0        ... 0      0      0      0      0      0    0        0       0   \n",
       "5 0        ... 0      0      0      0      0      0    0        0       0   \n",
       "6 0        ... 0      0      0      0      0      0    0        0       0   \n",
       "  awar\n",
       "1 0   \n",
       "2 0   \n",
       "3 0   \n",
       "4 0   \n",
       "5 0   \n",
       "6 0   "
      ]
     },
     "metadata": {},
     "output_type": "display_data"
    }
   ],
   "source": [
    "head(Xtf)\n",
    "head(Xtfidf)"
   ]
  },
  {
   "cell_type": "markdown",
   "id": "777877b6",
   "metadata": {},
   "source": [
    "Count for each word the ratio between number of positive documents containing it and number of negative documents containing it"
   ]
  },
  {
   "cell_type": "code",
   "execution_count": 12,
   "id": "3c00d747",
   "metadata": {},
   "outputs": [],
   "source": [
    "xtf_pos=Xtf[1:1000,]\n",
    "xtf_neg=Xtf[1000:2000 ,]"
   ]
  },
  {
   "cell_type": "code",
   "execution_count": 13,
   "id": "d5b53094",
   "metadata": {},
   "outputs": [],
   "source": [
    "count_pos=apply(xtf_pos,2,count_fun)\n",
    "count_neg=apply(xtf_neg,2,count_fun)"
   ]
  },
  {
   "cell_type": "code",
   "execution_count": 14,
   "id": "e5a8d699",
   "metadata": {},
   "outputs": [],
   "source": [
    "ratio=count_pos/count_neg\n"
   ]
  },
  {
   "cell_type": "code",
   "execution_count": 15,
   "id": "e32282bf",
   "metadata": {},
   "outputs": [],
   "source": [
    "important_features=c()\n",
    "\n",
    "min_rate=0.5  \n",
    "\n",
    "max_rate=2\n",
    "\n",
    "for (i in 1:length(ratio))\n",
    "    {\n",
    "    if (ratio[i]<min_rate | ratio[i] > max_rate)  # the number of positive documents containing a word i is double or half of the number of negative documents conta\n",
    "        {\n",
    "        important_features=c(important_features , useful[i])\n",
    "    }\n",
    "}"
   ]
  },
  {
   "cell_type": "markdown",
   "id": "784aa6b7",
   "metadata": {},
   "source": [
    "The resulting dataset:"
   ]
  },
  {
   "cell_type": "code",
   "execution_count": 16,
   "id": "d420eaeb",
   "metadata": {},
   "outputs": [
    {
     "data": {
      "text/html": [
       "<table class=\"dataframe\">\n",
       "<caption>A data.frame: 6 × 378</caption>\n",
       "<thead>\n",
       "\t<tr><th></th><th scope=col>shallow</th><th scope=col>overview</th><th scope=col>broken</th><th scope=col>glad</th><th scope=col>manag</th><th scope=col>folk</th><th scope=col>recal</th><th scope=col>hardli</th><th scope=col>terrifi</th><th scope=col>lie</th><th scope=col>...</th><th scope=col>flat</th><th scope=col>varieti</th><th scope=col>masterpiec</th><th scope=col>superfici</th><th scope=col>X70</th><th scope=col>paperback</th><th scope=col>whatev</th><th scope=col>lean</th><th scope=col>utterli</th><th scope=col>recogn</th></tr>\n",
       "\t<tr><th></th><th scope=col>&lt;int&gt;</th><th scope=col>&lt;int&gt;</th><th scope=col>&lt;int&gt;</th><th scope=col>&lt;int&gt;</th><th scope=col>&lt;int&gt;</th><th scope=col>&lt;int&gt;</th><th scope=col>&lt;int&gt;</th><th scope=col>&lt;int&gt;</th><th scope=col>&lt;int&gt;</th><th scope=col>&lt;int&gt;</th><th scope=col>...</th><th scope=col>&lt;int&gt;</th><th scope=col>&lt;int&gt;</th><th scope=col>&lt;int&gt;</th><th scope=col>&lt;int&gt;</th><th scope=col>&lt;int&gt;</th><th scope=col>&lt;int&gt;</th><th scope=col>&lt;int&gt;</th><th scope=col>&lt;int&gt;</th><th scope=col>&lt;int&gt;</th><th scope=col>&lt;int&gt;</th></tr>\n",
       "</thead>\n",
       "<tbody>\n",
       "\t<tr><th scope=row>1</th><td>0</td><td>0</td><td>0</td><td>0</td><td>0</td><td>0</td><td>0</td><td>0</td><td>0</td><td>0</td><td>...</td><td>0</td><td>0</td><td>0</td><td>0</td><td>0</td><td>0</td><td>0</td><td>0</td><td>0</td><td>0</td></tr>\n",
       "\t<tr><th scope=row>2</th><td>0</td><td>1</td><td>0</td><td>0</td><td>0</td><td>0</td><td>0</td><td>0</td><td>0</td><td>0</td><td>...</td><td>0</td><td>0</td><td>0</td><td>0</td><td>0</td><td>0</td><td>0</td><td>0</td><td>0</td><td>0</td></tr>\n",
       "\t<tr><th scope=row>3</th><td>0</td><td>0</td><td>0</td><td>0</td><td>0</td><td>0</td><td>0</td><td>0</td><td>0</td><td>0</td><td>...</td><td>0</td><td>0</td><td>0</td><td>0</td><td>0</td><td>0</td><td>0</td><td>0</td><td>0</td><td>0</td></tr>\n",
       "\t<tr><th scope=row>4</th><td>0</td><td>0</td><td>0</td><td>0</td><td>0</td><td>0</td><td>0</td><td>0</td><td>0</td><td>0</td><td>...</td><td>0</td><td>0</td><td>0</td><td>0</td><td>0</td><td>0</td><td>0</td><td>0</td><td>0</td><td>0</td></tr>\n",
       "\t<tr><th scope=row>5</th><td>0</td><td>0</td><td>0</td><td>0</td><td>0</td><td>0</td><td>0</td><td>0</td><td>0</td><td>0</td><td>...</td><td>0</td><td>0</td><td>0</td><td>0</td><td>0</td><td>0</td><td>0</td><td>0</td><td>0</td><td>0</td></tr>\n",
       "\t<tr><th scope=row>6</th><td>0</td><td>0</td><td>0</td><td>0</td><td>0</td><td>0</td><td>0</td><td>0</td><td>0</td><td>0</td><td>...</td><td>0</td><td>0</td><td>0</td><td>0</td><td>0</td><td>0</td><td>0</td><td>0</td><td>0</td><td>0</td></tr>\n",
       "</tbody>\n",
       "</table>\n"
      ],
      "text/latex": [
       "A data.frame: 6 × 378\n",
       "\\begin{tabular}{r|lllllllllllllllllllll}\n",
       "  & shallow & overview & broken & glad & manag & folk & recal & hardli & terrifi & lie & ... & flat & varieti & masterpiec & superfici & X70 & paperback & whatev & lean & utterli & recogn\\\\\n",
       "  & <int> & <int> & <int> & <int> & <int> & <int> & <int> & <int> & <int> & <int> & ... & <int> & <int> & <int> & <int> & <int> & <int> & <int> & <int> & <int> & <int>\\\\\n",
       "\\hline\n",
       "\t1 & 0 & 0 & 0 & 0 & 0 & 0 & 0 & 0 & 0 & 0 & ... & 0 & 0 & 0 & 0 & 0 & 0 & 0 & 0 & 0 & 0\\\\\n",
       "\t2 & 0 & 1 & 0 & 0 & 0 & 0 & 0 & 0 & 0 & 0 & ... & 0 & 0 & 0 & 0 & 0 & 0 & 0 & 0 & 0 & 0\\\\\n",
       "\t3 & 0 & 0 & 0 & 0 & 0 & 0 & 0 & 0 & 0 & 0 & ... & 0 & 0 & 0 & 0 & 0 & 0 & 0 & 0 & 0 & 0\\\\\n",
       "\t4 & 0 & 0 & 0 & 0 & 0 & 0 & 0 & 0 & 0 & 0 & ... & 0 & 0 & 0 & 0 & 0 & 0 & 0 & 0 & 0 & 0\\\\\n",
       "\t5 & 0 & 0 & 0 & 0 & 0 & 0 & 0 & 0 & 0 & 0 & ... & 0 & 0 & 0 & 0 & 0 & 0 & 0 & 0 & 0 & 0\\\\\n",
       "\t6 & 0 & 0 & 0 & 0 & 0 & 0 & 0 & 0 & 0 & 0 & ... & 0 & 0 & 0 & 0 & 0 & 0 & 0 & 0 & 0 & 0\\\\\n",
       "\\end{tabular}\n"
      ],
      "text/markdown": [
       "\n",
       "A data.frame: 6 × 378\n",
       "\n",
       "| <!--/--> | shallow &lt;int&gt; | overview &lt;int&gt; | broken &lt;int&gt; | glad &lt;int&gt; | manag &lt;int&gt; | folk &lt;int&gt; | recal &lt;int&gt; | hardli &lt;int&gt; | terrifi &lt;int&gt; | lie &lt;int&gt; | ... ... | flat &lt;int&gt; | varieti &lt;int&gt; | masterpiec &lt;int&gt; | superfici &lt;int&gt; | X70 &lt;int&gt; | paperback &lt;int&gt; | whatev &lt;int&gt; | lean &lt;int&gt; | utterli &lt;int&gt; | recogn &lt;int&gt; |\n",
       "|---|---|---|---|---|---|---|---|---|---|---|---|---|---|---|---|---|---|---|---|---|---|\n",
       "| 1 | 0 | 0 | 0 | 0 | 0 | 0 | 0 | 0 | 0 | 0 | ... | 0 | 0 | 0 | 0 | 0 | 0 | 0 | 0 | 0 | 0 |\n",
       "| 2 | 0 | 1 | 0 | 0 | 0 | 0 | 0 | 0 | 0 | 0 | ... | 0 | 0 | 0 | 0 | 0 | 0 | 0 | 0 | 0 | 0 |\n",
       "| 3 | 0 | 0 | 0 | 0 | 0 | 0 | 0 | 0 | 0 | 0 | ... | 0 | 0 | 0 | 0 | 0 | 0 | 0 | 0 | 0 | 0 |\n",
       "| 4 | 0 | 0 | 0 | 0 | 0 | 0 | 0 | 0 | 0 | 0 | ... | 0 | 0 | 0 | 0 | 0 | 0 | 0 | 0 | 0 | 0 |\n",
       "| 5 | 0 | 0 | 0 | 0 | 0 | 0 | 0 | 0 | 0 | 0 | ... | 0 | 0 | 0 | 0 | 0 | 0 | 0 | 0 | 0 | 0 |\n",
       "| 6 | 0 | 0 | 0 | 0 | 0 | 0 | 0 | 0 | 0 | 0 | ... | 0 | 0 | 0 | 0 | 0 | 0 | 0 | 0 | 0 | 0 |\n",
       "\n"
      ],
      "text/plain": [
       "  shallow overview broken glad manag folk recal hardli terrifi lie ... flat\n",
       "1 0       0        0      0    0     0    0     0      0       0   ... 0   \n",
       "2 0       1        0      0    0     0    0     0      0       0   ... 0   \n",
       "3 0       0        0      0    0     0    0     0      0       0   ... 0   \n",
       "4 0       0        0      0    0     0    0     0      0       0   ... 0   \n",
       "5 0       0        0      0    0     0    0     0      0       0   ... 0   \n",
       "6 0       0        0      0    0     0    0     0      0       0   ... 0   \n",
       "  varieti masterpiec superfici X70 paperback whatev lean utterli recogn\n",
       "1 0       0          0         0   0         0      0    0       0     \n",
       "2 0       0          0         0   0         0      0    0       0     \n",
       "3 0       0          0         0   0         0      0    0       0     \n",
       "4 0       0          0         0   0         0      0    0       0     \n",
       "5 0       0          0         0   0         0      0    0       0     \n",
       "6 0       0          0         0   0         0      0    0       0     "
      ]
     },
     "metadata": {},
     "output_type": "display_data"
    },
    {
     "data": {
      "text/html": [
       "<table class=\"dataframe\">\n",
       "<caption>A data.frame: 6 × 378</caption>\n",
       "<thead>\n",
       "\t<tr><th></th><th scope=col>shallow</th><th scope=col>overview</th><th scope=col>broken</th><th scope=col>glad</th><th scope=col>manag</th><th scope=col>folk</th><th scope=col>recal</th><th scope=col>hardli</th><th scope=col>terrifi</th><th scope=col>lie</th><th scope=col>...</th><th scope=col>flat</th><th scope=col>varieti</th><th scope=col>masterpiec</th><th scope=col>superfici</th><th scope=col>X70</th><th scope=col>paperback</th><th scope=col>whatev</th><th scope=col>lean</th><th scope=col>utterli</th><th scope=col>recogn</th></tr>\n",
       "\t<tr><th></th><th scope=col>&lt;dbl&gt;</th><th scope=col>&lt;dbl&gt;</th><th scope=col>&lt;dbl&gt;</th><th scope=col>&lt;dbl&gt;</th><th scope=col>&lt;dbl&gt;</th><th scope=col>&lt;dbl&gt;</th><th scope=col>&lt;dbl&gt;</th><th scope=col>&lt;dbl&gt;</th><th scope=col>&lt;dbl&gt;</th><th scope=col>&lt;dbl&gt;</th><th scope=col>...</th><th scope=col>&lt;dbl&gt;</th><th scope=col>&lt;dbl&gt;</th><th scope=col>&lt;dbl&gt;</th><th scope=col>&lt;dbl&gt;</th><th scope=col>&lt;dbl&gt;</th><th scope=col>&lt;dbl&gt;</th><th scope=col>&lt;dbl&gt;</th><th scope=col>&lt;dbl&gt;</th><th scope=col>&lt;dbl&gt;</th><th scope=col>&lt;dbl&gt;</th></tr>\n",
       "</thead>\n",
       "<tbody>\n",
       "\t<tr><th scope=row>1</th><td>0</td><td>0</td><td>0</td><td>0</td><td>0.00000000</td><td>0</td><td>0</td><td>0</td><td>0</td><td>0</td><td>...</td><td>0</td><td>0</td><td>0</td><td>0</td><td>0</td><td>0</td><td>0</td><td>0</td><td>0.00000000</td><td>0</td></tr>\n",
       "\t<tr><th scope=row>2</th><td>0</td><td>0</td><td>0</td><td>0</td><td>0.00000000</td><td>0</td><td>0</td><td>0</td><td>0</td><td>0</td><td>...</td><td>0</td><td>0</td><td>0</td><td>0</td><td>0</td><td>0</td><td>0</td><td>0</td><td>0.00000000</td><td>0</td></tr>\n",
       "\t<tr><th scope=row>3</th><td>0</td><td>0</td><td>0</td><td>0</td><td>0.00000000</td><td>0</td><td>0</td><td>0</td><td>0</td><td>0</td><td>...</td><td>0</td><td>0</td><td>0</td><td>0</td><td>0</td><td>0</td><td>0</td><td>0</td><td>0.00000000</td><td>0</td></tr>\n",
       "\t<tr><th scope=row>4</th><td>0</td><td>0</td><td>0</td><td>0</td><td>0.00000000</td><td>0</td><td>0</td><td>0</td><td>0</td><td>0</td><td>...</td><td>0</td><td>0</td><td>0</td><td>0</td><td>0</td><td>0</td><td>0</td><td>0</td><td>0.00000000</td><td>0</td></tr>\n",
       "\t<tr><th scope=row>5</th><td>0</td><td>0</td><td>0</td><td>0</td><td>0.04427999</td><td>0</td><td>0</td><td>0</td><td>0</td><td>0</td><td>...</td><td>0</td><td>0</td><td>0</td><td>0</td><td>0</td><td>0</td><td>0</td><td>0</td><td>0.06016664</td><td>0</td></tr>\n",
       "\t<tr><th scope=row>6</th><td>0</td><td>0</td><td>0</td><td>0</td><td>0.00000000</td><td>0</td><td>0</td><td>0</td><td>0</td><td>0</td><td>...</td><td>0</td><td>0</td><td>0</td><td>0</td><td>0</td><td>0</td><td>0</td><td>0</td><td>0.00000000</td><td>0</td></tr>\n",
       "</tbody>\n",
       "</table>\n"
      ],
      "text/latex": [
       "A data.frame: 6 × 378\n",
       "\\begin{tabular}{r|lllllllllllllllllllll}\n",
       "  & shallow & overview & broken & glad & manag & folk & recal & hardli & terrifi & lie & ... & flat & varieti & masterpiec & superfici & X70 & paperback & whatev & lean & utterli & recogn\\\\\n",
       "  & <dbl> & <dbl> & <dbl> & <dbl> & <dbl> & <dbl> & <dbl> & <dbl> & <dbl> & <dbl> & ... & <dbl> & <dbl> & <dbl> & <dbl> & <dbl> & <dbl> & <dbl> & <dbl> & <dbl> & <dbl>\\\\\n",
       "\\hline\n",
       "\t1 & 0 & 0 & 0 & 0 & 0.00000000 & 0 & 0 & 0 & 0 & 0 & ... & 0 & 0 & 0 & 0 & 0 & 0 & 0 & 0 & 0.00000000 & 0\\\\\n",
       "\t2 & 0 & 0 & 0 & 0 & 0.00000000 & 0 & 0 & 0 & 0 & 0 & ... & 0 & 0 & 0 & 0 & 0 & 0 & 0 & 0 & 0.00000000 & 0\\\\\n",
       "\t3 & 0 & 0 & 0 & 0 & 0.00000000 & 0 & 0 & 0 & 0 & 0 & ... & 0 & 0 & 0 & 0 & 0 & 0 & 0 & 0 & 0.00000000 & 0\\\\\n",
       "\t4 & 0 & 0 & 0 & 0 & 0.00000000 & 0 & 0 & 0 & 0 & 0 & ... & 0 & 0 & 0 & 0 & 0 & 0 & 0 & 0 & 0.00000000 & 0\\\\\n",
       "\t5 & 0 & 0 & 0 & 0 & 0.04427999 & 0 & 0 & 0 & 0 & 0 & ... & 0 & 0 & 0 & 0 & 0 & 0 & 0 & 0 & 0.06016664 & 0\\\\\n",
       "\t6 & 0 & 0 & 0 & 0 & 0.00000000 & 0 & 0 & 0 & 0 & 0 & ... & 0 & 0 & 0 & 0 & 0 & 0 & 0 & 0 & 0.00000000 & 0\\\\\n",
       "\\end{tabular}\n"
      ],
      "text/markdown": [
       "\n",
       "A data.frame: 6 × 378\n",
       "\n",
       "| <!--/--> | shallow &lt;dbl&gt; | overview &lt;dbl&gt; | broken &lt;dbl&gt; | glad &lt;dbl&gt; | manag &lt;dbl&gt; | folk &lt;dbl&gt; | recal &lt;dbl&gt; | hardli &lt;dbl&gt; | terrifi &lt;dbl&gt; | lie &lt;dbl&gt; | ... ... | flat &lt;dbl&gt; | varieti &lt;dbl&gt; | masterpiec &lt;dbl&gt; | superfici &lt;dbl&gt; | X70 &lt;dbl&gt; | paperback &lt;dbl&gt; | whatev &lt;dbl&gt; | lean &lt;dbl&gt; | utterli &lt;dbl&gt; | recogn &lt;dbl&gt; |\n",
       "|---|---|---|---|---|---|---|---|---|---|---|---|---|---|---|---|---|---|---|---|---|---|\n",
       "| 1 | 0 | 0 | 0 | 0 | 0.00000000 | 0 | 0 | 0 | 0 | 0 | ... | 0 | 0 | 0 | 0 | 0 | 0 | 0 | 0 | 0.00000000 | 0 |\n",
       "| 2 | 0 | 0 | 0 | 0 | 0.00000000 | 0 | 0 | 0 | 0 | 0 | ... | 0 | 0 | 0 | 0 | 0 | 0 | 0 | 0 | 0.00000000 | 0 |\n",
       "| 3 | 0 | 0 | 0 | 0 | 0.00000000 | 0 | 0 | 0 | 0 | 0 | ... | 0 | 0 | 0 | 0 | 0 | 0 | 0 | 0 | 0.00000000 | 0 |\n",
       "| 4 | 0 | 0 | 0 | 0 | 0.00000000 | 0 | 0 | 0 | 0 | 0 | ... | 0 | 0 | 0 | 0 | 0 | 0 | 0 | 0 | 0.00000000 | 0 |\n",
       "| 5 | 0 | 0 | 0 | 0 | 0.04427999 | 0 | 0 | 0 | 0 | 0 | ... | 0 | 0 | 0 | 0 | 0 | 0 | 0 | 0 | 0.06016664 | 0 |\n",
       "| 6 | 0 | 0 | 0 | 0 | 0.00000000 | 0 | 0 | 0 | 0 | 0 | ... | 0 | 0 | 0 | 0 | 0 | 0 | 0 | 0 | 0.00000000 | 0 |\n",
       "\n"
      ],
      "text/plain": [
       "  shallow overview broken glad manag      folk recal hardli terrifi lie ...\n",
       "1 0       0        0      0    0.00000000 0    0     0      0       0   ...\n",
       "2 0       0        0      0    0.00000000 0    0     0      0       0   ...\n",
       "3 0       0        0      0    0.00000000 0    0     0      0       0   ...\n",
       "4 0       0        0      0    0.00000000 0    0     0      0       0   ...\n",
       "5 0       0        0      0    0.04427999 0    0     0      0       0   ...\n",
       "6 0       0        0      0    0.00000000 0    0     0      0       0   ...\n",
       "  flat varieti masterpiec superfici X70 paperback whatev lean utterli    recogn\n",
       "1 0    0       0          0         0   0         0      0    0.00000000 0     \n",
       "2 0    0       0          0         0   0         0      0    0.00000000 0     \n",
       "3 0    0       0          0         0   0         0      0    0.00000000 0     \n",
       "4 0    0       0          0         0   0         0      0    0.00000000 0     \n",
       "5 0    0       0          0         0   0         0      0    0.06016664 0     \n",
       "6 0    0       0          0         0   0         0      0    0.00000000 0     "
      ]
     },
     "metadata": {},
     "output_type": "display_data"
    }
   ],
   "source": [
    "Xtf=Xtf[,important_features]\n",
    "Xtfidf=Xtfidf[,important_features]\n",
    "\n",
    "head(Xtf)\n",
    "head(Xtfidf)"
   ]
  },
  {
   "cell_type": "markdown",
   "id": "6bab2132",
   "metadata": {},
   "source": [
    "### 3) Ranking features by correlation"
   ]
  },
  {
   "cell_type": "markdown",
   "id": "690077a3",
   "metadata": {},
   "source": [
    "Ranking by correlation keeping the 90 most meaningful features"
   ]
  },
  {
   "cell_type": "code",
   "execution_count": 17,
   "id": "81991db2",
   "metadata": {},
   "outputs": [],
   "source": [
    "ranking_feature_correlation<-function(X,Y,max_num_of_features)\n",
    "    \n",
    "    {\n",
    "    n<-ncol(X)\n",
    "    features<-c()\n",
    "    vec_corr<-c()\n",
    "    for (i in 1:n)\n",
    "        { vec_corr<-c(vec_corr,abs(cor(X[,i],Y)))}\n",
    "    features<-sort(vec_corr,decre=TRUE,index=TRUE)$ix[1:max_num_of_features]\n",
    "    return(features)\n",
    "    \n",
    "}\n",
    "\n"
   ]
  },
  {
   "cell_type": "code",
   "execution_count": 18,
   "id": "37024c1c",
   "metadata": {},
   "outputs": [],
   "source": [
    "xtf=Xtf\n",
    "\n",
    "xtfidf=Xtfidf\n"
   ]
  },
  {
   "cell_type": "code",
   "execution_count": 19,
   "id": "be06170d",
   "metadata": {},
   "outputs": [],
   "source": [
    "xtf=as.matrix(xtf)\n",
    "xtfidf=as.matrix(xtfidf)\n",
    "\n"
   ]
  },
  {
   "cell_type": "code",
   "execution_count": 20,
   "id": "eae63cea",
   "metadata": {},
   "outputs": [],
   "source": [
    "subset_tf=ranking_feature_correlation(xtf,ytf,90)\n"
   ]
  },
  {
   "cell_type": "code",
   "execution_count": 25,
   "id": "d9be0d50",
   "metadata": {},
   "outputs": [
    {
     "name": "stdout",
     "output_type": "stream",
     "text": [
      " [1] \"bore\"          \"disappoint\"    \"bad\"           \"wast\"         \n",
      " [5] \"instead\"       \"easi\"          \"highli\"        \"excel\"        \n",
      " [9] \"lack\"          \"poorli\"        \"unfortun\"      \"favorit\"      \n",
      "[13] \"skip\"          \"sorri\"         \"stupid\"        \"beauti\"       \n",
      "[17] \"got\"           \"suppos\"        \"noth\"          \"predict\"      \n",
      "[21] \"import\"        \"step\"          \"share\"         \"fail\"         \n",
      "[25] \"money\"         \"anyth\"         \"appli\"         \"journey\"      \n",
      "[29] \"dull\"          \"whatev\"        \"flat\"          \"useless\"      \n",
      "[33] \"wors\"          \"endless\"       \"passion\"       \"gotten\"       \n",
      "[37] \"vagu\"          \"claim\"         \"tire\"          \"whatsoev\"     \n",
      "[41] \"X2\"            \"soon\"          \"unless\"        \"lesson\"       \n",
      "[45] \"ridicul\"       \"mention\"       \"gift\"          \"humor\"        \n",
      "[49] \"half\"          \"bother\"        \"masterpiec\"    \"appreci\"      \n",
      "[53] \"centuri\"       \"fascin\"        \"X..1\"          \"benefit\"      \n",
      "[57] \"devot\"         \"vivid\"         \"substanc\"      \"mistak\"       \n",
      "[61] \"neither\"       \"superfici\"     \"worst\"         \"steel\"        \n",
      "[65] \"decent\"        \"expand\"        \"establish\"     \"premis\"       \n",
      "[69] \"paragraph\"     \"X100\"          \"town\"          \"garbag\"       \n",
      "[73] \"illustr\"       \"remark\"        \"shallow\"       \"glad\"         \n",
      "[77] \"unrealist\"     \"carl\"          \"friendship\"    \"weak\"         \n",
      "[81] \"fantast\"       \"comprehens\"    \"rambl\"         \"suspect\"      \n",
      "[85] \"explor\"        \"guy\"           \"honestli\"      \"invit\"        \n",
      "[89] \"extraordinari\" \"outstand\"     \n"
     ]
    }
   ],
   "source": [
    "print(colnames(xtf)[subset_tf])"
   ]
  },
  {
   "cell_type": "code",
   "execution_count": 26,
   "id": "4e332009",
   "metadata": {},
   "outputs": [],
   "source": [
    "x_reduced=xtf[,subset_tf]\n",
    "x_reduced_idf=xtfidf[,subset_tf]"
   ]
  },
  {
   "cell_type": "code",
   "execution_count": 27,
   "id": "6b910ec7",
   "metadata": {},
   "outputs": [
    {
     "data": {
      "text/html": [
       "<table class=\"dataframe\">\n",
       "<caption>A matrix: 6 × 90 of type int</caption>\n",
       "<thead>\n",
       "\t<tr><th scope=col>bore</th><th scope=col>disappoint</th><th scope=col>bad</th><th scope=col>wast</th><th scope=col>instead</th><th scope=col>easi</th><th scope=col>highli</th><th scope=col>excel</th><th scope=col>lack</th><th scope=col>poorli</th><th scope=col>...</th><th scope=col>fantast</th><th scope=col>comprehens</th><th scope=col>rambl</th><th scope=col>suspect</th><th scope=col>explor</th><th scope=col>guy</th><th scope=col>honestli</th><th scope=col>invit</th><th scope=col>extraordinari</th><th scope=col>outstand</th></tr>\n",
       "</thead>\n",
       "<tbody>\n",
       "\t<tr><td>0</td><td>0</td><td>0</td><td>0</td><td>0</td><td>0</td><td>0</td><td>1</td><td>0</td><td>0</td><td>...</td><td>0</td><td>0</td><td>0</td><td>0</td><td>1</td><td>0</td><td>0</td><td>0</td><td>0</td><td>0</td></tr>\n",
       "\t<tr><td>1</td><td>1</td><td>0</td><td>0</td><td>0</td><td>0</td><td>0</td><td>1</td><td>0</td><td>0</td><td>...</td><td>0</td><td>0</td><td>0</td><td>0</td><td>0</td><td>0</td><td>0</td><td>0</td><td>0</td><td>0</td></tr>\n",
       "\t<tr><td>0</td><td>0</td><td>0</td><td>0</td><td>0</td><td>0</td><td>0</td><td>0</td><td>0</td><td>0</td><td>...</td><td>0</td><td>0</td><td>0</td><td>0</td><td>0</td><td>0</td><td>0</td><td>0</td><td>1</td><td>0</td></tr>\n",
       "\t<tr><td>0</td><td>0</td><td>0</td><td>0</td><td>0</td><td>0</td><td>0</td><td>0</td><td>0</td><td>0</td><td>...</td><td>0</td><td>0</td><td>0</td><td>0</td><td>0</td><td>0</td><td>0</td><td>0</td><td>0</td><td>0</td></tr>\n",
       "\t<tr><td>0</td><td>0</td><td>0</td><td>0</td><td>0</td><td>0</td><td>0</td><td>0</td><td>0</td><td>0</td><td>...</td><td>0</td><td>0</td><td>0</td><td>0</td><td>0</td><td>0</td><td>0</td><td>0</td><td>0</td><td>0</td></tr>\n",
       "\t<tr><td>0</td><td>0</td><td>0</td><td>0</td><td>0</td><td>0</td><td>0</td><td>1</td><td>0</td><td>0</td><td>...</td><td>0</td><td>0</td><td>0</td><td>0</td><td>0</td><td>0</td><td>0</td><td>0</td><td>0</td><td>0</td></tr>\n",
       "</tbody>\n",
       "</table>\n"
      ],
      "text/latex": [
       "A matrix: 6 × 90 of type int\n",
       "\\begin{tabular}{lllllllllllllllllllll}\n",
       " bore & disappoint & bad & wast & instead & easi & highli & excel & lack & poorli & ... & fantast & comprehens & rambl & suspect & explor & guy & honestli & invit & extraordinari & outstand\\\\\n",
       "\\hline\n",
       "\t 0 & 0 & 0 & 0 & 0 & 0 & 0 & 1 & 0 & 0 & ... & 0 & 0 & 0 & 0 & 1 & 0 & 0 & 0 & 0 & 0\\\\\n",
       "\t 1 & 1 & 0 & 0 & 0 & 0 & 0 & 1 & 0 & 0 & ... & 0 & 0 & 0 & 0 & 0 & 0 & 0 & 0 & 0 & 0\\\\\n",
       "\t 0 & 0 & 0 & 0 & 0 & 0 & 0 & 0 & 0 & 0 & ... & 0 & 0 & 0 & 0 & 0 & 0 & 0 & 0 & 1 & 0\\\\\n",
       "\t 0 & 0 & 0 & 0 & 0 & 0 & 0 & 0 & 0 & 0 & ... & 0 & 0 & 0 & 0 & 0 & 0 & 0 & 0 & 0 & 0\\\\\n",
       "\t 0 & 0 & 0 & 0 & 0 & 0 & 0 & 0 & 0 & 0 & ... & 0 & 0 & 0 & 0 & 0 & 0 & 0 & 0 & 0 & 0\\\\\n",
       "\t 0 & 0 & 0 & 0 & 0 & 0 & 0 & 1 & 0 & 0 & ... & 0 & 0 & 0 & 0 & 0 & 0 & 0 & 0 & 0 & 0\\\\\n",
       "\\end{tabular}\n"
      ],
      "text/markdown": [
       "\n",
       "A matrix: 6 × 90 of type int\n",
       "\n",
       "| bore | disappoint | bad | wast | instead | easi | highli | excel | lack | poorli | ... | fantast | comprehens | rambl | suspect | explor | guy | honestli | invit | extraordinari | outstand |\n",
       "|---|---|---|---|---|---|---|---|---|---|---|---|---|---|---|---|---|---|---|---|---|\n",
       "| 0 | 0 | 0 | 0 | 0 | 0 | 0 | 1 | 0 | 0 | ... | 0 | 0 | 0 | 0 | 1 | 0 | 0 | 0 | 0 | 0 |\n",
       "| 1 | 1 | 0 | 0 | 0 | 0 | 0 | 1 | 0 | 0 | ... | 0 | 0 | 0 | 0 | 0 | 0 | 0 | 0 | 0 | 0 |\n",
       "| 0 | 0 | 0 | 0 | 0 | 0 | 0 | 0 | 0 | 0 | ... | 0 | 0 | 0 | 0 | 0 | 0 | 0 | 0 | 1 | 0 |\n",
       "| 0 | 0 | 0 | 0 | 0 | 0 | 0 | 0 | 0 | 0 | ... | 0 | 0 | 0 | 0 | 0 | 0 | 0 | 0 | 0 | 0 |\n",
       "| 0 | 0 | 0 | 0 | 0 | 0 | 0 | 0 | 0 | 0 | ... | 0 | 0 | 0 | 0 | 0 | 0 | 0 | 0 | 0 | 0 |\n",
       "| 0 | 0 | 0 | 0 | 0 | 0 | 0 | 1 | 0 | 0 | ... | 0 | 0 | 0 | 0 | 0 | 0 | 0 | 0 | 0 | 0 |\n",
       "\n"
      ],
      "text/plain": [
       "     bore disappoint bad wast instead easi highli excel lack poorli ... fantast\n",
       "[1,] 0    0          0   0    0       0    0      1     0    0      ... 0      \n",
       "[2,] 1    1          0   0    0       0    0      1     0    0      ... 0      \n",
       "[3,] 0    0          0   0    0       0    0      0     0    0      ... 0      \n",
       "[4,] 0    0          0   0    0       0    0      0     0    0      ... 0      \n",
       "[5,] 0    0          0   0    0       0    0      0     0    0      ... 0      \n",
       "[6,] 0    0          0   0    0       0    0      1     0    0      ... 0      \n",
       "     comprehens rambl suspect explor guy honestli invit extraordinari outstand\n",
       "[1,] 0          0     0       1      0   0        0     0             0       \n",
       "[2,] 0          0     0       0      0   0        0     0             0       \n",
       "[3,] 0          0     0       0      0   0        0     1             0       \n",
       "[4,] 0          0     0       0      0   0        0     0             0       \n",
       "[5,] 0          0     0       0      0   0        0     0             0       \n",
       "[6,] 0          0     0       0      0   0        0     0             0       "
      ]
     },
     "metadata": {},
     "output_type": "display_data"
    },
    {
     "data": {
      "text/html": [
       "<table class=\"dataframe\">\n",
       "<caption>A matrix: 6 × 90 of type dbl</caption>\n",
       "<thead>\n",
       "\t<tr><th scope=col>bore</th><th scope=col>disappoint</th><th scope=col>bad</th><th scope=col>wast</th><th scope=col>instead</th><th scope=col>easi</th><th scope=col>highli</th><th scope=col>excel</th><th scope=col>lack</th><th scope=col>poorli</th><th scope=col>...</th><th scope=col>fantast</th><th scope=col>comprehens</th><th scope=col>rambl</th><th scope=col>suspect</th><th scope=col>explor</th><th scope=col>guy</th><th scope=col>honestli</th><th scope=col>invit</th><th scope=col>extraordinari</th><th scope=col>outstand</th></tr>\n",
       "</thead>\n",
       "<tbody>\n",
       "\t<tr><td>0</td><td>0</td><td>0.0000000</td><td>0.2687397</td><td>0</td><td>0</td><td>0</td><td>0</td><td>0</td><td>0</td><td>...</td><td>0</td><td>0</td><td>0</td><td>0</td><td>0</td><td>0</td><td>0</td><td>0</td><td>0</td><td>0</td></tr>\n",
       "\t<tr><td>0</td><td>0</td><td>0.0000000</td><td>0.0000000</td><td>0</td><td>0</td><td>0</td><td>0</td><td>0</td><td>0</td><td>...</td><td>0</td><td>0</td><td>0</td><td>0</td><td>0</td><td>0</td><td>0</td><td>0</td><td>0</td><td>0</td></tr>\n",
       "\t<tr><td>0</td><td>0</td><td>0.0000000</td><td>0.2687397</td><td>0</td><td>0</td><td>0</td><td>0</td><td>0</td><td>0</td><td>...</td><td>0</td><td>0</td><td>0</td><td>0</td><td>0</td><td>0</td><td>0</td><td>0</td><td>0</td><td>0</td></tr>\n",
       "\t<tr><td>0</td><td>0</td><td>0.1768567</td><td>0.0000000</td><td>0</td><td>0</td><td>0</td><td>0</td><td>0</td><td>0</td><td>...</td><td>0</td><td>0</td><td>0</td><td>0</td><td>0</td><td>0</td><td>0</td><td>0</td><td>0</td><td>0</td></tr>\n",
       "\t<tr><td>0</td><td>0</td><td>0.0000000</td><td>0.0000000</td><td>0</td><td>0</td><td>0</td><td>0</td><td>0</td><td>0</td><td>...</td><td>0</td><td>0</td><td>0</td><td>0</td><td>0</td><td>0</td><td>0</td><td>0</td><td>0</td><td>0</td></tr>\n",
       "\t<tr><td>0</td><td>0</td><td>0.0000000</td><td>0.0000000</td><td>0</td><td>0</td><td>0</td><td>0</td><td>0</td><td>0</td><td>...</td><td>0</td><td>0</td><td>0</td><td>0</td><td>0</td><td>0</td><td>0</td><td>0</td><td>0</td><td>0</td></tr>\n",
       "</tbody>\n",
       "</table>\n"
      ],
      "text/latex": [
       "A matrix: 6 × 90 of type dbl\n",
       "\\begin{tabular}{lllllllllllllllllllll}\n",
       " bore & disappoint & bad & wast & instead & easi & highli & excel & lack & poorli & ... & fantast & comprehens & rambl & suspect & explor & guy & honestli & invit & extraordinari & outstand\\\\\n",
       "\\hline\n",
       "\t 0 & 0 & 0.0000000 & 0.2687397 & 0 & 0 & 0 & 0 & 0 & 0 & ... & 0 & 0 & 0 & 0 & 0 & 0 & 0 & 0 & 0 & 0\\\\\n",
       "\t 0 & 0 & 0.0000000 & 0.0000000 & 0 & 0 & 0 & 0 & 0 & 0 & ... & 0 & 0 & 0 & 0 & 0 & 0 & 0 & 0 & 0 & 0\\\\\n",
       "\t 0 & 0 & 0.0000000 & 0.2687397 & 0 & 0 & 0 & 0 & 0 & 0 & ... & 0 & 0 & 0 & 0 & 0 & 0 & 0 & 0 & 0 & 0\\\\\n",
       "\t 0 & 0 & 0.1768567 & 0.0000000 & 0 & 0 & 0 & 0 & 0 & 0 & ... & 0 & 0 & 0 & 0 & 0 & 0 & 0 & 0 & 0 & 0\\\\\n",
       "\t 0 & 0 & 0.0000000 & 0.0000000 & 0 & 0 & 0 & 0 & 0 & 0 & ... & 0 & 0 & 0 & 0 & 0 & 0 & 0 & 0 & 0 & 0\\\\\n",
       "\t 0 & 0 & 0.0000000 & 0.0000000 & 0 & 0 & 0 & 0 & 0 & 0 & ... & 0 & 0 & 0 & 0 & 0 & 0 & 0 & 0 & 0 & 0\\\\\n",
       "\\end{tabular}\n"
      ],
      "text/markdown": [
       "\n",
       "A matrix: 6 × 90 of type dbl\n",
       "\n",
       "| bore | disappoint | bad | wast | instead | easi | highli | excel | lack | poorli | ... | fantast | comprehens | rambl | suspect | explor | guy | honestli | invit | extraordinari | outstand |\n",
       "|---|---|---|---|---|---|---|---|---|---|---|---|---|---|---|---|---|---|---|---|---|\n",
       "| 0 | 0 | 0.0000000 | 0.2687397 | 0 | 0 | 0 | 0 | 0 | 0 | ... | 0 | 0 | 0 | 0 | 0 | 0 | 0 | 0 | 0 | 0 |\n",
       "| 0 | 0 | 0.0000000 | 0.0000000 | 0 | 0 | 0 | 0 | 0 | 0 | ... | 0 | 0 | 0 | 0 | 0 | 0 | 0 | 0 | 0 | 0 |\n",
       "| 0 | 0 | 0.0000000 | 0.2687397 | 0 | 0 | 0 | 0 | 0 | 0 | ... | 0 | 0 | 0 | 0 | 0 | 0 | 0 | 0 | 0 | 0 |\n",
       "| 0 | 0 | 0.1768567 | 0.0000000 | 0 | 0 | 0 | 0 | 0 | 0 | ... | 0 | 0 | 0 | 0 | 0 | 0 | 0 | 0 | 0 | 0 |\n",
       "| 0 | 0 | 0.0000000 | 0.0000000 | 0 | 0 | 0 | 0 | 0 | 0 | ... | 0 | 0 | 0 | 0 | 0 | 0 | 0 | 0 | 0 | 0 |\n",
       "| 0 | 0 | 0.0000000 | 0.0000000 | 0 | 0 | 0 | 0 | 0 | 0 | ... | 0 | 0 | 0 | 0 | 0 | 0 | 0 | 0 | 0 | 0 |\n",
       "\n"
      ],
      "text/plain": [
       "     bore disappoint bad       wast      instead easi highli excel lack poorli\n",
       "[1,] 0    0          0.0000000 0.2687397 0       0    0      0     0    0     \n",
       "[2,] 0    0          0.0000000 0.0000000 0       0    0      0     0    0     \n",
       "[3,] 0    0          0.0000000 0.2687397 0       0    0      0     0    0     \n",
       "[4,] 0    0          0.1768567 0.0000000 0       0    0      0     0    0     \n",
       "[5,] 0    0          0.0000000 0.0000000 0       0    0      0     0    0     \n",
       "[6,] 0    0          0.0000000 0.0000000 0       0    0      0     0    0     \n",
       "     ... fantast comprehens rambl suspect explor guy honestli invit\n",
       "[1,] ... 0       0          0     0       0      0   0        0    \n",
       "[2,] ... 0       0          0     0       0      0   0        0    \n",
       "[3,] ... 0       0          0     0       0      0   0        0    \n",
       "[4,] ... 0       0          0     0       0      0   0        0    \n",
       "[5,] ... 0       0          0     0       0      0   0        0    \n",
       "[6,] ... 0       0          0     0       0      0   0        0    \n",
       "     extraordinari outstand\n",
       "[1,] 0             0       \n",
       "[2,] 0             0       \n",
       "[3,] 0             0       \n",
       "[4,] 0             0       \n",
       "[5,] 0             0       \n",
       "[6,] 0             0       "
      ]
     },
     "metadata": {},
     "output_type": "display_data"
    }
   ],
   "source": [
    "head(x_reduced)\n",
    "head(x_reduced_idf)"
   ]
  },
  {
   "cell_type": "code",
   "execution_count": 28,
   "id": "5726cfba",
   "metadata": {},
   "outputs": [
    {
     "data": {
      "text/html": [
       "<table class=\"dataframe\">\n",
       "<caption>A data.frame: 6 × 91</caption>\n",
       "<thead>\n",
       "\t<tr><th></th><th scope=col>bore</th><th scope=col>disappoint</th><th scope=col>bad</th><th scope=col>wast</th><th scope=col>instead</th><th scope=col>easi</th><th scope=col>highli</th><th scope=col>excel</th><th scope=col>lack</th><th scope=col>poorli</th><th scope=col>...</th><th scope=col>comprehens</th><th scope=col>rambl</th><th scope=col>suspect</th><th scope=col>explor</th><th scope=col>guy</th><th scope=col>honestli</th><th scope=col>invit</th><th scope=col>extraordinari</th><th scope=col>outstand</th><th scope=col>type_text</th></tr>\n",
       "\t<tr><th></th><th scope=col>&lt;int&gt;</th><th scope=col>&lt;int&gt;</th><th scope=col>&lt;int&gt;</th><th scope=col>&lt;int&gt;</th><th scope=col>&lt;int&gt;</th><th scope=col>&lt;int&gt;</th><th scope=col>&lt;int&gt;</th><th scope=col>&lt;int&gt;</th><th scope=col>&lt;int&gt;</th><th scope=col>&lt;int&gt;</th><th scope=col>...</th><th scope=col>&lt;int&gt;</th><th scope=col>&lt;int&gt;</th><th scope=col>&lt;int&gt;</th><th scope=col>&lt;int&gt;</th><th scope=col>&lt;int&gt;</th><th scope=col>&lt;int&gt;</th><th scope=col>&lt;int&gt;</th><th scope=col>&lt;int&gt;</th><th scope=col>&lt;int&gt;</th><th scope=col>&lt;int&gt;</th></tr>\n",
       "</thead>\n",
       "<tbody>\n",
       "\t<tr><th scope=row>1</th><td>0</td><td>0</td><td>0</td><td>0</td><td>0</td><td>0</td><td>0</td><td>1</td><td>0</td><td>0</td><td>...</td><td>0</td><td>0</td><td>0</td><td>1</td><td>0</td><td>0</td><td>0</td><td>0</td><td>0</td><td>1</td></tr>\n",
       "\t<tr><th scope=row>2</th><td>1</td><td>1</td><td>0</td><td>0</td><td>0</td><td>0</td><td>0</td><td>1</td><td>0</td><td>0</td><td>...</td><td>0</td><td>0</td><td>0</td><td>0</td><td>0</td><td>0</td><td>0</td><td>0</td><td>0</td><td>1</td></tr>\n",
       "\t<tr><th scope=row>3</th><td>0</td><td>0</td><td>0</td><td>0</td><td>0</td><td>0</td><td>0</td><td>0</td><td>0</td><td>0</td><td>...</td><td>0</td><td>0</td><td>0</td><td>0</td><td>0</td><td>0</td><td>0</td><td>1</td><td>0</td><td>1</td></tr>\n",
       "\t<tr><th scope=row>4</th><td>0</td><td>0</td><td>0</td><td>0</td><td>0</td><td>0</td><td>0</td><td>0</td><td>0</td><td>0</td><td>...</td><td>0</td><td>0</td><td>0</td><td>0</td><td>0</td><td>0</td><td>0</td><td>0</td><td>0</td><td>1</td></tr>\n",
       "\t<tr><th scope=row>5</th><td>0</td><td>0</td><td>0</td><td>0</td><td>0</td><td>0</td><td>0</td><td>0</td><td>0</td><td>0</td><td>...</td><td>0</td><td>0</td><td>0</td><td>0</td><td>0</td><td>0</td><td>0</td><td>0</td><td>0</td><td>1</td></tr>\n",
       "\t<tr><th scope=row>6</th><td>0</td><td>0</td><td>0</td><td>0</td><td>0</td><td>0</td><td>0</td><td>1</td><td>0</td><td>0</td><td>...</td><td>0</td><td>0</td><td>0</td><td>0</td><td>0</td><td>0</td><td>0</td><td>0</td><td>0</td><td>1</td></tr>\n",
       "</tbody>\n",
       "</table>\n"
      ],
      "text/latex": [
       "A data.frame: 6 × 91\n",
       "\\begin{tabular}{r|lllllllllllllllllllll}\n",
       "  & bore & disappoint & bad & wast & instead & easi & highli & excel & lack & poorli & ... & comprehens & rambl & suspect & explor & guy & honestli & invit & extraordinari & outstand & type\\_text\\\\\n",
       "  & <int> & <int> & <int> & <int> & <int> & <int> & <int> & <int> & <int> & <int> & ... & <int> & <int> & <int> & <int> & <int> & <int> & <int> & <int> & <int> & <int>\\\\\n",
       "\\hline\n",
       "\t1 & 0 & 0 & 0 & 0 & 0 & 0 & 0 & 1 & 0 & 0 & ... & 0 & 0 & 0 & 1 & 0 & 0 & 0 & 0 & 0 & 1\\\\\n",
       "\t2 & 1 & 1 & 0 & 0 & 0 & 0 & 0 & 1 & 0 & 0 & ... & 0 & 0 & 0 & 0 & 0 & 0 & 0 & 0 & 0 & 1\\\\\n",
       "\t3 & 0 & 0 & 0 & 0 & 0 & 0 & 0 & 0 & 0 & 0 & ... & 0 & 0 & 0 & 0 & 0 & 0 & 0 & 1 & 0 & 1\\\\\n",
       "\t4 & 0 & 0 & 0 & 0 & 0 & 0 & 0 & 0 & 0 & 0 & ... & 0 & 0 & 0 & 0 & 0 & 0 & 0 & 0 & 0 & 1\\\\\n",
       "\t5 & 0 & 0 & 0 & 0 & 0 & 0 & 0 & 0 & 0 & 0 & ... & 0 & 0 & 0 & 0 & 0 & 0 & 0 & 0 & 0 & 1\\\\\n",
       "\t6 & 0 & 0 & 0 & 0 & 0 & 0 & 0 & 1 & 0 & 0 & ... & 0 & 0 & 0 & 0 & 0 & 0 & 0 & 0 & 0 & 1\\\\\n",
       "\\end{tabular}\n"
      ],
      "text/markdown": [
       "\n",
       "A data.frame: 6 × 91\n",
       "\n",
       "| <!--/--> | bore &lt;int&gt; | disappoint &lt;int&gt; | bad &lt;int&gt; | wast &lt;int&gt; | instead &lt;int&gt; | easi &lt;int&gt; | highli &lt;int&gt; | excel &lt;int&gt; | lack &lt;int&gt; | poorli &lt;int&gt; | ... ... | comprehens &lt;int&gt; | rambl &lt;int&gt; | suspect &lt;int&gt; | explor &lt;int&gt; | guy &lt;int&gt; | honestli &lt;int&gt; | invit &lt;int&gt; | extraordinari &lt;int&gt; | outstand &lt;int&gt; | type_text &lt;int&gt; |\n",
       "|---|---|---|---|---|---|---|---|---|---|---|---|---|---|---|---|---|---|---|---|---|---|\n",
       "| 1 | 0 | 0 | 0 | 0 | 0 | 0 | 0 | 1 | 0 | 0 | ... | 0 | 0 | 0 | 1 | 0 | 0 | 0 | 0 | 0 | 1 |\n",
       "| 2 | 1 | 1 | 0 | 0 | 0 | 0 | 0 | 1 | 0 | 0 | ... | 0 | 0 | 0 | 0 | 0 | 0 | 0 | 0 | 0 | 1 |\n",
       "| 3 | 0 | 0 | 0 | 0 | 0 | 0 | 0 | 0 | 0 | 0 | ... | 0 | 0 | 0 | 0 | 0 | 0 | 0 | 1 | 0 | 1 |\n",
       "| 4 | 0 | 0 | 0 | 0 | 0 | 0 | 0 | 0 | 0 | 0 | ... | 0 | 0 | 0 | 0 | 0 | 0 | 0 | 0 | 0 | 1 |\n",
       "| 5 | 0 | 0 | 0 | 0 | 0 | 0 | 0 | 0 | 0 | 0 | ... | 0 | 0 | 0 | 0 | 0 | 0 | 0 | 0 | 0 | 1 |\n",
       "| 6 | 0 | 0 | 0 | 0 | 0 | 0 | 0 | 1 | 0 | 0 | ... | 0 | 0 | 0 | 0 | 0 | 0 | 0 | 0 | 0 | 1 |\n",
       "\n"
      ],
      "text/plain": [
       "  bore disappoint bad wast instead easi highli excel lack poorli ... comprehens\n",
       "1 0    0          0   0    0       0    0      1     0    0      ... 0         \n",
       "2 1    1          0   0    0       0    0      1     0    0      ... 0         \n",
       "3 0    0          0   0    0       0    0      0     0    0      ... 0         \n",
       "4 0    0          0   0    0       0    0      0     0    0      ... 0         \n",
       "5 0    0          0   0    0       0    0      0     0    0      ... 0         \n",
       "6 0    0          0   0    0       0    0      1     0    0      ... 0         \n",
       "  rambl suspect explor guy honestli invit extraordinari outstand type_text\n",
       "1 0     0       1      0   0        0     0             0        1        \n",
       "2 0     0       0      0   0        0     0             0        1        \n",
       "3 0     0       0      0   0        0     1             0        1        \n",
       "4 0     0       0      0   0        0     0             0        1        \n",
       "5 0     0       0      0   0        0     0             0        1        \n",
       "6 0     0       0      0   0        0     0             0        1        "
      ]
     },
     "metadata": {},
     "output_type": "display_data"
    },
    {
     "data": {
      "text/html": [
       "<table class=\"dataframe\">\n",
       "<caption>A data.frame: 6 × 91</caption>\n",
       "<thead>\n",
       "\t<tr><th></th><th scope=col>bore</th><th scope=col>disappoint</th><th scope=col>bad</th><th scope=col>wast</th><th scope=col>instead</th><th scope=col>easi</th><th scope=col>highli</th><th scope=col>excel</th><th scope=col>lack</th><th scope=col>poorli</th><th scope=col>...</th><th scope=col>comprehens</th><th scope=col>rambl</th><th scope=col>suspect</th><th scope=col>explor</th><th scope=col>guy</th><th scope=col>honestli</th><th scope=col>invit</th><th scope=col>extraordinari</th><th scope=col>outstand</th><th scope=col>type_text</th></tr>\n",
       "\t<tr><th></th><th scope=col>&lt;dbl&gt;</th><th scope=col>&lt;dbl&gt;</th><th scope=col>&lt;dbl&gt;</th><th scope=col>&lt;dbl&gt;</th><th scope=col>&lt;dbl&gt;</th><th scope=col>&lt;dbl&gt;</th><th scope=col>&lt;dbl&gt;</th><th scope=col>&lt;dbl&gt;</th><th scope=col>&lt;dbl&gt;</th><th scope=col>&lt;dbl&gt;</th><th scope=col>...</th><th scope=col>&lt;dbl&gt;</th><th scope=col>&lt;dbl&gt;</th><th scope=col>&lt;dbl&gt;</th><th scope=col>&lt;dbl&gt;</th><th scope=col>&lt;dbl&gt;</th><th scope=col>&lt;dbl&gt;</th><th scope=col>&lt;dbl&gt;</th><th scope=col>&lt;dbl&gt;</th><th scope=col>&lt;dbl&gt;</th><th scope=col>&lt;int&gt;</th></tr>\n",
       "</thead>\n",
       "<tbody>\n",
       "\t<tr><th scope=row>1</th><td>0</td><td>0</td><td>0.0000000</td><td>0.2687397</td><td>0</td><td>0</td><td>0</td><td>0</td><td>0</td><td>0</td><td>...</td><td>0</td><td>0</td><td>0</td><td>0</td><td>0</td><td>0</td><td>0</td><td>0</td><td>0</td><td>0</td></tr>\n",
       "\t<tr><th scope=row>2</th><td>0</td><td>0</td><td>0.0000000</td><td>0.0000000</td><td>0</td><td>0</td><td>0</td><td>0</td><td>0</td><td>0</td><td>...</td><td>0</td><td>0</td><td>0</td><td>0</td><td>0</td><td>0</td><td>0</td><td>0</td><td>0</td><td>0</td></tr>\n",
       "\t<tr><th scope=row>3</th><td>0</td><td>0</td><td>0.0000000</td><td>0.2687397</td><td>0</td><td>0</td><td>0</td><td>0</td><td>0</td><td>0</td><td>...</td><td>0</td><td>0</td><td>0</td><td>0</td><td>0</td><td>0</td><td>0</td><td>0</td><td>0</td><td>0</td></tr>\n",
       "\t<tr><th scope=row>4</th><td>0</td><td>0</td><td>0.1768567</td><td>0.0000000</td><td>0</td><td>0</td><td>0</td><td>0</td><td>0</td><td>0</td><td>...</td><td>0</td><td>0</td><td>0</td><td>0</td><td>0</td><td>0</td><td>0</td><td>0</td><td>0</td><td>0</td></tr>\n",
       "\t<tr><th scope=row>5</th><td>0</td><td>0</td><td>0.0000000</td><td>0.0000000</td><td>0</td><td>0</td><td>0</td><td>0</td><td>0</td><td>0</td><td>...</td><td>0</td><td>0</td><td>0</td><td>0</td><td>0</td><td>0</td><td>0</td><td>0</td><td>0</td><td>0</td></tr>\n",
       "\t<tr><th scope=row>6</th><td>0</td><td>0</td><td>0.0000000</td><td>0.0000000</td><td>0</td><td>0</td><td>0</td><td>0</td><td>0</td><td>0</td><td>...</td><td>0</td><td>0</td><td>0</td><td>0</td><td>0</td><td>0</td><td>0</td><td>0</td><td>0</td><td>0</td></tr>\n",
       "</tbody>\n",
       "</table>\n"
      ],
      "text/latex": [
       "A data.frame: 6 × 91\n",
       "\\begin{tabular}{r|lllllllllllllllllllll}\n",
       "  & bore & disappoint & bad & wast & instead & easi & highli & excel & lack & poorli & ... & comprehens & rambl & suspect & explor & guy & honestli & invit & extraordinari & outstand & type\\_text\\\\\n",
       "  & <dbl> & <dbl> & <dbl> & <dbl> & <dbl> & <dbl> & <dbl> & <dbl> & <dbl> & <dbl> & ... & <dbl> & <dbl> & <dbl> & <dbl> & <dbl> & <dbl> & <dbl> & <dbl> & <dbl> & <int>\\\\\n",
       "\\hline\n",
       "\t1 & 0 & 0 & 0.0000000 & 0.2687397 & 0 & 0 & 0 & 0 & 0 & 0 & ... & 0 & 0 & 0 & 0 & 0 & 0 & 0 & 0 & 0 & 0\\\\\n",
       "\t2 & 0 & 0 & 0.0000000 & 0.0000000 & 0 & 0 & 0 & 0 & 0 & 0 & ... & 0 & 0 & 0 & 0 & 0 & 0 & 0 & 0 & 0 & 0\\\\\n",
       "\t3 & 0 & 0 & 0.0000000 & 0.2687397 & 0 & 0 & 0 & 0 & 0 & 0 & ... & 0 & 0 & 0 & 0 & 0 & 0 & 0 & 0 & 0 & 0\\\\\n",
       "\t4 & 0 & 0 & 0.1768567 & 0.0000000 & 0 & 0 & 0 & 0 & 0 & 0 & ... & 0 & 0 & 0 & 0 & 0 & 0 & 0 & 0 & 0 & 0\\\\\n",
       "\t5 & 0 & 0 & 0.0000000 & 0.0000000 & 0 & 0 & 0 & 0 & 0 & 0 & ... & 0 & 0 & 0 & 0 & 0 & 0 & 0 & 0 & 0 & 0\\\\\n",
       "\t6 & 0 & 0 & 0.0000000 & 0.0000000 & 0 & 0 & 0 & 0 & 0 & 0 & ... & 0 & 0 & 0 & 0 & 0 & 0 & 0 & 0 & 0 & 0\\\\\n",
       "\\end{tabular}\n"
      ],
      "text/markdown": [
       "\n",
       "A data.frame: 6 × 91\n",
       "\n",
       "| <!--/--> | bore &lt;dbl&gt; | disappoint &lt;dbl&gt; | bad &lt;dbl&gt; | wast &lt;dbl&gt; | instead &lt;dbl&gt; | easi &lt;dbl&gt; | highli &lt;dbl&gt; | excel &lt;dbl&gt; | lack &lt;dbl&gt; | poorli &lt;dbl&gt; | ... ... | comprehens &lt;dbl&gt; | rambl &lt;dbl&gt; | suspect &lt;dbl&gt; | explor &lt;dbl&gt; | guy &lt;dbl&gt; | honestli &lt;dbl&gt; | invit &lt;dbl&gt; | extraordinari &lt;dbl&gt; | outstand &lt;dbl&gt; | type_text &lt;int&gt; |\n",
       "|---|---|---|---|---|---|---|---|---|---|---|---|---|---|---|---|---|---|---|---|---|---|\n",
       "| 1 | 0 | 0 | 0.0000000 | 0.2687397 | 0 | 0 | 0 | 0 | 0 | 0 | ... | 0 | 0 | 0 | 0 | 0 | 0 | 0 | 0 | 0 | 0 |\n",
       "| 2 | 0 | 0 | 0.0000000 | 0.0000000 | 0 | 0 | 0 | 0 | 0 | 0 | ... | 0 | 0 | 0 | 0 | 0 | 0 | 0 | 0 | 0 | 0 |\n",
       "| 3 | 0 | 0 | 0.0000000 | 0.2687397 | 0 | 0 | 0 | 0 | 0 | 0 | ... | 0 | 0 | 0 | 0 | 0 | 0 | 0 | 0 | 0 | 0 |\n",
       "| 4 | 0 | 0 | 0.1768567 | 0.0000000 | 0 | 0 | 0 | 0 | 0 | 0 | ... | 0 | 0 | 0 | 0 | 0 | 0 | 0 | 0 | 0 | 0 |\n",
       "| 5 | 0 | 0 | 0.0000000 | 0.0000000 | 0 | 0 | 0 | 0 | 0 | 0 | ... | 0 | 0 | 0 | 0 | 0 | 0 | 0 | 0 | 0 | 0 |\n",
       "| 6 | 0 | 0 | 0.0000000 | 0.0000000 | 0 | 0 | 0 | 0 | 0 | 0 | ... | 0 | 0 | 0 | 0 | 0 | 0 | 0 | 0 | 0 | 0 |\n",
       "\n"
      ],
      "text/plain": [
       "  bore disappoint bad       wast      instead easi highli excel lack poorli ...\n",
       "1 0    0          0.0000000 0.2687397 0       0    0      0     0    0      ...\n",
       "2 0    0          0.0000000 0.0000000 0       0    0      0     0    0      ...\n",
       "3 0    0          0.0000000 0.2687397 0       0    0      0     0    0      ...\n",
       "4 0    0          0.1768567 0.0000000 0       0    0      0     0    0      ...\n",
       "5 0    0          0.0000000 0.0000000 0       0    0      0     0    0      ...\n",
       "6 0    0          0.0000000 0.0000000 0       0    0      0     0    0      ...\n",
       "  comprehens rambl suspect explor guy honestli invit extraordinari outstand\n",
       "1 0          0     0       0      0   0        0     0             0       \n",
       "2 0          0     0       0      0   0        0     0             0       \n",
       "3 0          0     0       0      0   0        0     0             0       \n",
       "4 0          0     0       0      0   0        0     0             0       \n",
       "5 0          0     0       0      0   0        0     0             0       \n",
       "6 0          0     0       0      0   0        0     0             0       \n",
       "  type_text\n",
       "1 0        \n",
       "2 0        \n",
       "3 0        \n",
       "4 0        \n",
       "5 0        \n",
       "6 0        "
      ]
     },
     "metadata": {},
     "output_type": "display_data"
    }
   ],
   "source": [
    "x_red=as.data.frame(x_reduced)\n",
    "x_red=cbind(x_red,text_type=ytf)\n",
    "head(x_red)\n",
    "\n",
    "\n",
    "\n",
    "x_red_idf=as.data.frame(x_reduced_idf)\n",
    "x_red_idf=cbind(x_red_idf,text_type=ytfidf)\n",
    "head(x_red_idf)\n"
   ]
  },
  {
   "cell_type": "markdown",
   "id": "52f83619",
   "metadata": {},
   "source": [
    "### 4) Export of csv files"
   ]
  },
  {
   "cell_type": "code",
   "execution_count": 19,
   "id": "b2757e26",
   "metadata": {},
   "outputs": [],
   "source": [
    "write.csv(x_red_idf, \"tfidf_red_90.csv\",row.names=FALSE)\n",
    "write.csv(x_red , \"tf_red_90.csv\",row.names=FALSE)"
   ]
  }
 ],
 "metadata": {
  "kernelspec": {
   "display_name": "R",
   "language": "R",
   "name": "ir"
  },
  "language_info": {
   "codemirror_mode": "r",
   "file_extension": ".r",
   "mimetype": "text/x-r-source",
   "name": "R",
   "pygments_lexer": "r",
   "version": "4.1.2"
  }
 },
 "nbformat": 4,
 "nbformat_minor": 5
}
