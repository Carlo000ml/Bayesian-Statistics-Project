{
 "cells": [
  {
   "cell_type": "markdown",
   "id": "84c58f41",
   "metadata": {},
   "source": [
    "### 1) Import of data"
   ]
  },
  {
   "cell_type": "code",
   "execution_count": 8,
   "id": "cbef3d18",
   "metadata": {},
   "outputs": [],
   "source": [
    "import pandas as pd\n",
    "import numpy as np"
   ]
  },
  {
   "cell_type": "code",
   "execution_count": 3,
   "id": "24e71be4",
   "metadata": {},
   "outputs": [],
   "source": [
    "tfidf=pd.read_csv(\"reduced.csv\")"
   ]
  },
  {
   "cell_type": "code",
   "execution_count": 4,
   "id": "f4c8409a",
   "metadata": {},
   "outputs": [
    {
     "data": {
      "text/html": [
       "<div>\n",
       "<style scoped>\n",
       "    .dataframe tbody tr th:only-of-type {\n",
       "        vertical-align: middle;\n",
       "    }\n",
       "\n",
       "    .dataframe tbody tr th {\n",
       "        vertical-align: top;\n",
       "    }\n",
       "\n",
       "    .dataframe thead th {\n",
       "        text-align: right;\n",
       "    }\n",
       "</style>\n",
       "<table border=\"1\" class=\"dataframe\">\n",
       "  <thead>\n",
       "    <tr style=\"text-align: right;\">\n",
       "      <th></th>\n",
       "      <th>shallow</th>\n",
       "      <th>insan</th>\n",
       "      <th>still</th>\n",
       "      <th>circumst</th>\n",
       "      <th>portray</th>\n",
       "      <th>overview</th>\n",
       "      <th>experienc</th>\n",
       "      <th>serv</th>\n",
       "      <th>mountain</th>\n",
       "      <th>cours</th>\n",
       "      <th>...</th>\n",
       "      <th>someon</th>\n",
       "      <th>recogn</th>\n",
       "      <th>danger</th>\n",
       "      <th>senior</th>\n",
       "      <th>suppli</th>\n",
       "      <th>back</th>\n",
       "      <th>independ</th>\n",
       "      <th>crucial</th>\n",
       "      <th>focu</th>\n",
       "      <th>awar</th>\n",
       "    </tr>\n",
       "  </thead>\n",
       "  <tbody>\n",
       "    <tr>\n",
       "      <th>0</th>\n",
       "      <td>0.0</td>\n",
       "      <td>0.0</td>\n",
       "      <td>0.0</td>\n",
       "      <td>0.0</td>\n",
       "      <td>0.000000</td>\n",
       "      <td>0.0</td>\n",
       "      <td>0.0</td>\n",
       "      <td>0.000000</td>\n",
       "      <td>0.0</td>\n",
       "      <td>0.0</td>\n",
       "      <td>...</td>\n",
       "      <td>0.0</td>\n",
       "      <td>0.0</td>\n",
       "      <td>0.0</td>\n",
       "      <td>0.0</td>\n",
       "      <td>0.0</td>\n",
       "      <td>0.0</td>\n",
       "      <td>0.0</td>\n",
       "      <td>0.0</td>\n",
       "      <td>0.0</td>\n",
       "      <td>0.0</td>\n",
       "    </tr>\n",
       "    <tr>\n",
       "      <th>1</th>\n",
       "      <td>0.0</td>\n",
       "      <td>0.0</td>\n",
       "      <td>0.0</td>\n",
       "      <td>0.0</td>\n",
       "      <td>0.158117</td>\n",
       "      <td>0.0</td>\n",
       "      <td>0.0</td>\n",
       "      <td>0.113421</td>\n",
       "      <td>0.0</td>\n",
       "      <td>0.0</td>\n",
       "      <td>...</td>\n",
       "      <td>0.0</td>\n",
       "      <td>0.0</td>\n",
       "      <td>0.0</td>\n",
       "      <td>0.0</td>\n",
       "      <td>0.0</td>\n",
       "      <td>0.0</td>\n",
       "      <td>0.0</td>\n",
       "      <td>0.0</td>\n",
       "      <td>0.0</td>\n",
       "      <td>0.0</td>\n",
       "    </tr>\n",
       "    <tr>\n",
       "      <th>2</th>\n",
       "      <td>0.0</td>\n",
       "      <td>0.0</td>\n",
       "      <td>0.0</td>\n",
       "      <td>0.0</td>\n",
       "      <td>0.000000</td>\n",
       "      <td>0.0</td>\n",
       "      <td>0.0</td>\n",
       "      <td>0.000000</td>\n",
       "      <td>0.0</td>\n",
       "      <td>0.0</td>\n",
       "      <td>...</td>\n",
       "      <td>0.0</td>\n",
       "      <td>0.0</td>\n",
       "      <td>0.0</td>\n",
       "      <td>0.0</td>\n",
       "      <td>0.0</td>\n",
       "      <td>0.0</td>\n",
       "      <td>0.0</td>\n",
       "      <td>0.0</td>\n",
       "      <td>0.0</td>\n",
       "      <td>0.0</td>\n",
       "    </tr>\n",
       "    <tr>\n",
       "      <th>3</th>\n",
       "      <td>0.0</td>\n",
       "      <td>0.0</td>\n",
       "      <td>0.0</td>\n",
       "      <td>0.0</td>\n",
       "      <td>0.000000</td>\n",
       "      <td>0.0</td>\n",
       "      <td>0.0</td>\n",
       "      <td>0.000000</td>\n",
       "      <td>0.0</td>\n",
       "      <td>0.0</td>\n",
       "      <td>...</td>\n",
       "      <td>0.0</td>\n",
       "      <td>0.0</td>\n",
       "      <td>0.0</td>\n",
       "      <td>0.0</td>\n",
       "      <td>0.0</td>\n",
       "      <td>0.0</td>\n",
       "      <td>0.0</td>\n",
       "      <td>0.0</td>\n",
       "      <td>0.0</td>\n",
       "      <td>0.0</td>\n",
       "    </tr>\n",
       "    <tr>\n",
       "      <th>4</th>\n",
       "      <td>0.0</td>\n",
       "      <td>0.0</td>\n",
       "      <td>0.0</td>\n",
       "      <td>0.0</td>\n",
       "      <td>0.000000</td>\n",
       "      <td>0.0</td>\n",
       "      <td>0.0</td>\n",
       "      <td>0.000000</td>\n",
       "      <td>0.0</td>\n",
       "      <td>0.0</td>\n",
       "      <td>...</td>\n",
       "      <td>0.0</td>\n",
       "      <td>0.0</td>\n",
       "      <td>0.0</td>\n",
       "      <td>0.0</td>\n",
       "      <td>0.0</td>\n",
       "      <td>0.0</td>\n",
       "      <td>0.0</td>\n",
       "      <td>0.0</td>\n",
       "      <td>0.0</td>\n",
       "      <td>0.0</td>\n",
       "    </tr>\n",
       "  </tbody>\n",
       "</table>\n",
       "<p>5 rows × 2403 columns</p>\n",
       "</div>"
      ],
      "text/plain": [
       "   shallow  insan  still  circumst   portray  overview  experienc      serv  \\\n",
       "0      0.0    0.0    0.0       0.0  0.000000       0.0        0.0  0.000000   \n",
       "1      0.0    0.0    0.0       0.0  0.158117       0.0        0.0  0.113421   \n",
       "2      0.0    0.0    0.0       0.0  0.000000       0.0        0.0  0.000000   \n",
       "3      0.0    0.0    0.0       0.0  0.000000       0.0        0.0  0.000000   \n",
       "4      0.0    0.0    0.0       0.0  0.000000       0.0        0.0  0.000000   \n",
       "\n",
       "   mountain  cours  ...  someon  recogn  danger  senior  suppli  back  \\\n",
       "0       0.0    0.0  ...     0.0     0.0     0.0     0.0     0.0   0.0   \n",
       "1       0.0    0.0  ...     0.0     0.0     0.0     0.0     0.0   0.0   \n",
       "2       0.0    0.0  ...     0.0     0.0     0.0     0.0     0.0   0.0   \n",
       "3       0.0    0.0  ...     0.0     0.0     0.0     0.0     0.0   0.0   \n",
       "4       0.0    0.0  ...     0.0     0.0     0.0     0.0     0.0   0.0   \n",
       "\n",
       "   independ  crucial  focu  awar  \n",
       "0       0.0      0.0   0.0   0.0  \n",
       "1       0.0      0.0   0.0   0.0  \n",
       "2       0.0      0.0   0.0   0.0  \n",
       "3       0.0      0.0   0.0   0.0  \n",
       "4       0.0      0.0   0.0   0.0  \n",
       "\n",
       "[5 rows x 2403 columns]"
      ]
     },
     "execution_count": 4,
     "metadata": {},
     "output_type": "execute_result"
    }
   ],
   "source": [
    "tfidf.head()"
   ]
  },
  {
   "cell_type": "code",
   "execution_count": 9,
   "id": "ebb04f94",
   "metadata": {},
   "outputs": [],
   "source": [
    "df=tfidf\n",
    "\n",
    "y1=[0 for i in range (1000)]\n",
    "y2=[1 for i in range(1000)]\n",
    "y=y1+y2\n",
    "y=np.array(y)"
   ]
  },
  {
   "cell_type": "markdown",
   "id": "7bdbc3ae",
   "metadata": {},
   "source": [
    "Covariates:"
   ]
  },
  {
   "cell_type": "code",
   "execution_count": 10,
   "id": "9f701750",
   "metadata": {},
   "outputs": [
    {
     "data": {
      "text/html": [
       "<div>\n",
       "<style scoped>\n",
       "    .dataframe tbody tr th:only-of-type {\n",
       "        vertical-align: middle;\n",
       "    }\n",
       "\n",
       "    .dataframe tbody tr th {\n",
       "        vertical-align: top;\n",
       "    }\n",
       "\n",
       "    .dataframe thead th {\n",
       "        text-align: right;\n",
       "    }\n",
       "</style>\n",
       "<table border=\"1\" class=\"dataframe\">\n",
       "  <thead>\n",
       "    <tr style=\"text-align: right;\">\n",
       "      <th></th>\n",
       "      <th>shallow</th>\n",
       "      <th>insan</th>\n",
       "      <th>still</th>\n",
       "      <th>circumst</th>\n",
       "      <th>portray</th>\n",
       "      <th>overview</th>\n",
       "      <th>experienc</th>\n",
       "      <th>serv</th>\n",
       "      <th>mountain</th>\n",
       "      <th>cours</th>\n",
       "      <th>...</th>\n",
       "      <th>someon</th>\n",
       "      <th>recogn</th>\n",
       "      <th>danger</th>\n",
       "      <th>senior</th>\n",
       "      <th>suppli</th>\n",
       "      <th>back</th>\n",
       "      <th>independ</th>\n",
       "      <th>crucial</th>\n",
       "      <th>focu</th>\n",
       "      <th>awar</th>\n",
       "    </tr>\n",
       "  </thead>\n",
       "  <tbody>\n",
       "    <tr>\n",
       "      <th>0</th>\n",
       "      <td>0.0</td>\n",
       "      <td>0.0</td>\n",
       "      <td>0.0</td>\n",
       "      <td>0.0</td>\n",
       "      <td>0.000000</td>\n",
       "      <td>0.0</td>\n",
       "      <td>0.0</td>\n",
       "      <td>0.000000</td>\n",
       "      <td>0.0</td>\n",
       "      <td>0.0</td>\n",
       "      <td>...</td>\n",
       "      <td>0.0</td>\n",
       "      <td>0.0</td>\n",
       "      <td>0.0</td>\n",
       "      <td>0.0</td>\n",
       "      <td>0.0</td>\n",
       "      <td>0.0</td>\n",
       "      <td>0.0</td>\n",
       "      <td>0.0</td>\n",
       "      <td>0.0</td>\n",
       "      <td>0.0</td>\n",
       "    </tr>\n",
       "    <tr>\n",
       "      <th>1</th>\n",
       "      <td>0.0</td>\n",
       "      <td>0.0</td>\n",
       "      <td>0.0</td>\n",
       "      <td>0.0</td>\n",
       "      <td>0.158117</td>\n",
       "      <td>0.0</td>\n",
       "      <td>0.0</td>\n",
       "      <td>0.113421</td>\n",
       "      <td>0.0</td>\n",
       "      <td>0.0</td>\n",
       "      <td>...</td>\n",
       "      <td>0.0</td>\n",
       "      <td>0.0</td>\n",
       "      <td>0.0</td>\n",
       "      <td>0.0</td>\n",
       "      <td>0.0</td>\n",
       "      <td>0.0</td>\n",
       "      <td>0.0</td>\n",
       "      <td>0.0</td>\n",
       "      <td>0.0</td>\n",
       "      <td>0.0</td>\n",
       "    </tr>\n",
       "    <tr>\n",
       "      <th>2</th>\n",
       "      <td>0.0</td>\n",
       "      <td>0.0</td>\n",
       "      <td>0.0</td>\n",
       "      <td>0.0</td>\n",
       "      <td>0.000000</td>\n",
       "      <td>0.0</td>\n",
       "      <td>0.0</td>\n",
       "      <td>0.000000</td>\n",
       "      <td>0.0</td>\n",
       "      <td>0.0</td>\n",
       "      <td>...</td>\n",
       "      <td>0.0</td>\n",
       "      <td>0.0</td>\n",
       "      <td>0.0</td>\n",
       "      <td>0.0</td>\n",
       "      <td>0.0</td>\n",
       "      <td>0.0</td>\n",
       "      <td>0.0</td>\n",
       "      <td>0.0</td>\n",
       "      <td>0.0</td>\n",
       "      <td>0.0</td>\n",
       "    </tr>\n",
       "    <tr>\n",
       "      <th>3</th>\n",
       "      <td>0.0</td>\n",
       "      <td>0.0</td>\n",
       "      <td>0.0</td>\n",
       "      <td>0.0</td>\n",
       "      <td>0.000000</td>\n",
       "      <td>0.0</td>\n",
       "      <td>0.0</td>\n",
       "      <td>0.000000</td>\n",
       "      <td>0.0</td>\n",
       "      <td>0.0</td>\n",
       "      <td>...</td>\n",
       "      <td>0.0</td>\n",
       "      <td>0.0</td>\n",
       "      <td>0.0</td>\n",
       "      <td>0.0</td>\n",
       "      <td>0.0</td>\n",
       "      <td>0.0</td>\n",
       "      <td>0.0</td>\n",
       "      <td>0.0</td>\n",
       "      <td>0.0</td>\n",
       "      <td>0.0</td>\n",
       "    </tr>\n",
       "    <tr>\n",
       "      <th>4</th>\n",
       "      <td>0.0</td>\n",
       "      <td>0.0</td>\n",
       "      <td>0.0</td>\n",
       "      <td>0.0</td>\n",
       "      <td>0.000000</td>\n",
       "      <td>0.0</td>\n",
       "      <td>0.0</td>\n",
       "      <td>0.000000</td>\n",
       "      <td>0.0</td>\n",
       "      <td>0.0</td>\n",
       "      <td>...</td>\n",
       "      <td>0.0</td>\n",
       "      <td>0.0</td>\n",
       "      <td>0.0</td>\n",
       "      <td>0.0</td>\n",
       "      <td>0.0</td>\n",
       "      <td>0.0</td>\n",
       "      <td>0.0</td>\n",
       "      <td>0.0</td>\n",
       "      <td>0.0</td>\n",
       "      <td>0.0</td>\n",
       "    </tr>\n",
       "  </tbody>\n",
       "</table>\n",
       "<p>5 rows × 2403 columns</p>\n",
       "</div>"
      ],
      "text/plain": [
       "   shallow  insan  still  circumst   portray  overview  experienc      serv  \\\n",
       "0      0.0    0.0    0.0       0.0  0.000000       0.0        0.0  0.000000   \n",
       "1      0.0    0.0    0.0       0.0  0.158117       0.0        0.0  0.113421   \n",
       "2      0.0    0.0    0.0       0.0  0.000000       0.0        0.0  0.000000   \n",
       "3      0.0    0.0    0.0       0.0  0.000000       0.0        0.0  0.000000   \n",
       "4      0.0    0.0    0.0       0.0  0.000000       0.0        0.0  0.000000   \n",
       "\n",
       "   mountain  cours  ...  someon  recogn  danger  senior  suppli  back  \\\n",
       "0       0.0    0.0  ...     0.0     0.0     0.0     0.0     0.0   0.0   \n",
       "1       0.0    0.0  ...     0.0     0.0     0.0     0.0     0.0   0.0   \n",
       "2       0.0    0.0  ...     0.0     0.0     0.0     0.0     0.0   0.0   \n",
       "3       0.0    0.0  ...     0.0     0.0     0.0     0.0     0.0   0.0   \n",
       "4       0.0    0.0  ...     0.0     0.0     0.0     0.0     0.0   0.0   \n",
       "\n",
       "   independ  crucial  focu  awar  \n",
       "0       0.0      0.0   0.0   0.0  \n",
       "1       0.0      0.0   0.0   0.0  \n",
       "2       0.0      0.0   0.0   0.0  \n",
       "3       0.0      0.0   0.0   0.0  \n",
       "4       0.0      0.0   0.0   0.0  \n",
       "\n",
       "[5 rows x 2403 columns]"
      ]
     },
     "execution_count": 10,
     "metadata": {},
     "output_type": "execute_result"
    }
   ],
   "source": [
    "x=df\n",
    "names=x.columns\n",
    "x.head()"
   ]
  },
  {
   "cell_type": "code",
   "execution_count": 20,
   "id": "dcd00ef0",
   "metadata": {},
   "outputs": [],
   "source": [
    "import math as m"
   ]
  },
  {
   "cell_type": "code",
   "execution_count": 11,
   "id": "ed2f5bd7",
   "metadata": {},
   "outputs": [],
   "source": [
    "import numpy as np\n",
    "\n",
    "import os\n",
    "import numpy as np\n",
    "os.environ['CMDSTAN'] = '/Users/carlo/.cmdstan/cmdstan-2.30.1'\n",
    "\n",
    "import cmdstanpy\n",
    "\n",
    "from cmdstanpy import cmdstan_path, CmdStanModel\n",
    "\n",
    "import arviz as az\n",
    "import seaborn as sns\n",
    "import matplotlib.pyplot as plt\n",
    "\n"
   ]
  },
  {
   "cell_type": "code",
   "execution_count": 13,
   "id": "325dd4d9",
   "metadata": {},
   "outputs": [],
   "source": [
    "from sklearn import preprocessing"
   ]
  },
  {
   "cell_type": "markdown",
   "id": "ba26dce5",
   "metadata": {},
   "source": [
    "Responses:"
   ]
  },
  {
   "cell_type": "code",
   "execution_count": 12,
   "id": "d517b123",
   "metadata": {},
   "outputs": [
    {
     "data": {
      "text/plain": [
       "array([0, 0, 0, ..., 1, 1, 1])"
      ]
     },
     "execution_count": 12,
     "metadata": {},
     "output_type": "execute_result"
    }
   ],
   "source": [
    "y"
   ]
  },
  {
   "cell_type": "markdown",
   "id": "2884bd94",
   "metadata": {},
   "source": [
    "###### Covariates in a Dataframe \"x\"\n",
    "###### Responses in a numpy array \"y\""
   ]
  },
  {
   "cell_type": "markdown",
   "id": "77adc0d3",
   "metadata": {},
   "source": [
    "### 2) Normalisation of covariates"
   ]
  },
  {
   "cell_type": "code",
   "execution_count": 14,
   "id": "0a41bb60",
   "metadata": {},
   "outputs": [],
   "source": [
    "x= preprocessing.scale(x)\n"
   ]
  },
  {
   "cell_type": "code",
   "execution_count": 15,
   "id": "2798bdb4",
   "metadata": {},
   "outputs": [],
   "source": [
    "x=pd.DataFrame(x)\n",
    "x.columns=names\n"
   ]
  },
  {
   "cell_type": "markdown",
   "id": "34be7ca0",
   "metadata": {},
   "source": [
    "##### 2.1 Splitting trainin-test"
   ]
  },
  {
   "cell_type": "code",
   "execution_count": 16,
   "id": "8b2d6fb6",
   "metadata": {},
   "outputs": [],
   "source": [
    "from sklearn.model_selection import train_test_split\n",
    "\n",
    "x_train, x_test, y_train, y_test = train_test_split(x, y, test_size= 60/2000, random_state=0)"
   ]
  },
  {
   "cell_type": "code",
   "execution_count": 17,
   "id": "299d24be",
   "metadata": {},
   "outputs": [],
   "source": [
    "x_train=np.array(x_train)\n",
    "y_train=np.array(y_train)\n",
    "x_test=np.array(x_test)\n",
    "y_test=np.array(y_test)\n"
   ]
  },
  {
   "cell_type": "markdown",
   "id": "97e75cae",
   "metadata": {},
   "source": [
    "### 3) Spike and Slab prior - Hard shrinkage feature selection"
   ]
  },
  {
   "cell_type": "markdown",
   "id": "b77ad80b",
   "metadata": {},
   "source": [
    "Spike and Slab"
   ]
  },
  {
   "cell_type": "code",
   "execution_count": 18,
   "id": "5f03a057",
   "metadata": {},
   "outputs": [
    {
     "name": "stderr",
     "output_type": "stream",
     "text": [
      "16:41:38 - cmdstanpy - INFO - compiling stan file C:\\Users\\carlo\\Bayesian statistics project\\logistic_regression_lib.stan to exe file C:\\Users\\carlo\\Bayesian statistics project\\logistic_regression_lib.exe\n",
      "16:41:57 - cmdstanpy - INFO - compiled model executable: C:\\Users\\carlo\\Bayesian statistics project\\logistic_regression_lib.exe\n",
      "16:41:57 - cmdstanpy - WARNING - Stan compiler has produced 2 warnings:\n",
      "16:41:57 - cmdstanpy - WARNING - \n",
      "--- Translating Stan model to C++ code ---\n",
      "bin/stanc.exe  --o=C:/Users/carlo/BAYESI~1/logistic_regression_lib.hpp C:/Users/carlo/BAYESI~1/logistic_regression_lib.stan\n",
      "Warning in 'C:/Users/carlo/BAYESI~1/logistic_regression_lib.stan', line 5, column 7: Declaration\n",
      "    of arrays by placing brackets after a variable name is deprecated and\n",
      "    will be removed in Stan 2.32.0. Instead use the array keyword before the\n",
      "    type. This can be changed automatically using the auto-format flag to\n",
      "    stanc\n",
      "Warning in 'C:/Users/carlo/BAYESI~1/logistic_regression_lib.stan', line 29, column 4: Declaration\n",
      "    of arrays by placing brackets after a variable name is deprecated and\n",
      "    will be removed in Stan 2.32.0. Instead use the array keyword before the\n",
      "    type. This can be changed automatically using the auto-format flag to\n",
      "    stanc\n",
      "\n",
      "--- Compiling, linking C++ code ---\n",
      "g++ -std=c++1y -m64 -D_REENTRANT -Wall -Wno-unused-function -Wno-uninitialized -Wno-unused-but-set-variable -Wno-unused-variable -Wno-sign-compare -Wno-unused-local-typedefs -Wno-int-in-bool-context -Wno-attributes -Wno-ignored-attributes     -DSTAN_THREADS -I stan/lib/stan_math/lib/tbb_2020.3/include    -O3 -I src -I stan/src -I lib/rapidjson_1.1.0/ -I lib/CLI11-1.9.1/ -I stan/lib/stan_math/ -I stan/lib/stan_math/lib/eigen_3.3.9 -I stan/lib/stan_math/lib/boost_1.78.0 -I stan/lib/stan_math/lib/sundials_6.1.1/include -I stan/lib/stan_math/lib/sundials_6.1.1/src/sundials  -D_USE_MATH_DEFINES  -DBOOST_DISABLE_ASSERTS          -c  -x c++ -o C:/Users/carlo/BAYESI~1/logistic_regression_lib.o C:/Users/carlo/BAYESI~1/logistic_regression_lib.hpp\n",
      "g++ -std=c++1y -m64 -D_REENTRANT -Wall -Wno-unused-function -Wno-uninitialized -Wno-unused-but-set-variable -Wno-unused-variable -Wno-sign-compare -Wno-unused-local-typedefs -Wno-int-in-bool-context -Wno-attributes -Wno-ignored-attributes     -DSTAN_THREADS -I stan/lib/stan_math/lib/tbb_2020.3/include    -O3 -I src -I stan/src -I lib/rapidjson_1.1.0/ -I lib/CLI11-1.9.1/ -I stan/lib/stan_math/ -I stan/lib/stan_math/lib/eigen_3.3.9 -I stan/lib/stan_math/lib/boost_1.78.0 -I stan/lib/stan_math/lib/sundials_6.1.1/include -I stan/lib/stan_math/lib/sundials_6.1.1/src/sundials  -D_USE_MATH_DEFINES  -DBOOST_DISABLE_ASSERTS                -Wl,-L,\"C:/Users/carlo/.cmdstan/cmdstan-2.30.1/stan/lib/stan_math/lib/tbb\" -Wl,-rpath,\"C:/Users/carlo/.cmdstan/cmdstan-2.30.1/stan/lib/stan_math/lib/tbb\"      C:/Users/carlo/BAYESI~1/logistic_regression_lib.o src/cmdstan/main_threads.o  -static-libgcc -static-libstdc++      -Wl,-L,\"C:/Users/carlo/.cmdstan/cmdstan-2.30.1/stan/lib/stan_math/lib/tbb\" -Wl,-rpath,\"C:/Users/carlo/.cmdstan/cmdstan-2.30.1/stan/lib/stan_math/lib/tbb\"   stan/lib/stan_math/lib/sundials_6.1.1/lib/libsundials_nvecserial.a stan/lib/stan_math/lib/sundials_6.1.1/lib/libsundials_cvodes.a stan/lib/stan_math/lib/sundials_6.1.1/lib/libsundials_idas.a stan/lib/stan_math/lib/sundials_6.1.1/lib/libsundials_kinsol.a  stan/lib/stan_math/lib/tbb/tbb.dll -o C:/Users/carlo/BAYESI~1/logistic_regression_lib.exe\n",
      "rm -f C:/Users/carlo/BAYESI~1/logistic_regression_lib.o\n",
      "\n"
     ]
    }
   ],
   "source": [
    " stan_code = \"\"\"\n",
    "data {\n",
    "        int<lower=1> N;\n",
    "        int<lower=1> p;\n",
    "        int<lower=0,upper=1> y[N];\n",
    "        matrix[N,p] x;\n",
    "        \n",
    "        real<lower=0> var_spike;\n",
    "        real<lower=0> var_slab;\n",
    "        \n",
    "        \n",
    "    }\n",
    "        \n",
    "     \n",
    "\n",
    "    \n",
    "    \n",
    "    parameters {\n",
    "       \n",
    "        vector[p] beta;\n",
    "\n",
    "        \n",
    "    }\n",
    "    \n",
    "   \n",
    "\n",
    "   transformed parameters{\n",
    "\n",
    "     real <lower=0, upper=1> mu[N];\n",
    "     \n",
    "     for(i in 1:N)\n",
    "     {\n",
    "     \n",
    "     mu[i]= inv_logit(x[i,:]*beta);\n",
    "     }\n",
    "}\n",
    "\n",
    "    \n",
    "    model {\n",
    "        \n",
    "        y ~ bernoulli(mu);\n",
    "        \n",
    "           \n",
    "        target += log_mix(0.5, \n",
    "                         normal_lpdf(beta | 0, var_slab),\n",
    "                         normal_lpdf(beta | 0, var_spike));\n",
    "        \n",
    "       \n",
    "    }\n",
    "    \n",
    "    \n",
    "     \n",
    "\"\"\"\n",
    "\n",
    "        \n",
    "        \n",
    "\n",
    "\n",
    "    \n",
    "stan_file_logistic_regression = \"./logistic_regression_lib.stan\"\n",
    " \n",
    "with open(stan_file_logistic_regression, \"w\") as f:   \n",
    "        print(stan_code, file=f)\n",
    "stan_model = CmdStanModel(stan_file=stan_file_logistic_regression   ,   cpp_options={\"STAN_THREADS\": True})\n",
    "\n",
    "\n"
   ]
  },
  {
   "cell_type": "markdown",
   "id": "dc189c6d",
   "metadata": {},
   "source": [
    "###### Logistic Regression model  (to evaluate the result of the feature selection)"
   ]
  },
  {
   "cell_type": "code",
   "execution_count": 25,
   "id": "60da2ae5",
   "metadata": {},
   "outputs": [
    {
     "name": "stderr",
     "output_type": "stream",
     "text": [
      "20:34:21 - cmdstanpy - INFO - compiling stan file C:\\Users\\carlo\\Bayesian statistics project\\logistic_regression_model_1.stan to exe file C:\\Users\\carlo\\Bayesian statistics project\\logistic_regression_model_1.exe\n",
      "20:34:43 - cmdstanpy - INFO - compiled model executable: C:\\Users\\carlo\\Bayesian statistics project\\logistic_regression_model_1.exe\n",
      "20:34:43 - cmdstanpy - WARNING - Stan compiler has produced 2 warnings:\n",
      "20:34:43 - cmdstanpy - WARNING - \n",
      "--- Translating Stan model to C++ code ---\n",
      "bin/stanc.exe  --o=C:/Users/carlo/BAYESI~1/logistic_regression_model_1.hpp C:/Users/carlo/BAYESI~1/logistic_regression_model_1.stan\n",
      "Warning in 'C:/Users/carlo/BAYESI~1/logistic_regression_model_1.stan', line 9, column 3: Declaration\n",
      "    of arrays by placing brackets after a variable name is deprecated and\n",
      "    will be removed in Stan 2.32.0. Instead use the array keyword before the\n",
      "    type. This can be changed automatically using the auto-format flag to\n",
      "    stanc\n",
      "Warning in 'C:/Users/carlo/BAYESI~1/logistic_regression_model_1.stan', line 25, column 5: Declaration\n",
      "    of arrays by placing brackets after a variable name is deprecated and\n",
      "    will be removed in Stan 2.32.0. Instead use the array keyword before the\n",
      "    type. This can be changed automatically using the auto-format flag to\n",
      "    stanc\n",
      "\n",
      "--- Compiling, linking C++ code ---\n",
      "g++ -std=c++1y -m64 -D_REENTRANT -Wall -Wno-unused-function -Wno-uninitialized -Wno-unused-but-set-variable -Wno-unused-variable -Wno-sign-compare -Wno-unused-local-typedefs -Wno-int-in-bool-context -Wno-attributes -Wno-ignored-attributes     -DSTAN_THREADS -I stan/lib/stan_math/lib/tbb_2020.3/include    -O3 -I src -I stan/src -I lib/rapidjson_1.1.0/ -I lib/CLI11-1.9.1/ -I stan/lib/stan_math/ -I stan/lib/stan_math/lib/eigen_3.3.9 -I stan/lib/stan_math/lib/boost_1.78.0 -I stan/lib/stan_math/lib/sundials_6.1.1/include -I stan/lib/stan_math/lib/sundials_6.1.1/src/sundials  -D_USE_MATH_DEFINES  -DBOOST_DISABLE_ASSERTS          -c  -x c++ -o C:/Users/carlo/BAYESI~1/logistic_regression_model_1.o C:/Users/carlo/BAYESI~1/logistic_regression_model_1.hpp\n",
      "g++ -std=c++1y -m64 -D_REENTRANT -Wall -Wno-unused-function -Wno-uninitialized -Wno-unused-but-set-variable -Wno-unused-variable -Wno-sign-compare -Wno-unused-local-typedefs -Wno-int-in-bool-context -Wno-attributes -Wno-ignored-attributes     -DSTAN_THREADS -I stan/lib/stan_math/lib/tbb_2020.3/include    -O3 -I src -I stan/src -I lib/rapidjson_1.1.0/ -I lib/CLI11-1.9.1/ -I stan/lib/stan_math/ -I stan/lib/stan_math/lib/eigen_3.3.9 -I stan/lib/stan_math/lib/boost_1.78.0 -I stan/lib/stan_math/lib/sundials_6.1.1/include -I stan/lib/stan_math/lib/sundials_6.1.1/src/sundials  -D_USE_MATH_DEFINES  -DBOOST_DISABLE_ASSERTS                -Wl,-L,\"C:/Users/carlo/.cmdstan/cmdstan-2.30.1/stan/lib/stan_math/lib/tbb\" -Wl,-rpath,\"C:/Users/carlo/.cmdstan/cmdstan-2.30.1/stan/lib/stan_math/lib/tbb\"      C:/Users/carlo/BAYESI~1/logistic_regression_model_1.o src/cmdstan/main_threads.o  -static-libgcc -static-libstdc++      -Wl,-L,\"C:/Users/carlo/.cmdstan/cmdstan-2.30.1/stan/lib/stan_math/lib/tbb\" -Wl,-rpath,\"C:/Users/carlo/.cmdstan/cmdstan-2.30.1/stan/lib/stan_math/lib/tbb\"   stan/lib/stan_math/lib/sundials_6.1.1/lib/libsundials_nvecserial.a stan/lib/stan_math/lib/sundials_6.1.1/lib/libsundials_cvodes.a stan/lib/stan_math/lib/sundials_6.1.1/lib/libsundials_idas.a stan/lib/stan_math/lib/sundials_6.1.1/lib/libsundials_kinsol.a  stan/lib/stan_math/lib/tbb/tbb.dll -o C:/Users/carlo/BAYESI~1/logistic_regression_model_1.exe\n",
      "rm -f C:/Users/carlo/BAYESI~1/logistic_regression_model_1.o\n",
      "\n"
     ]
    }
   ],
   "source": [
    "Logistic_regression_model_1_code = \"\"\"\n",
    "data{\n",
    "  \n",
    "   int<lower=0> N;\n",
    "   \n",
    "   int<lower=0> p;\n",
    "\n",
    "   \n",
    "   int y[N];\n",
    "   \n",
    "   matrix[N,p] x;\n",
    "   \n",
    "}\n",
    "\n",
    "\n",
    "\n",
    "parameters {\n",
    "\n",
    "    vector[p] beta;\n",
    "    \n",
    "}\n",
    "\n",
    "transformed parameters{\n",
    "\n",
    "     real <lower=0, upper=1> mu[N];\n",
    "     \n",
    "     for(i in 1:N)\n",
    "     {\n",
    "     \n",
    "     mu[i]= inv_logit(x[i,:]*beta);\n",
    "     }\n",
    "}\n",
    "\n",
    "model{\n",
    "\n",
    "\n",
    "    y~ bernoulli(mu);\n",
    "    \n",
    "    beta[1]~cauchy(0,10);\n",
    "    \n",
    "    for (j in 2:p){\n",
    "\n",
    "    beta~cauchy(0,2.5);\n",
    "    }\n",
    "\n",
    "}\n",
    "\n",
    "generated quantities  {\n",
    "      vector[N] log_lik;\n",
    "      for (j in 1:N) {\n",
    "            log_lik[j] = bernoulli_lpmf(y[j] | mu[j]);\n",
    "      }\n",
    "     \n",
    "}\n",
    "\n",
    "\n",
    "\"\"\"\n",
    "\n",
    "\n",
    "\n",
    "\n",
    "\n",
    "stan_file_logistic_1 = \"./logistic_regression_model_1.stan\"\n",
    "\n",
    "with open(stan_file_logistic_1, \"w\") as f:   # write the normal code into a file named ./multi_normal.stan\n",
    "    print(Logistic_regression_model_1_code, file=f)\n",
    "\n",
    "stan_model1 = CmdStanModel(stan_file=stan_file_logistic_1,   cpp_options={\"STAN_THREADS\": True})\n",
    "\n"
   ]
  },
  {
   "cell_type": "code",
   "execution_count": 59,
   "id": "166cabd1",
   "metadata": {},
   "outputs": [],
   "source": [
    "N=x_train.shape[0]\n",
    "\n",
    "p=x_train.shape[1]\n",
    "\n",
    "x=np.array(x)\n",
    "y=np.array(y)"
   ]
  },
  {
   "cell_type": "code",
   "execution_count": 68,
   "id": "39a6a555",
   "metadata": {},
   "outputs": [
    {
     "data": {
      "text/plain": [
       "(1940, 2403)"
      ]
     },
     "execution_count": 68,
     "metadata": {},
     "output_type": "execute_result"
    }
   ],
   "source": [
    "x_train.shape"
   ]
  },
  {
   "cell_type": "code",
   "execution_count": 60,
   "id": "c2028667",
   "metadata": {},
   "outputs": [
    {
     "name": "stderr",
     "output_type": "stream",
     "text": [
      "10:10:57 - cmdstanpy - INFO - CmdStan start processing\n"
     ]
    },
    {
     "data": {
      "application/vnd.jupyter.widget-view+json": {
       "model_id": "44b4c692b2414eabb89a860c34c0a955",
       "version_major": 2,
       "version_minor": 0
      },
      "text/plain": [
       "chain 1 |          | 00:00 Status"
      ]
     },
     "metadata": {},
     "output_type": "display_data"
    },
    {
     "data": {
      "application/vnd.jupyter.widget-view+json": {
       "model_id": "a85f603217934a87b3ad228f890d5766",
       "version_major": 2,
       "version_minor": 0
      },
      "text/plain": [
       "chain 2 |          | 00:00 Status"
      ]
     },
     "metadata": {},
     "output_type": "display_data"
    },
    {
     "name": "stdout",
     "output_type": "stream",
     "text": [
      "                                                                                                                                                                "
     ]
    },
    {
     "name": "stderr",
     "output_type": "stream",
     "text": [
      "11:17:36 - cmdstanpy - INFO - CmdStan done processing.\n"
     ]
    },
    {
     "name": "stdout",
     "output_type": "stream",
     "text": [
      "\n"
     ]
    }
   ],
   "source": [
    "dat = {\n",
    "    \n",
    "    \"N\": N,\n",
    "    \"p\": p,\n",
    "    \"y\": y_train,\n",
    "    \"x\": x_train,\n",
    "    \"var_spike\": 0.1,\n",
    "    \"var_slab\":10 ,\n",
    "  \n",
    "}\n",
    "\n",
    "stan_fit1 = stan_model.sample(data=dat, chains=2, \n",
    "                             parallel_chains=2 ,inits=0  , threads_per_chain=6 )\n",
    "cmdstanpy_data1 = az.from_cmdstanpy(stan_fit1)"
   ]
  },
  {
   "cell_type": "code",
   "execution_count": 61,
   "id": "a77af6fe",
   "metadata": {},
   "outputs": [],
   "source": [
    "x_tr=pd.DataFrame(x_train)\n",
    "x_tr.columns=names\n",
    "\n",
    "x_ts=pd.DataFrame(x_test)\n",
    "x_ts.columns=names"
   ]
  },
  {
   "cell_type": "code",
   "execution_count": 62,
   "id": "6917b85f",
   "metadata": {},
   "outputs": [
    {
     "data": {
      "text/html": [
       "<div>\n",
       "<style scoped>\n",
       "    .dataframe tbody tr th:only-of-type {\n",
       "        vertical-align: middle;\n",
       "    }\n",
       "\n",
       "    .dataframe tbody tr th {\n",
       "        vertical-align: top;\n",
       "    }\n",
       "\n",
       "    .dataframe thead th {\n",
       "        text-align: right;\n",
       "    }\n",
       "</style>\n",
       "<table border=\"1\" class=\"dataframe\">\n",
       "  <thead>\n",
       "    <tr style=\"text-align: right;\">\n",
       "      <th></th>\n",
       "      <th>shallow</th>\n",
       "      <th>insan</th>\n",
       "      <th>still</th>\n",
       "      <th>circumst</th>\n",
       "      <th>portray</th>\n",
       "      <th>overview</th>\n",
       "      <th>experienc</th>\n",
       "      <th>serv</th>\n",
       "      <th>mountain</th>\n",
       "      <th>cours</th>\n",
       "      <th>...</th>\n",
       "      <th>someon</th>\n",
       "      <th>recogn</th>\n",
       "      <th>danger</th>\n",
       "      <th>senior</th>\n",
       "      <th>suppli</th>\n",
       "      <th>back</th>\n",
       "      <th>independ</th>\n",
       "      <th>crucial</th>\n",
       "      <th>focu</th>\n",
       "      <th>awar</th>\n",
       "    </tr>\n",
       "  </thead>\n",
       "  <tbody>\n",
       "    <tr>\n",
       "      <th>0</th>\n",
       "      <td>-0.090254</td>\n",
       "      <td>-0.068629</td>\n",
       "      <td>0.0</td>\n",
       "      <td>-0.085741</td>\n",
       "      <td>-0.112636</td>\n",
       "      <td>0.0</td>\n",
       "      <td>-0.109435</td>\n",
       "      <td>-0.147008</td>\n",
       "      <td>-0.074734</td>\n",
       "      <td>-0.218779</td>\n",
       "      <td>...</td>\n",
       "      <td>-0.229737</td>\n",
       "      <td>-0.088804</td>\n",
       "      <td>-0.139019</td>\n",
       "      <td>-0.065515</td>\n",
       "      <td>-0.060225</td>\n",
       "      <td>0.0</td>\n",
       "      <td>-0.090354</td>\n",
       "      <td>-0.071771</td>\n",
       "      <td>-0.126498</td>\n",
       "      <td>-0.097448</td>\n",
       "    </tr>\n",
       "    <tr>\n",
       "      <th>1</th>\n",
       "      <td>-0.090254</td>\n",
       "      <td>-0.068629</td>\n",
       "      <td>0.0</td>\n",
       "      <td>-0.085741</td>\n",
       "      <td>-0.112636</td>\n",
       "      <td>0.0</td>\n",
       "      <td>-0.109435</td>\n",
       "      <td>-0.147008</td>\n",
       "      <td>-0.074734</td>\n",
       "      <td>-0.218779</td>\n",
       "      <td>...</td>\n",
       "      <td>-0.229737</td>\n",
       "      <td>-0.088804</td>\n",
       "      <td>-0.139019</td>\n",
       "      <td>-0.065515</td>\n",
       "      <td>-0.060225</td>\n",
       "      <td>0.0</td>\n",
       "      <td>-0.090354</td>\n",
       "      <td>-0.071771</td>\n",
       "      <td>-0.126498</td>\n",
       "      <td>-0.097448</td>\n",
       "    </tr>\n",
       "    <tr>\n",
       "      <th>2</th>\n",
       "      <td>-0.090254</td>\n",
       "      <td>-0.068629</td>\n",
       "      <td>0.0</td>\n",
       "      <td>-0.085741</td>\n",
       "      <td>-0.112636</td>\n",
       "      <td>0.0</td>\n",
       "      <td>-0.109435</td>\n",
       "      <td>-0.147008</td>\n",
       "      <td>-0.074734</td>\n",
       "      <td>-0.218779</td>\n",
       "      <td>...</td>\n",
       "      <td>-0.229737</td>\n",
       "      <td>-0.088804</td>\n",
       "      <td>-0.139019</td>\n",
       "      <td>-0.065515</td>\n",
       "      <td>-0.060225</td>\n",
       "      <td>0.0</td>\n",
       "      <td>-0.090354</td>\n",
       "      <td>-0.071771</td>\n",
       "      <td>-0.126498</td>\n",
       "      <td>-0.097448</td>\n",
       "    </tr>\n",
       "    <tr>\n",
       "      <th>3</th>\n",
       "      <td>-0.090254</td>\n",
       "      <td>-0.068629</td>\n",
       "      <td>0.0</td>\n",
       "      <td>-0.085741</td>\n",
       "      <td>-0.112636</td>\n",
       "      <td>0.0</td>\n",
       "      <td>-0.109435</td>\n",
       "      <td>-0.147008</td>\n",
       "      <td>-0.074734</td>\n",
       "      <td>-0.218779</td>\n",
       "      <td>...</td>\n",
       "      <td>-0.229737</td>\n",
       "      <td>-0.088804</td>\n",
       "      <td>-0.139019</td>\n",
       "      <td>-0.065515</td>\n",
       "      <td>-0.060225</td>\n",
       "      <td>0.0</td>\n",
       "      <td>-0.090354</td>\n",
       "      <td>-0.071771</td>\n",
       "      <td>-0.126498</td>\n",
       "      <td>-0.097448</td>\n",
       "    </tr>\n",
       "    <tr>\n",
       "      <th>4</th>\n",
       "      <td>-0.090254</td>\n",
       "      <td>-0.068629</td>\n",
       "      <td>0.0</td>\n",
       "      <td>-0.085741</td>\n",
       "      <td>-0.112636</td>\n",
       "      <td>0.0</td>\n",
       "      <td>-0.109435</td>\n",
       "      <td>-0.147008</td>\n",
       "      <td>-0.074734</td>\n",
       "      <td>-0.218779</td>\n",
       "      <td>...</td>\n",
       "      <td>-0.229737</td>\n",
       "      <td>5.741412</td>\n",
       "      <td>-0.139019</td>\n",
       "      <td>-0.065515</td>\n",
       "      <td>-0.060225</td>\n",
       "      <td>0.0</td>\n",
       "      <td>-0.090354</td>\n",
       "      <td>12.492941</td>\n",
       "      <td>-0.126498</td>\n",
       "      <td>-0.097448</td>\n",
       "    </tr>\n",
       "    <tr>\n",
       "      <th>...</th>\n",
       "      <td>...</td>\n",
       "      <td>...</td>\n",
       "      <td>...</td>\n",
       "      <td>...</td>\n",
       "      <td>...</td>\n",
       "      <td>...</td>\n",
       "      <td>...</td>\n",
       "      <td>...</td>\n",
       "      <td>...</td>\n",
       "      <td>...</td>\n",
       "      <td>...</td>\n",
       "      <td>...</td>\n",
       "      <td>...</td>\n",
       "      <td>...</td>\n",
       "      <td>...</td>\n",
       "      <td>...</td>\n",
       "      <td>...</td>\n",
       "      <td>...</td>\n",
       "      <td>...</td>\n",
       "      <td>...</td>\n",
       "      <td>...</td>\n",
       "    </tr>\n",
       "    <tr>\n",
       "      <th>1935</th>\n",
       "      <td>-0.090254</td>\n",
       "      <td>-0.068629</td>\n",
       "      <td>0.0</td>\n",
       "      <td>-0.085741</td>\n",
       "      <td>-0.112636</td>\n",
       "      <td>0.0</td>\n",
       "      <td>-0.109435</td>\n",
       "      <td>-0.147008</td>\n",
       "      <td>-0.074734</td>\n",
       "      <td>-0.218779</td>\n",
       "      <td>...</td>\n",
       "      <td>-0.229737</td>\n",
       "      <td>-0.088804</td>\n",
       "      <td>-0.139019</td>\n",
       "      <td>-0.065515</td>\n",
       "      <td>-0.060225</td>\n",
       "      <td>0.0</td>\n",
       "      <td>-0.090354</td>\n",
       "      <td>-0.071771</td>\n",
       "      <td>-0.126498</td>\n",
       "      <td>-0.097448</td>\n",
       "    </tr>\n",
       "    <tr>\n",
       "      <th>1936</th>\n",
       "      <td>-0.090254</td>\n",
       "      <td>-0.068629</td>\n",
       "      <td>0.0</td>\n",
       "      <td>-0.085741</td>\n",
       "      <td>-0.112636</td>\n",
       "      <td>0.0</td>\n",
       "      <td>-0.109435</td>\n",
       "      <td>-0.147008</td>\n",
       "      <td>-0.074734</td>\n",
       "      <td>-0.218779</td>\n",
       "      <td>...</td>\n",
       "      <td>0.836330</td>\n",
       "      <td>-0.088804</td>\n",
       "      <td>-0.139019</td>\n",
       "      <td>4.716924</td>\n",
       "      <td>-0.060225</td>\n",
       "      <td>0.0</td>\n",
       "      <td>-0.090354</td>\n",
       "      <td>-0.071771</td>\n",
       "      <td>1.724853</td>\n",
       "      <td>-0.097448</td>\n",
       "    </tr>\n",
       "    <tr>\n",
       "      <th>1937</th>\n",
       "      <td>-0.090254</td>\n",
       "      <td>-0.068629</td>\n",
       "      <td>0.0</td>\n",
       "      <td>-0.085741</td>\n",
       "      <td>-0.112636</td>\n",
       "      <td>0.0</td>\n",
       "      <td>-0.109435</td>\n",
       "      <td>-0.147008</td>\n",
       "      <td>-0.074734</td>\n",
       "      <td>-0.218779</td>\n",
       "      <td>...</td>\n",
       "      <td>-0.229737</td>\n",
       "      <td>-0.088804</td>\n",
       "      <td>-0.139019</td>\n",
       "      <td>-0.065515</td>\n",
       "      <td>-0.060225</td>\n",
       "      <td>0.0</td>\n",
       "      <td>-0.090354</td>\n",
       "      <td>-0.071771</td>\n",
       "      <td>-0.126498</td>\n",
       "      <td>-0.097448</td>\n",
       "    </tr>\n",
       "    <tr>\n",
       "      <th>1938</th>\n",
       "      <td>-0.090254</td>\n",
       "      <td>-0.068629</td>\n",
       "      <td>0.0</td>\n",
       "      <td>-0.085741</td>\n",
       "      <td>-0.112636</td>\n",
       "      <td>0.0</td>\n",
       "      <td>-0.109435</td>\n",
       "      <td>-0.147008</td>\n",
       "      <td>-0.074734</td>\n",
       "      <td>-0.218779</td>\n",
       "      <td>...</td>\n",
       "      <td>-0.229737</td>\n",
       "      <td>-0.088804</td>\n",
       "      <td>-0.139019</td>\n",
       "      <td>-0.065515</td>\n",
       "      <td>-0.060225</td>\n",
       "      <td>0.0</td>\n",
       "      <td>-0.090354</td>\n",
       "      <td>-0.071771</td>\n",
       "      <td>-0.126498</td>\n",
       "      <td>-0.097448</td>\n",
       "    </tr>\n",
       "    <tr>\n",
       "      <th>1939</th>\n",
       "      <td>-0.090254</td>\n",
       "      <td>-0.068629</td>\n",
       "      <td>0.0</td>\n",
       "      <td>-0.085741</td>\n",
       "      <td>-0.112636</td>\n",
       "      <td>0.0</td>\n",
       "      <td>-0.109435</td>\n",
       "      <td>-0.147008</td>\n",
       "      <td>-0.074734</td>\n",
       "      <td>-0.218779</td>\n",
       "      <td>...</td>\n",
       "      <td>-0.229737</td>\n",
       "      <td>-0.088804</td>\n",
       "      <td>-0.139019</td>\n",
       "      <td>-0.065515</td>\n",
       "      <td>-0.060225</td>\n",
       "      <td>0.0</td>\n",
       "      <td>-0.090354</td>\n",
       "      <td>-0.071771</td>\n",
       "      <td>-0.126498</td>\n",
       "      <td>-0.097448</td>\n",
       "    </tr>\n",
       "  </tbody>\n",
       "</table>\n",
       "<p>1940 rows × 2403 columns</p>\n",
       "</div>"
      ],
      "text/plain": [
       "       shallow     insan  still  circumst   portray  overview  experienc  \\\n",
       "0    -0.090254 -0.068629    0.0 -0.085741 -0.112636       0.0  -0.109435   \n",
       "1    -0.090254 -0.068629    0.0 -0.085741 -0.112636       0.0  -0.109435   \n",
       "2    -0.090254 -0.068629    0.0 -0.085741 -0.112636       0.0  -0.109435   \n",
       "3    -0.090254 -0.068629    0.0 -0.085741 -0.112636       0.0  -0.109435   \n",
       "4    -0.090254 -0.068629    0.0 -0.085741 -0.112636       0.0  -0.109435   \n",
       "...        ...       ...    ...       ...       ...       ...        ...   \n",
       "1935 -0.090254 -0.068629    0.0 -0.085741 -0.112636       0.0  -0.109435   \n",
       "1936 -0.090254 -0.068629    0.0 -0.085741 -0.112636       0.0  -0.109435   \n",
       "1937 -0.090254 -0.068629    0.0 -0.085741 -0.112636       0.0  -0.109435   \n",
       "1938 -0.090254 -0.068629    0.0 -0.085741 -0.112636       0.0  -0.109435   \n",
       "1939 -0.090254 -0.068629    0.0 -0.085741 -0.112636       0.0  -0.109435   \n",
       "\n",
       "          serv  mountain     cours  ...    someon    recogn    danger  \\\n",
       "0    -0.147008 -0.074734 -0.218779  ... -0.229737 -0.088804 -0.139019   \n",
       "1    -0.147008 -0.074734 -0.218779  ... -0.229737 -0.088804 -0.139019   \n",
       "2    -0.147008 -0.074734 -0.218779  ... -0.229737 -0.088804 -0.139019   \n",
       "3    -0.147008 -0.074734 -0.218779  ... -0.229737 -0.088804 -0.139019   \n",
       "4    -0.147008 -0.074734 -0.218779  ... -0.229737  5.741412 -0.139019   \n",
       "...        ...       ...       ...  ...       ...       ...       ...   \n",
       "1935 -0.147008 -0.074734 -0.218779  ... -0.229737 -0.088804 -0.139019   \n",
       "1936 -0.147008 -0.074734 -0.218779  ...  0.836330 -0.088804 -0.139019   \n",
       "1937 -0.147008 -0.074734 -0.218779  ... -0.229737 -0.088804 -0.139019   \n",
       "1938 -0.147008 -0.074734 -0.218779  ... -0.229737 -0.088804 -0.139019   \n",
       "1939 -0.147008 -0.074734 -0.218779  ... -0.229737 -0.088804 -0.139019   \n",
       "\n",
       "        senior    suppli  back  independ    crucial      focu      awar  \n",
       "0    -0.065515 -0.060225   0.0 -0.090354  -0.071771 -0.126498 -0.097448  \n",
       "1    -0.065515 -0.060225   0.0 -0.090354  -0.071771 -0.126498 -0.097448  \n",
       "2    -0.065515 -0.060225   0.0 -0.090354  -0.071771 -0.126498 -0.097448  \n",
       "3    -0.065515 -0.060225   0.0 -0.090354  -0.071771 -0.126498 -0.097448  \n",
       "4    -0.065515 -0.060225   0.0 -0.090354  12.492941 -0.126498 -0.097448  \n",
       "...        ...       ...   ...       ...        ...       ...       ...  \n",
       "1935 -0.065515 -0.060225   0.0 -0.090354  -0.071771 -0.126498 -0.097448  \n",
       "1936  4.716924 -0.060225   0.0 -0.090354  -0.071771  1.724853 -0.097448  \n",
       "1937 -0.065515 -0.060225   0.0 -0.090354  -0.071771 -0.126498 -0.097448  \n",
       "1938 -0.065515 -0.060225   0.0 -0.090354  -0.071771 -0.126498 -0.097448  \n",
       "1939 -0.065515 -0.060225   0.0 -0.090354  -0.071771 -0.126498 -0.097448  \n",
       "\n",
       "[1940 rows x 2403 columns]"
      ]
     },
     "execution_count": 62,
     "metadata": {},
     "output_type": "execute_result"
    }
   ],
   "source": [
    "x_tr"
   ]
  },
  {
   "cell_type": "code",
   "execution_count": 39,
   "id": "1de03c60",
   "metadata": {},
   "outputs": [],
   "source": [
    "import math as m"
   ]
  },
  {
   "cell_type": "code",
   "execution_count": 40,
   "id": "18bba664",
   "metadata": {},
   "outputs": [],
   "source": [
    "def compute_mu(betaa,xx):\n",
    "    \n",
    "    mu=[]\n",
    "    \n",
    "    for i in range(len(xx)):\n",
    "        \n",
    "        muu=m.e**(np.dot(xx[i].T,betaa))/(1+m.e**(np.dot(xx[i].T,betaa)))\n",
    "        \n",
    "        mu.append(muu)\n",
    "        \n",
    "    return mu\n",
    "\n",
    "\n",
    "def predictions(mu_hat, threshold):\n",
    "    \n",
    "    L= len(mu_hat)\n",
    "    \n",
    "    out=np.zeros(L)\n",
    "    \n",
    "    \n",
    "    for i in range(L):\n",
    "        \n",
    "        if mu_hat[i]>threshold:\n",
    "            out[i]+=1\n",
    "            \n",
    "    return out\n",
    "\n",
    "\n",
    "\n",
    "    "
   ]
  },
  {
   "cell_type": "code",
   "execution_count": 85,
   "id": "edda41ae",
   "metadata": {},
   "outputs": [
    {
     "name": "stderr",
     "output_type": "stream",
     "text": [
      "11:42:52 - cmdstanpy - INFO - CmdStan start processing\n"
     ]
    },
    {
     "data": {
      "application/vnd.jupyter.widget-view+json": {
       "model_id": "1601355b3b7943f39c801bc5fce13ca8",
       "version_major": 2,
       "version_minor": 0
      },
      "text/plain": [
       "chain 1 |          | 00:00 Status"
      ]
     },
     "metadata": {},
     "output_type": "display_data"
    },
    {
     "data": {
      "application/vnd.jupyter.widget-view+json": {
       "model_id": "f958a6780c6b4e53ab646feee7447e69",
       "version_major": 2,
       "version_minor": 0
      },
      "text/plain": [
       "chain 2 |          | 00:00 Status"
      ]
     },
     "metadata": {},
     "output_type": "display_data"
    },
    {
     "name": "stdout",
     "output_type": "stream",
     "text": [
      "                                                                                                                                                                "
     ]
    },
    {
     "name": "stderr",
     "output_type": "stream",
     "text": [
      "11:44:02 - cmdstanpy - INFO - CmdStan done processing.\n"
     ]
    },
    {
     "name": "stdout",
     "output_type": "stream",
     "text": [
      "\n"
     ]
    },
    {
     "name": "stderr",
     "output_type": "stream",
     "text": [
      "C:\\Users\\carlo\\anaconda3\\envs\\stan_env\\lib\\site-packages\\arviz\\stats\\stats.py:1663: UserWarning: For one or more samples the posterior variance of the log predictive densities exceeds 0.4. This could be indication of WAIC starting to fail. \n",
      "See http://arxiv.org/abs/1507.04544 for details\n",
      "  \"For one or more samples the posterior variance of the log predictive \"\n",
      "11:44:10 - cmdstanpy - INFO - CmdStan start processing\n"
     ]
    },
    {
     "data": {
      "application/vnd.jupyter.widget-view+json": {
       "model_id": "b3b82197a68d4d5abcfafee6180122e5",
       "version_major": 2,
       "version_minor": 0
      },
      "text/plain": [
       "chain 1 |          | 00:00 Status"
      ]
     },
     "metadata": {},
     "output_type": "display_data"
    },
    {
     "data": {
      "application/vnd.jupyter.widget-view+json": {
       "model_id": "6cbf9b580e904724ac01c77d410f518b",
       "version_major": 2,
       "version_minor": 0
      },
      "text/plain": [
       "chain 2 |          | 00:00 Status"
      ]
     },
     "metadata": {},
     "output_type": "display_data"
    },
    {
     "name": "stdout",
     "output_type": "stream",
     "text": [
      "                                                                                                                                                                "
     ]
    },
    {
     "name": "stderr",
     "output_type": "stream",
     "text": [
      "11:44:57 - cmdstanpy - INFO - CmdStan done processing.\n"
     ]
    },
    {
     "name": "stdout",
     "output_type": "stream",
     "text": [
      "\n"
     ]
    },
    {
     "name": "stderr",
     "output_type": "stream",
     "text": [
      "C:\\Users\\carlo\\anaconda3\\envs\\stan_env\\lib\\site-packages\\arviz\\stats\\stats.py:1663: UserWarning: For one or more samples the posterior variance of the log predictive densities exceeds 0.4. This could be indication of WAIC starting to fail. \n",
      "See http://arxiv.org/abs/1507.04544 for details\n",
      "  \"For one or more samples the posterior variance of the log predictive \"\n",
      "11:45:03 - cmdstanpy - INFO - CmdStan start processing\n"
     ]
    },
    {
     "data": {
      "application/vnd.jupyter.widget-view+json": {
       "model_id": "cab3dfcd245a4a6385652c12b5d45211",
       "version_major": 2,
       "version_minor": 0
      },
      "text/plain": [
       "chain 1 |          | 00:00 Status"
      ]
     },
     "metadata": {},
     "output_type": "display_data"
    },
    {
     "data": {
      "application/vnd.jupyter.widget-view+json": {
       "model_id": "dae6b1c7738445bcae89691ca0d85833",
       "version_major": 2,
       "version_minor": 0
      },
      "text/plain": [
       "chain 2 |          | 00:00 Status"
      ]
     },
     "metadata": {},
     "output_type": "display_data"
    },
    {
     "name": "stdout",
     "output_type": "stream",
     "text": [
      "                                                                                                                                                                "
     ]
    },
    {
     "name": "stderr",
     "output_type": "stream",
     "text": [
      "11:45:38 - cmdstanpy - INFO - CmdStan done processing.\n"
     ]
    },
    {
     "name": "stdout",
     "output_type": "stream",
     "text": [
      "\n"
     ]
    },
    {
     "name": "stderr",
     "output_type": "stream",
     "text": [
      "C:\\Users\\carlo\\anaconda3\\envs\\stan_env\\lib\\site-packages\\arviz\\stats\\stats.py:1663: UserWarning: For one or more samples the posterior variance of the log predictive densities exceeds 0.4. This could be indication of WAIC starting to fail. \n",
      "See http://arxiv.org/abs/1507.04544 for details\n",
      "  \"For one or more samples the posterior variance of the log predictive \"\n",
      "11:45:43 - cmdstanpy - INFO - CmdStan start processing\n"
     ]
    },
    {
     "data": {
      "application/vnd.jupyter.widget-view+json": {
       "model_id": "33b71c050497479db5ed5b31008fcd7b",
       "version_major": 2,
       "version_minor": 0
      },
      "text/plain": [
       "chain 1 |          | 00:00 Status"
      ]
     },
     "metadata": {},
     "output_type": "display_data"
    },
    {
     "data": {
      "application/vnd.jupyter.widget-view+json": {
       "model_id": "25e09953649643e68c3a676cb2fddd55",
       "version_major": 2,
       "version_minor": 0
      },
      "text/plain": [
       "chain 2 |          | 00:00 Status"
      ]
     },
     "metadata": {},
     "output_type": "display_data"
    },
    {
     "name": "stdout",
     "output_type": "stream",
     "text": [
      "                                                                                                                                                                "
     ]
    },
    {
     "name": "stderr",
     "output_type": "stream",
     "text": [
      "11:46:10 - cmdstanpy - INFO - CmdStan done processing.\n"
     ]
    },
    {
     "name": "stdout",
     "output_type": "stream",
     "text": [
      "\n"
     ]
    },
    {
     "name": "stderr",
     "output_type": "stream",
     "text": [
      "C:\\Users\\carlo\\anaconda3\\envs\\stan_env\\lib\\site-packages\\arviz\\stats\\stats.py:1663: UserWarning: For one or more samples the posterior variance of the log predictive densities exceeds 0.4. This could be indication of WAIC starting to fail. \n",
      "See http://arxiv.org/abs/1507.04544 for details\n",
      "  \"For one or more samples the posterior variance of the log predictive \"\n"
     ]
    }
   ],
   "source": [
    "num_of_feat=[]\n",
    "\n",
    "probabilities=[0.875,0.88,0.9,0.92]\n",
    "\n",
    "\n",
    "waic=[]\n",
    "\n",
    "acc=[]\n",
    "\n",
    "\n",
    "for prob in probabilities:\n",
    "    BB=az.hdi(cmdstanpy_data1.posterior,prob)\n",
    "    \n",
    "    keep=[]\n",
    "\n",
    "    for i in range(2403):\n",
    "   \n",
    "        if(BB.beta[i][0]<0 and BB.beta[i][1]>0 ):\n",
    "            {}\n",
    "        else:\n",
    "            keep.append(i)\n",
    "            \n",
    "    X=x_tr[names[keep]]\n",
    "    X.insert(0,\"1\",[1 for i in range(1940)],True)\n",
    "    \n",
    "    X_ts=x_ts[names[keep]]\n",
    "    X_ts.insert(0,\"1\",[1 for i in range(60)],True)\n",
    "   \n",
    "    \n",
    "    X=np.array(X)\n",
    "    X_ts=np.array(X_ts)\n",
    "    \n",
    "    N=X.shape[0]\n",
    "    \n",
    "    num_of_feat.append(len(keep))\n",
    "\n",
    "    p=len(keep)+1\n",
    "\n",
    "    y=y\n",
    "    \n",
    "    dat = {\n",
    "    \n",
    "    \"N\": N,\n",
    "    \"p\": p,\n",
    "    \"y\": y_train,\n",
    "    \"x\": X,\n",
    "     }\n",
    "\n",
    "    stan_fit2 = stan_model1.sample(data=dat, chains=2 ,inits=0, parallel_chains=2)\n",
    "    cmdstanpy_data2 = az.from_cmdstanpy(stan_fit2)\n",
    "    \n",
    "    waic.append(az.waic(cmdstanpy_data2, var_name=\"log_lik\")[0])\n",
    "    \n",
    "    beta_chains1=cmdstanpy_data2.posterior.beta\n",
    "    \n",
    "    beta_hat1=beta_chains1.mean(dim=[\"draw\",\"chain\"])\n",
    "    \n",
    "    posterior_mu1=compute_mu(beta_hat1,X_ts)\n",
    "    \n",
    "    pred1=predictions(posterior_mu1,0.5)\n",
    "    \n",
    "    confusion_matrix1 = pd.crosstab(y_test, pred1)\n",
    "\n",
    "    \n",
    "    acc.append((confusion_matrix1[0][0]+confusion_matrix1[1][1])/60)\n",
    "    \n",
    "    \n",
    "    \n",
    "\n",
    "    \n"
   ]
  },
  {
   "cell_type": "code",
   "execution_count": 87,
   "id": "31b909de",
   "metadata": {},
   "outputs": [
    {
     "name": "stdout",
     "output_type": "stream",
     "text": [
      "[83, 78, 59, 43]\n",
      "[-863.2806332322434, -870.647941303703, -920.0771329126413, -992.7748669505705]\n",
      "[0.7166666666666667, 0.7166666666666667, 0.7333333333333333, 0.6666666666666666]\n"
     ]
    }
   ],
   "source": [
    "print(num_of_feat)\n",
    "print(waic)\n",
    "print(acc)\n"
   ]
  },
  {
   "cell_type": "code",
   "execution_count": 95,
   "id": "f3138844",
   "metadata": {
    "scrolled": true
   },
   "outputs": [
    {
     "data": {
      "image/png": "[encoded data removed]",
      "text/plain": [
       "<Figure size 640x480 with 1 Axes>"
      ]
     },
     "metadata": {},
     "output_type": "display_data"
    }
   ],
   "source": [
    "import matplotlib.pyplot \n",
    "  \n",
    "  \n",
    "# plotting the points \n",
    "matplotlib.pyplot.plot(probabilities, waic)\n",
    "  \n",
    "# naming the x axis\n",
    "matplotlib.pyplot.xlabel('hdi')\n",
    "# naming the y axis\n",
    "matplotlib.pyplot.ylabel('waic')\n",
    "  \n",
    "# giving a title to my graph\n",
    "matplotlib.pyplot.title('Optimal number of features')\n",
    "\n",
    "matplotlib.pyplot.axvline(x=0.88,color=\"r\")\n",
    "\n",
    "\n",
    "\n",
    "  \n",
    "# function to show the plot\n",
    "matplotlib.pyplot.show()"
   ]
  },
  {
   "cell_type": "code",
   "execution_count": 96,
   "id": "ef27ae31",
   "metadata": {},
   "outputs": [
    {
     "data": {
      "image/png": "[encoded data removed]",
      "text/plain": [
       "<Figure size 640x480 with 1 Axes>"
      ]
     },
     "metadata": {},
     "output_type": "display_data"
    }
   ],
   "source": [
    "  \n",
    "  \n",
    "# plotting the points \n",
    "matplotlib.pyplot.plot(probabilities, acc)\n",
    "  \n",
    "# naming the x axis\n",
    "matplotlib.pyplot.xlabel('hdi')\n",
    "# naming the y axis\n",
    "matplotlib.pyplot.ylabel('test_acc')\n",
    "  \n",
    "# giving a title to my graph\n",
    "matplotlib.pyplot.title('Optimal number of features')\n",
    "\n",
    "matplotlib.pyplot.axvline(x=0.88,color=\"r\")\n",
    "\n",
    "\n",
    "\n",
    "  \n",
    "# function to show the plot\n",
    "matplotlib.pyplot.show()"
   ]
  },
  {
   "cell_type": "markdown",
   "id": "80115fa5",
   "metadata": {},
   "source": [
    "Hard shrinkage"
   ]
  },
  {
   "cell_type": "code",
   "execution_count": 90,
   "id": "3cee116e",
   "metadata": {},
   "outputs": [
    {
     "name": "stdout",
     "output_type": "stream",
     "text": [
      "\n",
      "\n",
      "variables to keep\n"
     ]
    },
    {
     "data": {
      "text/plain": [
       "78"
      ]
     },
     "execution_count": 90,
     "metadata": {},
     "output_type": "execute_result"
    }
   ],
   "source": [
    "Probablity_of_the_interval=0.88\n",
    "\n",
    "BB=az.hdi(cmdstanpy_data1.posterior,Probablity_of_the_interval)\n",
    "\n",
    "\n",
    "# feature selection\n",
    "keep=[]\n",
    "\n",
    "for i in range(2403):\n",
    "   \n",
    "    if(BB.beta[i][0]<0 and BB.beta[i][1]>0 ):\n",
    "        {}\n",
    "    else:\n",
    "        keep.append(i)\n",
    "   \n",
    "   \n",
    "print(\"\\n\")\n",
    "print(\"variables to keep\")\n",
    "len(names[keep])"
   ]
  },
  {
   "cell_type": "code",
   "execution_count": 91,
   "id": "6b6fc33e",
   "metadata": {},
   "outputs": [
    {
     "data": {
      "text/plain": [
       "Index(['glad', 'journey', 'wast', 'suppos', 'establish', 'claim', 'expect',\n",
       "       'wonder', 'track', 'teach', 'poorli', 'unfortun', 'vagu', 'felt',\n",
       "       'shop', 'ridicul', 'forev', 'easili', 'fascin', 'appli', 'easi',\n",
       "       'statement', 'awesom', 'hell', 'blood', 'passion', 'mistak', 'highli',\n",
       "       'funni', 'therapi', 'build', 'share', 'enjoy', 'repeat', 'subtl',\n",
       "       'process', 'current', 'best', 'measur', 'disappoint', 'useless',\n",
       "       'career', 'rest', 'fantast', 'instead', 'disgust', 'silli', 'visit',\n",
       "       'textbook', 'fail', 'bad', 'bore', 'excel', 'skip', 'lack', 'proud',\n",
       "       'noth', 'gift', 'beauti', 'favorit', 'predict', 'entertain', 'post',\n",
       "       'self', 'vivid', 'repres', 'recent', 'special', 'stupid', 'step',\n",
       "       'hate', 'worst', 'wors', 'accept', 'client', 'everyth', 'flat', 'long'],\n",
       "      dtype='object')"
      ]
     },
     "execution_count": 91,
     "metadata": {},
     "output_type": "execute_result"
    }
   ],
   "source": [
    "names[keep]"
   ]
  },
  {
   "cell_type": "code",
   "execution_count": null,
   "id": "48d88960",
   "metadata": {},
   "outputs": [],
   "source": []
  }
 ],
 "metadata": {
  "kernelspec": {
   "display_name": "Python 3 (ipykernel)",
   "language": "python",
   "name": "python3"
  },
  "language_info": {
   "codemirror_mode": {
    "name": "ipython",
    "version": 3
   },
   "file_extension": ".py",
   "mimetype": "text/x-python",
   "name": "python",
   "nbconvert_exporter": "python",
   "pygments_lexer": "ipython3",
   "version": "3.7.13"
  }
 },
 "nbformat": 4,
 "nbformat_minor": 5
}
