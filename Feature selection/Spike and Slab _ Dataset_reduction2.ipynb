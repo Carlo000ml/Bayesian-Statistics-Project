{
 "cells": [
  {
   "cell_type": "code",
   "execution_count": 62,
   "id": "ed2f5bd7",
   "metadata": {},
   "outputs": [],
   "source": [
    "import numpy as np\n",
    "import pandas as pd\n",
    "\n",
    "import os\n",
    "import numpy as np\n",
    "os.environ['CMDSTAN'] = '/Users/carlo/.cmdstan/cmdstan-2.30.1'\n",
    "\n",
    "import cmdstanpy\n",
    "\n",
    "from cmdstanpy import cmdstan_path, CmdStanModel\n",
    "\n",
    "import arviz as az\n",
    "import seaborn as sns\n",
    "import matplotlib.pyplot as plt\n",
    "import math as m\n"
   ]
  },
  {
   "cell_type": "markdown",
   "id": "84c58f41",
   "metadata": {},
   "source": [
    "### 1) Import of data"
   ]
  },
  {
   "cell_type": "code",
   "execution_count": 2,
   "id": "24e71be4",
   "metadata": {},
   "outputs": [],
   "source": [
    "tfidf=pd.read_csv(\"tfidf_red_90.csv\")"
   ]
  },
  {
   "cell_type": "code",
   "execution_count": 3,
   "id": "f4c8409a",
   "metadata": {},
   "outputs": [
    {
     "data": {
      "text/html": [
       "<div>\n",
       "<style scoped>\n",
       "    .dataframe tbody tr th:only-of-type {\n",
       "        vertical-align: middle;\n",
       "    }\n",
       "\n",
       "    .dataframe tbody tr th {\n",
       "        vertical-align: top;\n",
       "    }\n",
       "\n",
       "    .dataframe thead th {\n",
       "        text-align: right;\n",
       "    }\n",
       "</style>\n",
       "<table border=\"1\" class=\"dataframe\">\n",
       "  <thead>\n",
       "    <tr style=\"text-align: right;\">\n",
       "      <th></th>\n",
       "      <th>bore</th>\n",
       "      <th>disappoint</th>\n",
       "      <th>bad</th>\n",
       "      <th>wast</th>\n",
       "      <th>instead</th>\n",
       "      <th>easi</th>\n",
       "      <th>highli</th>\n",
       "      <th>excel</th>\n",
       "      <th>lack</th>\n",
       "      <th>poorli</th>\n",
       "      <th>...</th>\n",
       "      <th>comprehens</th>\n",
       "      <th>rambl</th>\n",
       "      <th>suspect</th>\n",
       "      <th>explor</th>\n",
       "      <th>guy</th>\n",
       "      <th>honestli</th>\n",
       "      <th>invit</th>\n",
       "      <th>extraordinari</th>\n",
       "      <th>outstand</th>\n",
       "      <th>type_text</th>\n",
       "    </tr>\n",
       "  </thead>\n",
       "  <tbody>\n",
       "    <tr>\n",
       "      <th>0</th>\n",
       "      <td>0.0</td>\n",
       "      <td>0.0</td>\n",
       "      <td>0.000000</td>\n",
       "      <td>0.26874</td>\n",
       "      <td>0.0</td>\n",
       "      <td>0.0</td>\n",
       "      <td>0.0</td>\n",
       "      <td>0.0</td>\n",
       "      <td>0.0</td>\n",
       "      <td>0.0</td>\n",
       "      <td>...</td>\n",
       "      <td>0.0</td>\n",
       "      <td>0.0</td>\n",
       "      <td>0.0</td>\n",
       "      <td>0.0</td>\n",
       "      <td>0.0</td>\n",
       "      <td>0.0</td>\n",
       "      <td>0.0</td>\n",
       "      <td>0.0</td>\n",
       "      <td>0.0</td>\n",
       "      <td>0</td>\n",
       "    </tr>\n",
       "    <tr>\n",
       "      <th>1</th>\n",
       "      <td>0.0</td>\n",
       "      <td>0.0</td>\n",
       "      <td>0.000000</td>\n",
       "      <td>0.00000</td>\n",
       "      <td>0.0</td>\n",
       "      <td>0.0</td>\n",
       "      <td>0.0</td>\n",
       "      <td>0.0</td>\n",
       "      <td>0.0</td>\n",
       "      <td>0.0</td>\n",
       "      <td>...</td>\n",
       "      <td>0.0</td>\n",
       "      <td>0.0</td>\n",
       "      <td>0.0</td>\n",
       "      <td>0.0</td>\n",
       "      <td>0.0</td>\n",
       "      <td>0.0</td>\n",
       "      <td>0.0</td>\n",
       "      <td>0.0</td>\n",
       "      <td>0.0</td>\n",
       "      <td>0</td>\n",
       "    </tr>\n",
       "    <tr>\n",
       "      <th>2</th>\n",
       "      <td>0.0</td>\n",
       "      <td>0.0</td>\n",
       "      <td>0.000000</td>\n",
       "      <td>0.26874</td>\n",
       "      <td>0.0</td>\n",
       "      <td>0.0</td>\n",
       "      <td>0.0</td>\n",
       "      <td>0.0</td>\n",
       "      <td>0.0</td>\n",
       "      <td>0.0</td>\n",
       "      <td>...</td>\n",
       "      <td>0.0</td>\n",
       "      <td>0.0</td>\n",
       "      <td>0.0</td>\n",
       "      <td>0.0</td>\n",
       "      <td>0.0</td>\n",
       "      <td>0.0</td>\n",
       "      <td>0.0</td>\n",
       "      <td>0.0</td>\n",
       "      <td>0.0</td>\n",
       "      <td>0</td>\n",
       "    </tr>\n",
       "    <tr>\n",
       "      <th>3</th>\n",
       "      <td>0.0</td>\n",
       "      <td>0.0</td>\n",
       "      <td>0.176857</td>\n",
       "      <td>0.00000</td>\n",
       "      <td>0.0</td>\n",
       "      <td>0.0</td>\n",
       "      <td>0.0</td>\n",
       "      <td>0.0</td>\n",
       "      <td>0.0</td>\n",
       "      <td>0.0</td>\n",
       "      <td>...</td>\n",
       "      <td>0.0</td>\n",
       "      <td>0.0</td>\n",
       "      <td>0.0</td>\n",
       "      <td>0.0</td>\n",
       "      <td>0.0</td>\n",
       "      <td>0.0</td>\n",
       "      <td>0.0</td>\n",
       "      <td>0.0</td>\n",
       "      <td>0.0</td>\n",
       "      <td>0</td>\n",
       "    </tr>\n",
       "    <tr>\n",
       "      <th>4</th>\n",
       "      <td>0.0</td>\n",
       "      <td>0.0</td>\n",
       "      <td>0.000000</td>\n",
       "      <td>0.00000</td>\n",
       "      <td>0.0</td>\n",
       "      <td>0.0</td>\n",
       "      <td>0.0</td>\n",
       "      <td>0.0</td>\n",
       "      <td>0.0</td>\n",
       "      <td>0.0</td>\n",
       "      <td>...</td>\n",
       "      <td>0.0</td>\n",
       "      <td>0.0</td>\n",
       "      <td>0.0</td>\n",
       "      <td>0.0</td>\n",
       "      <td>0.0</td>\n",
       "      <td>0.0</td>\n",
       "      <td>0.0</td>\n",
       "      <td>0.0</td>\n",
       "      <td>0.0</td>\n",
       "      <td>0</td>\n",
       "    </tr>\n",
       "  </tbody>\n",
       "</table>\n",
       "<p>5 rows × 91 columns</p>\n",
       "</div>"
      ],
      "text/plain": [
       "   bore  disappoint       bad     wast  instead  easi  highli  excel  lack  \\\n",
       "0   0.0         0.0  0.000000  0.26874      0.0   0.0     0.0    0.0   0.0   \n",
       "1   0.0         0.0  0.000000  0.00000      0.0   0.0     0.0    0.0   0.0   \n",
       "2   0.0         0.0  0.000000  0.26874      0.0   0.0     0.0    0.0   0.0   \n",
       "3   0.0         0.0  0.176857  0.00000      0.0   0.0     0.0    0.0   0.0   \n",
       "4   0.0         0.0  0.000000  0.00000      0.0   0.0     0.0    0.0   0.0   \n",
       "\n",
       "   poorli  ...  comprehens  rambl  suspect  explor  guy  honestli  invit  \\\n",
       "0     0.0  ...         0.0    0.0      0.0     0.0  0.0       0.0    0.0   \n",
       "1     0.0  ...         0.0    0.0      0.0     0.0  0.0       0.0    0.0   \n",
       "2     0.0  ...         0.0    0.0      0.0     0.0  0.0       0.0    0.0   \n",
       "3     0.0  ...         0.0    0.0      0.0     0.0  0.0       0.0    0.0   \n",
       "4     0.0  ...         0.0    0.0      0.0     0.0  0.0       0.0    0.0   \n",
       "\n",
       "   extraordinari  outstand  type_text  \n",
       "0            0.0       0.0          0  \n",
       "1            0.0       0.0          0  \n",
       "2            0.0       0.0          0  \n",
       "3            0.0       0.0          0  \n",
       "4            0.0       0.0          0  \n",
       "\n",
       "[5 rows x 91 columns]"
      ]
     },
     "execution_count": 3,
     "metadata": {},
     "output_type": "execute_result"
    }
   ],
   "source": [
    "tfidf.head()"
   ]
  },
  {
   "cell_type": "code",
   "execution_count": 4,
   "id": "ebb04f94",
   "metadata": {},
   "outputs": [],
   "source": [
    "df=tfidf"
   ]
  },
  {
   "cell_type": "markdown",
   "id": "7bdbc3ae",
   "metadata": {},
   "source": [
    "Covariates:"
   ]
  },
  {
   "cell_type": "code",
   "execution_count": 5,
   "id": "9f701750",
   "metadata": {},
   "outputs": [
    {
     "data": {
      "text/html": [
       "<div>\n",
       "<style scoped>\n",
       "    .dataframe tbody tr th:only-of-type {\n",
       "        vertical-align: middle;\n",
       "    }\n",
       "\n",
       "    .dataframe tbody tr th {\n",
       "        vertical-align: top;\n",
       "    }\n",
       "\n",
       "    .dataframe thead th {\n",
       "        text-align: right;\n",
       "    }\n",
       "</style>\n",
       "<table border=\"1\" class=\"dataframe\">\n",
       "  <thead>\n",
       "    <tr style=\"text-align: right;\">\n",
       "      <th></th>\n",
       "      <th>bore</th>\n",
       "      <th>disappoint</th>\n",
       "      <th>bad</th>\n",
       "      <th>wast</th>\n",
       "      <th>instead</th>\n",
       "      <th>easi</th>\n",
       "      <th>highli</th>\n",
       "      <th>excel</th>\n",
       "      <th>lack</th>\n",
       "      <th>poorli</th>\n",
       "      <th>...</th>\n",
       "      <th>fantast</th>\n",
       "      <th>comprehens</th>\n",
       "      <th>rambl</th>\n",
       "      <th>suspect</th>\n",
       "      <th>explor</th>\n",
       "      <th>guy</th>\n",
       "      <th>honestli</th>\n",
       "      <th>invit</th>\n",
       "      <th>extraordinari</th>\n",
       "      <th>outstand</th>\n",
       "    </tr>\n",
       "  </thead>\n",
       "  <tbody>\n",
       "    <tr>\n",
       "      <th>0</th>\n",
       "      <td>0.0</td>\n",
       "      <td>0.0</td>\n",
       "      <td>0.000000</td>\n",
       "      <td>0.26874</td>\n",
       "      <td>0.0</td>\n",
       "      <td>0.0</td>\n",
       "      <td>0.0</td>\n",
       "      <td>0.0</td>\n",
       "      <td>0.0</td>\n",
       "      <td>0.0</td>\n",
       "      <td>...</td>\n",
       "      <td>0.0</td>\n",
       "      <td>0.0</td>\n",
       "      <td>0.0</td>\n",
       "      <td>0.0</td>\n",
       "      <td>0.0</td>\n",
       "      <td>0.0</td>\n",
       "      <td>0.0</td>\n",
       "      <td>0.0</td>\n",
       "      <td>0.0</td>\n",
       "      <td>0.0</td>\n",
       "    </tr>\n",
       "    <tr>\n",
       "      <th>1</th>\n",
       "      <td>0.0</td>\n",
       "      <td>0.0</td>\n",
       "      <td>0.000000</td>\n",
       "      <td>0.00000</td>\n",
       "      <td>0.0</td>\n",
       "      <td>0.0</td>\n",
       "      <td>0.0</td>\n",
       "      <td>0.0</td>\n",
       "      <td>0.0</td>\n",
       "      <td>0.0</td>\n",
       "      <td>...</td>\n",
       "      <td>0.0</td>\n",
       "      <td>0.0</td>\n",
       "      <td>0.0</td>\n",
       "      <td>0.0</td>\n",
       "      <td>0.0</td>\n",
       "      <td>0.0</td>\n",
       "      <td>0.0</td>\n",
       "      <td>0.0</td>\n",
       "      <td>0.0</td>\n",
       "      <td>0.0</td>\n",
       "    </tr>\n",
       "    <tr>\n",
       "      <th>2</th>\n",
       "      <td>0.0</td>\n",
       "      <td>0.0</td>\n",
       "      <td>0.000000</td>\n",
       "      <td>0.26874</td>\n",
       "      <td>0.0</td>\n",
       "      <td>0.0</td>\n",
       "      <td>0.0</td>\n",
       "      <td>0.0</td>\n",
       "      <td>0.0</td>\n",
       "      <td>0.0</td>\n",
       "      <td>...</td>\n",
       "      <td>0.0</td>\n",
       "      <td>0.0</td>\n",
       "      <td>0.0</td>\n",
       "      <td>0.0</td>\n",
       "      <td>0.0</td>\n",
       "      <td>0.0</td>\n",
       "      <td>0.0</td>\n",
       "      <td>0.0</td>\n",
       "      <td>0.0</td>\n",
       "      <td>0.0</td>\n",
       "    </tr>\n",
       "    <tr>\n",
       "      <th>3</th>\n",
       "      <td>0.0</td>\n",
       "      <td>0.0</td>\n",
       "      <td>0.176857</td>\n",
       "      <td>0.00000</td>\n",
       "      <td>0.0</td>\n",
       "      <td>0.0</td>\n",
       "      <td>0.0</td>\n",
       "      <td>0.0</td>\n",
       "      <td>0.0</td>\n",
       "      <td>0.0</td>\n",
       "      <td>...</td>\n",
       "      <td>0.0</td>\n",
       "      <td>0.0</td>\n",
       "      <td>0.0</td>\n",
       "      <td>0.0</td>\n",
       "      <td>0.0</td>\n",
       "      <td>0.0</td>\n",
       "      <td>0.0</td>\n",
       "      <td>0.0</td>\n",
       "      <td>0.0</td>\n",
       "      <td>0.0</td>\n",
       "    </tr>\n",
       "    <tr>\n",
       "      <th>4</th>\n",
       "      <td>0.0</td>\n",
       "      <td>0.0</td>\n",
       "      <td>0.000000</td>\n",
       "      <td>0.00000</td>\n",
       "      <td>0.0</td>\n",
       "      <td>0.0</td>\n",
       "      <td>0.0</td>\n",
       "      <td>0.0</td>\n",
       "      <td>0.0</td>\n",
       "      <td>0.0</td>\n",
       "      <td>...</td>\n",
       "      <td>0.0</td>\n",
       "      <td>0.0</td>\n",
       "      <td>0.0</td>\n",
       "      <td>0.0</td>\n",
       "      <td>0.0</td>\n",
       "      <td>0.0</td>\n",
       "      <td>0.0</td>\n",
       "      <td>0.0</td>\n",
       "      <td>0.0</td>\n",
       "      <td>0.0</td>\n",
       "    </tr>\n",
       "  </tbody>\n",
       "</table>\n",
       "<p>5 rows × 90 columns</p>\n",
       "</div>"
      ],
      "text/plain": [
       "   bore  disappoint       bad     wast  instead  easi  highli  excel  lack  \\\n",
       "0   0.0         0.0  0.000000  0.26874      0.0   0.0     0.0    0.0   0.0   \n",
       "1   0.0         0.0  0.000000  0.00000      0.0   0.0     0.0    0.0   0.0   \n",
       "2   0.0         0.0  0.000000  0.26874      0.0   0.0     0.0    0.0   0.0   \n",
       "3   0.0         0.0  0.176857  0.00000      0.0   0.0     0.0    0.0   0.0   \n",
       "4   0.0         0.0  0.000000  0.00000      0.0   0.0     0.0    0.0   0.0   \n",
       "\n",
       "   poorli  ...  fantast  comprehens  rambl  suspect  explor  guy  honestli  \\\n",
       "0     0.0  ...      0.0         0.0    0.0      0.0     0.0  0.0       0.0   \n",
       "1     0.0  ...      0.0         0.0    0.0      0.0     0.0  0.0       0.0   \n",
       "2     0.0  ...      0.0         0.0    0.0      0.0     0.0  0.0       0.0   \n",
       "3     0.0  ...      0.0         0.0    0.0      0.0     0.0  0.0       0.0   \n",
       "4     0.0  ...      0.0         0.0    0.0      0.0     0.0  0.0       0.0   \n",
       "\n",
       "   invit  extraordinari  outstand  \n",
       "0    0.0            0.0       0.0  \n",
       "1    0.0            0.0       0.0  \n",
       "2    0.0            0.0       0.0  \n",
       "3    0.0            0.0       0.0  \n",
       "4    0.0            0.0       0.0  \n",
       "\n",
       "[5 rows x 90 columns]"
      ]
     },
     "execution_count": 5,
     "metadata": {},
     "output_type": "execute_result"
    }
   ],
   "source": [
    "x=df.drop(labels=[\"type_text\"] , axis=1)\n",
    "names=x.columns\n",
    "x.head()"
   ]
  },
  {
   "cell_type": "markdown",
   "id": "ba26dce5",
   "metadata": {},
   "source": [
    "Responses:"
   ]
  },
  {
   "cell_type": "code",
   "execution_count": 7,
   "id": "084a3817",
   "metadata": {},
   "outputs": [],
   "source": [
    "\n",
    "y1=[0 for i in range (1000)]\n",
    "y2=[1 for i in range(1000)]\n",
    "y=y1+y2\n",
    "y=np.array(y)"
   ]
  },
  {
   "cell_type": "code",
   "execution_count": 8,
   "id": "d517b123",
   "metadata": {},
   "outputs": [
    {
     "data": {
      "text/plain": [
       "array([0, 0, 0, ..., 1, 1, 1])"
      ]
     },
     "execution_count": 8,
     "metadata": {},
     "output_type": "execute_result"
    }
   ],
   "source": [
    "y"
   ]
  },
  {
   "cell_type": "markdown",
   "id": "edeb4041",
   "metadata": {},
   "source": [
    "###### Covariates in a Dataframe \"x\"\n",
    "###### Responses in a numpy array \"y\""
   ]
  },
  {
   "cell_type": "markdown",
   "id": "77adc0d3",
   "metadata": {},
   "source": [
    "### 2) Normalisation of covariates"
   ]
  },
  {
   "cell_type": "code",
   "execution_count": 9,
   "id": "325dd4d9",
   "metadata": {},
   "outputs": [],
   "source": [
    "from sklearn import preprocessing"
   ]
  },
  {
   "cell_type": "code",
   "execution_count": 10,
   "id": "0a41bb60",
   "metadata": {},
   "outputs": [],
   "source": [
    "x= preprocessing.scale(x)\n"
   ]
  },
  {
   "cell_type": "code",
   "execution_count": 11,
   "id": "2798bdb4",
   "metadata": {},
   "outputs": [],
   "source": [
    "x=pd.DataFrame(x)\n",
    "x.columns=names\n"
   ]
  },
  {
   "cell_type": "markdown",
   "id": "40280cdf",
   "metadata": {},
   "source": [
    "##### 2.1 Splitting trainin-test"
   ]
  },
  {
   "cell_type": "code",
   "execution_count": 12,
   "id": "625ca5a5",
   "metadata": {},
   "outputs": [],
   "source": [
    "from sklearn.model_selection import train_test_split\n",
    "\n",
    "x_train, x_test, y_train, y_test = train_test_split(x, y, test_size= 60/2000, random_state=0)"
   ]
  },
  {
   "cell_type": "code",
   "execution_count": 13,
   "id": "c72a8c93",
   "metadata": {},
   "outputs": [],
   "source": [
    "x_train=np.array(x_train)\n",
    "y_train=np.array(y_train)\n",
    "x_test=np.array(x_test)\n",
    "y_test=np.array(y_test)\n"
   ]
  },
  {
   "cell_type": "markdown",
   "id": "97e75cae",
   "metadata": {},
   "source": [
    "### 3) Spike and Slab prior - Hard shrinkage feature selection"
   ]
  },
  {
   "cell_type": "markdown",
   "id": "b77ad80b",
   "metadata": {},
   "source": [
    "Spike and Slab"
   ]
  },
  {
   "cell_type": "code",
   "execution_count": 14,
   "id": "5f03a057",
   "metadata": {},
   "outputs": [
    {
     "name": "stderr",
     "output_type": "stream",
     "text": [
      "16:15:21 - cmdstanpy - INFO - compiling stan file C:\\Users\\carlo\\Bayesian statistics project\\logistic_regression_lib.stan to exe file C:\\Users\\carlo\\Bayesian statistics project\\logistic_regression_lib.exe\n",
      "16:15:40 - cmdstanpy - INFO - compiled model executable: C:\\Users\\carlo\\Bayesian statistics project\\logistic_regression_lib.exe\n",
      "16:15:40 - cmdstanpy - WARNING - Stan compiler has produced 2 warnings:\n",
      "16:15:40 - cmdstanpy - WARNING - \n",
      "--- Translating Stan model to C++ code ---\n",
      "bin/stanc.exe  --o=C:/Users/carlo/BAYESI~1/logistic_regression_lib.hpp C:/Users/carlo/BAYESI~1/logistic_regression_lib.stan\n",
      "Warning in 'C:/Users/carlo/BAYESI~1/logistic_regression_lib.stan', line 5, column 7: Declaration\n",
      "    of arrays by placing brackets after a variable name is deprecated and\n",
      "    will be removed in Stan 2.32.0. Instead use the array keyword before the\n",
      "    type. This can be changed automatically using the auto-format flag to\n",
      "    stanc\n",
      "Warning in 'C:/Users/carlo/BAYESI~1/logistic_regression_lib.stan', line 29, column 4: Declaration\n",
      "    of arrays by placing brackets after a variable name is deprecated and\n",
      "    will be removed in Stan 2.32.0. Instead use the array keyword before the\n",
      "    type. This can be changed automatically using the auto-format flag to\n",
      "    stanc\n",
      "\n",
      "--- Compiling, linking C++ code ---\n",
      "g++ -std=c++1y -m64 -D_REENTRANT -Wall -Wno-unused-function -Wno-uninitialized -Wno-unused-but-set-variable -Wno-unused-variable -Wno-sign-compare -Wno-unused-local-typedefs -Wno-int-in-bool-context -Wno-attributes -Wno-ignored-attributes     -DSTAN_THREADS -I stan/lib/stan_math/lib/tbb_2020.3/include    -O3 -I src -I stan/src -I lib/rapidjson_1.1.0/ -I lib/CLI11-1.9.1/ -I stan/lib/stan_math/ -I stan/lib/stan_math/lib/eigen_3.3.9 -I stan/lib/stan_math/lib/boost_1.78.0 -I stan/lib/stan_math/lib/sundials_6.1.1/include -I stan/lib/stan_math/lib/sundials_6.1.1/src/sundials  -D_USE_MATH_DEFINES  -DBOOST_DISABLE_ASSERTS          -c  -x c++ -o C:/Users/carlo/BAYESI~1/logistic_regression_lib.o C:/Users/carlo/BAYESI~1/logistic_regression_lib.hpp\n",
      "g++ -std=c++1y -m64 -D_REENTRANT -Wall -Wno-unused-function -Wno-uninitialized -Wno-unused-but-set-variable -Wno-unused-variable -Wno-sign-compare -Wno-unused-local-typedefs -Wno-int-in-bool-context -Wno-attributes -Wno-ignored-attributes     -DSTAN_THREADS -I stan/lib/stan_math/lib/tbb_2020.3/include    -O3 -I src -I stan/src -I lib/rapidjson_1.1.0/ -I lib/CLI11-1.9.1/ -I stan/lib/stan_math/ -I stan/lib/stan_math/lib/eigen_3.3.9 -I stan/lib/stan_math/lib/boost_1.78.0 -I stan/lib/stan_math/lib/sundials_6.1.1/include -I stan/lib/stan_math/lib/sundials_6.1.1/src/sundials  -D_USE_MATH_DEFINES  -DBOOST_DISABLE_ASSERTS                -Wl,-L,\"C:/Users/carlo/.cmdstan/cmdstan-2.30.1/stan/lib/stan_math/lib/tbb\" -Wl,-rpath,\"C:/Users/carlo/.cmdstan/cmdstan-2.30.1/stan/lib/stan_math/lib/tbb\"      C:/Users/carlo/BAYESI~1/logistic_regression_lib.o src/cmdstan/main_threads.o  -static-libgcc -static-libstdc++      -Wl,-L,\"C:/Users/carlo/.cmdstan/cmdstan-2.30.1/stan/lib/stan_math/lib/tbb\" -Wl,-rpath,\"C:/Users/carlo/.cmdstan/cmdstan-2.30.1/stan/lib/stan_math/lib/tbb\"   stan/lib/stan_math/lib/sundials_6.1.1/lib/libsundials_nvecserial.a stan/lib/stan_math/lib/sundials_6.1.1/lib/libsundials_cvodes.a stan/lib/stan_math/lib/sundials_6.1.1/lib/libsundials_idas.a stan/lib/stan_math/lib/sundials_6.1.1/lib/libsundials_kinsol.a  stan/lib/stan_math/lib/tbb/tbb.dll -o C:/Users/carlo/BAYESI~1/logistic_regression_lib.exe\n",
      "rm -f C:/Users/carlo/BAYESI~1/logistic_regression_lib.o\n",
      "\n"
     ]
    }
   ],
   "source": [
    " stan_code = \"\"\"\n",
    "data {\n",
    "        int<lower=1> N;\n",
    "        int<lower=1> p;\n",
    "        int<lower=0,upper=1> y[N];\n",
    "        matrix[N,p] x;\n",
    "        \n",
    "        real<lower=0> var_spike;\n",
    "        real<lower=0> var_slab;\n",
    "        \n",
    "        \n",
    "    }\n",
    "        \n",
    "     \n",
    "\n",
    "    \n",
    "    \n",
    "    parameters {\n",
    "       \n",
    "        vector[p] beta;\n",
    "\n",
    "        \n",
    "    }\n",
    "    \n",
    "   \n",
    "\n",
    "   transformed parameters{\n",
    "\n",
    "     real <lower=0, upper=1> mu[N];\n",
    "     \n",
    "     for(i in 1:N)\n",
    "     {\n",
    "     \n",
    "     mu[i]= inv_logit(x[i,:]*beta);\n",
    "     }\n",
    "}\n",
    "\n",
    "    \n",
    "    model {\n",
    "        \n",
    "        y ~ bernoulli(mu);\n",
    "        \n",
    "           \n",
    "        target += log_mix(0.5, \n",
    "                         normal_lpdf(beta | 0, var_slab),\n",
    "                         normal_lpdf(beta | 0, var_spike));\n",
    "        \n",
    "       \n",
    "    }\n",
    "    \n",
    "    \n",
    "     \n",
    "\"\"\"\n",
    "\n",
    "        \n",
    "        \n",
    "\n",
    "\n",
    "    \n",
    "stan_file_logistic_regression = \"./logistic_regression_lib.stan\"\n",
    " \n",
    "with open(stan_file_logistic_regression, \"w\") as f:   \n",
    "        print(stan_code, file=f)\n",
    "stan_model = CmdStanModel(stan_file=stan_file_logistic_regression   ,   cpp_options={\"STAN_THREADS\": True})\n",
    "\n",
    "\n"
   ]
  },
  {
   "cell_type": "markdown",
   "id": "7c7d2ed9",
   "metadata": {},
   "source": [
    "###### Logistic Regression model  (to evaluate the result of the feature selection)"
   ]
  },
  {
   "cell_type": "code",
   "execution_count": 15,
   "id": "2c1bf17e",
   "metadata": {},
   "outputs": [
    {
     "name": "stderr",
     "output_type": "stream",
     "text": [
      "16:15:40 - cmdstanpy - INFO - compiling stan file C:\\Users\\carlo\\Bayesian statistics project\\logistic_regression_model_1.stan to exe file C:\\Users\\carlo\\Bayesian statistics project\\logistic_regression_model_1.exe\n",
      "16:15:58 - cmdstanpy - INFO - compiled model executable: C:\\Users\\carlo\\Bayesian statistics project\\logistic_regression_model_1.exe\n",
      "16:15:58 - cmdstanpy - WARNING - Stan compiler has produced 2 warnings:\n",
      "16:15:58 - cmdstanpy - WARNING - \n",
      "--- Translating Stan model to C++ code ---\n",
      "bin/stanc.exe  --o=C:/Users/carlo/BAYESI~1/logistic_regression_model_1.hpp C:/Users/carlo/BAYESI~1/logistic_regression_model_1.stan\n",
      "Warning in 'C:/Users/carlo/BAYESI~1/logistic_regression_model_1.stan', line 9, column 3: Declaration\n",
      "    of arrays by placing brackets after a variable name is deprecated and\n",
      "    will be removed in Stan 2.32.0. Instead use the array keyword before the\n",
      "    type. This can be changed automatically using the auto-format flag to\n",
      "    stanc\n",
      "Warning in 'C:/Users/carlo/BAYESI~1/logistic_regression_model_1.stan', line 25, column 5: Declaration\n",
      "    of arrays by placing brackets after a variable name is deprecated and\n",
      "    will be removed in Stan 2.32.0. Instead use the array keyword before the\n",
      "    type. This can be changed automatically using the auto-format flag to\n",
      "    stanc\n",
      "\n",
      "--- Compiling, linking C++ code ---\n",
      "g++ -std=c++1y -m64 -D_REENTRANT -Wall -Wno-unused-function -Wno-uninitialized -Wno-unused-but-set-variable -Wno-unused-variable -Wno-sign-compare -Wno-unused-local-typedefs -Wno-int-in-bool-context -Wno-attributes -Wno-ignored-attributes     -DSTAN_THREADS -I stan/lib/stan_math/lib/tbb_2020.3/include    -O3 -I src -I stan/src -I lib/rapidjson_1.1.0/ -I lib/CLI11-1.9.1/ -I stan/lib/stan_math/ -I stan/lib/stan_math/lib/eigen_3.3.9 -I stan/lib/stan_math/lib/boost_1.78.0 -I stan/lib/stan_math/lib/sundials_6.1.1/include -I stan/lib/stan_math/lib/sundials_6.1.1/src/sundials  -D_USE_MATH_DEFINES  -DBOOST_DISABLE_ASSERTS          -c  -x c++ -o C:/Users/carlo/BAYESI~1/logistic_regression_model_1.o C:/Users/carlo/BAYESI~1/logistic_regression_model_1.hpp\n",
      "g++ -std=c++1y -m64 -D_REENTRANT -Wall -Wno-unused-function -Wno-uninitialized -Wno-unused-but-set-variable -Wno-unused-variable -Wno-sign-compare -Wno-unused-local-typedefs -Wno-int-in-bool-context -Wno-attributes -Wno-ignored-attributes     -DSTAN_THREADS -I stan/lib/stan_math/lib/tbb_2020.3/include    -O3 -I src -I stan/src -I lib/rapidjson_1.1.0/ -I lib/CLI11-1.9.1/ -I stan/lib/stan_math/ -I stan/lib/stan_math/lib/eigen_3.3.9 -I stan/lib/stan_math/lib/boost_1.78.0 -I stan/lib/stan_math/lib/sundials_6.1.1/include -I stan/lib/stan_math/lib/sundials_6.1.1/src/sundials  -D_USE_MATH_DEFINES  -DBOOST_DISABLE_ASSERTS                -Wl,-L,\"C:/Users/carlo/.cmdstan/cmdstan-2.30.1/stan/lib/stan_math/lib/tbb\" -Wl,-rpath,\"C:/Users/carlo/.cmdstan/cmdstan-2.30.1/stan/lib/stan_math/lib/tbb\"      C:/Users/carlo/BAYESI~1/logistic_regression_model_1.o src/cmdstan/main_threads.o  -static-libgcc -static-libstdc++      -Wl,-L,\"C:/Users/carlo/.cmdstan/cmdstan-2.30.1/stan/lib/stan_math/lib/tbb\" -Wl,-rpath,\"C:/Users/carlo/.cmdstan/cmdstan-2.30.1/stan/lib/stan_math/lib/tbb\"   stan/lib/stan_math/lib/sundials_6.1.1/lib/libsundials_nvecserial.a stan/lib/stan_math/lib/sundials_6.1.1/lib/libsundials_cvodes.a stan/lib/stan_math/lib/sundials_6.1.1/lib/libsundials_idas.a stan/lib/stan_math/lib/sundials_6.1.1/lib/libsundials_kinsol.a  stan/lib/stan_math/lib/tbb/tbb.dll -o C:/Users/carlo/BAYESI~1/logistic_regression_model_1.exe\n",
      "rm -f C:/Users/carlo/BAYESI~1/logistic_regression_model_1.o\n",
      "\n"
     ]
    }
   ],
   "source": [
    "Logistic_regression_model_1_code = \"\"\"\n",
    "data{\n",
    "  \n",
    "   int<lower=0> N;\n",
    "   \n",
    "   int<lower=0> p;\n",
    "\n",
    "   \n",
    "   int y[N];\n",
    "   \n",
    "   matrix[N,p] x;\n",
    "   \n",
    "}\n",
    "\n",
    "\n",
    "\n",
    "parameters {\n",
    "\n",
    "    vector[p] beta;\n",
    "    \n",
    "}\n",
    "\n",
    "transformed parameters{\n",
    "\n",
    "     real <lower=0, upper=1> mu[N];\n",
    "     \n",
    "     for(i in 1:N)\n",
    "     {\n",
    "     \n",
    "     mu[i]= inv_logit(x[i,:]*beta);\n",
    "     }\n",
    "}\n",
    "\n",
    "model{\n",
    "\n",
    "\n",
    "    y~ bernoulli(mu);\n",
    "    \n",
    "    beta[1]~cauchy(0,10);\n",
    "    \n",
    "    for (j in 2:p){\n",
    "\n",
    "    beta~cauchy(0,2.5);\n",
    "    }\n",
    "\n",
    "}\n",
    "\n",
    "generated quantities  {\n",
    "      vector[N] log_lik;\n",
    "      for (j in 1:N) {\n",
    "            log_lik[j] = bernoulli_lpmf(y[j] | mu[j]);\n",
    "      }\n",
    "     \n",
    "}\n",
    "\n",
    "\n",
    "\"\"\"\n",
    "\n",
    "\n",
    "\n",
    "\n",
    "\n",
    "stan_file_logistic_1 = \"./logistic_regression_model_1.stan\"\n",
    "\n",
    "with open(stan_file_logistic_1, \"w\") as f:   # write the normal code into a file named ./multi_normal.stan\n",
    "    print(Logistic_regression_model_1_code, file=f)\n",
    "\n",
    "stan_model1 = CmdStanModel(stan_file=stan_file_logistic_1,   cpp_options={\"STAN_THREADS\": True})\n",
    "\n"
   ]
  },
  {
   "cell_type": "markdown",
   "id": "b9186391",
   "metadata": {},
   "source": [
    "### 4) Spike and Slab computation"
   ]
  },
  {
   "cell_type": "code",
   "execution_count": 16,
   "id": "166cabd1",
   "metadata": {},
   "outputs": [],
   "source": [
    "N=x_train.shape[0]\n",
    "\n",
    "p=x_train.shape[1]\n"
   ]
  },
  {
   "cell_type": "code",
   "execution_count": 17,
   "id": "c2028667",
   "metadata": {},
   "outputs": [
    {
     "name": "stderr",
     "output_type": "stream",
     "text": [
      "16:16:03 - cmdstanpy - INFO - CmdStan start processing\n"
     ]
    },
    {
     "data": {
      "application/vnd.jupyter.widget-view+json": {
       "model_id": "a6a3049294e14e0e8e5bd8e4942a46fc",
       "version_major": 2,
       "version_minor": 0
      },
      "text/plain": [
       "chain 1 |          | 00:00 Status"
      ]
     },
     "metadata": {},
     "output_type": "display_data"
    },
    {
     "data": {
      "application/vnd.jupyter.widget-view+json": {
       "model_id": "2d82157bd29c49c88e2e09a15cc87b8c",
       "version_major": 2,
       "version_minor": 0
      },
      "text/plain": [
       "chain 2 |          | 00:00 Status"
      ]
     },
     "metadata": {},
     "output_type": "display_data"
    },
    {
     "data": {
      "application/vnd.jupyter.widget-view+json": {
       "model_id": "29765b837a484b0895d8a7c21e8d9dd2",
       "version_major": 2,
       "version_minor": 0
      },
      "text/plain": [
       "chain 3 |          | 00:00 Status"
      ]
     },
     "metadata": {},
     "output_type": "display_data"
    },
    {
     "data": {
      "application/vnd.jupyter.widget-view+json": {
       "model_id": "bf9b4c736e124d06af660a815cb3029d",
       "version_major": 2,
       "version_minor": 0
      },
      "text/plain": [
       "chain 4 |          | 00:00 Status"
      ]
     },
     "metadata": {},
     "output_type": "display_data"
    },
    {
     "name": "stdout",
     "output_type": "stream",
     "text": [
      "                                                                                                                                                                                                                                                                                                                                "
     ]
    },
    {
     "name": "stderr",
     "output_type": "stream",
     "text": [
      "16:17:04 - cmdstanpy - INFO - CmdStan done processing.\n"
     ]
    },
    {
     "name": "stdout",
     "output_type": "stream",
     "text": [
      "\n"
     ]
    }
   ],
   "source": [
    "dat = {\n",
    "    \n",
    "    \"N\": N,\n",
    "    \"p\": p,\n",
    "    \"y\": y_train,\n",
    "    \"x\": x_train,\n",
    "    \"var_spike\": 0.5,\n",
    "    \"var_slab\":35 ,\n",
    "  \n",
    "}\n",
    "\n",
    "stan_fit1 = stan_model.sample(data=dat, chains=4, \n",
    "                             parallel_chains=4 ,inits=0  , threads_per_chain=3)\n",
    "cmdstanpy_data1 = az.from_cmdstanpy(stan_fit1)"
   ]
  },
  {
   "cell_type": "code",
   "execution_count": null,
   "id": "f572682b",
   "metadata": {},
   "outputs": [],
   "source": []
  },
  {
   "cell_type": "code",
   "execution_count": 48,
   "id": "d7da117d",
   "metadata": {},
   "outputs": [
    {
     "data": {
      "text/plain": [
       "array([[-0.10476786, -0.1308661 , -0.11921387, ..., -0.03340381,\n",
       "        -0.03434804, -0.03254028],\n",
       "       [-0.10476786, -0.1308661 , -0.11921387, ..., -0.03340381,\n",
       "        -0.03434804, -0.03254028],\n",
       "       [-0.10476786, -0.1308661 , -0.11921387, ..., -0.03340381,\n",
       "        -0.03434804, -0.03254028],\n",
       "       ...,\n",
       "       [-0.10476786, -0.1308661 , -0.11921387, ..., -0.03340381,\n",
       "        -0.03434804, -0.03254028],\n",
       "       [-0.10476786, -0.1308661 , -0.11921387, ..., -0.03340381,\n",
       "        -0.03434804, -0.03254028],\n",
       "       [-0.10476786, -0.1308661 , -0.11921387, ..., -0.03340381,\n",
       "        -0.03434804, -0.03254028]])"
      ]
     },
     "execution_count": 48,
     "metadata": {},
     "output_type": "execute_result"
    }
   ],
   "source": [
    "x_train= preprocessing.scale(x_train)/2\n",
    "x_test= preprocessing.scale(x_test)/2\n",
    "x_train"
   ]
  },
  {
   "cell_type": "code",
   "execution_count": 52,
   "id": "8b82f712",
   "metadata": {},
   "outputs": [
    {
     "data": {
      "text/html": [
       "<div>\n",
       "<style scoped>\n",
       "    .dataframe tbody tr th:only-of-type {\n",
       "        vertical-align: middle;\n",
       "    }\n",
       "\n",
       "    .dataframe tbody tr th {\n",
       "        vertical-align: top;\n",
       "    }\n",
       "\n",
       "    .dataframe thead th {\n",
       "        text-align: right;\n",
       "    }\n",
       "</style>\n",
       "<table border=\"1\" class=\"dataframe\">\n",
       "  <thead>\n",
       "    <tr style=\"text-align: right;\">\n",
       "      <th></th>\n",
       "      <th>bore</th>\n",
       "      <th>disappoint</th>\n",
       "      <th>bad</th>\n",
       "      <th>wast</th>\n",
       "      <th>instead</th>\n",
       "      <th>easi</th>\n",
       "      <th>highli</th>\n",
       "      <th>excel</th>\n",
       "      <th>lack</th>\n",
       "      <th>poorli</th>\n",
       "      <th>...</th>\n",
       "      <th>fantast</th>\n",
       "      <th>comprehens</th>\n",
       "      <th>rambl</th>\n",
       "      <th>suspect</th>\n",
       "      <th>explor</th>\n",
       "      <th>guy</th>\n",
       "      <th>honestli</th>\n",
       "      <th>invit</th>\n",
       "      <th>extraordinari</th>\n",
       "      <th>outstand</th>\n",
       "    </tr>\n",
       "  </thead>\n",
       "  <tbody>\n",
       "    <tr>\n",
       "      <th>count</th>\n",
       "      <td>1.940000e+03</td>\n",
       "      <td>1.940000e+03</td>\n",
       "      <td>1.940000e+03</td>\n",
       "      <td>1.940000e+03</td>\n",
       "      <td>1.940000e+03</td>\n",
       "      <td>1.940000e+03</td>\n",
       "      <td>1.940000e+03</td>\n",
       "      <td>1.940000e+03</td>\n",
       "      <td>1.940000e+03</td>\n",
       "      <td>1.940000e+03</td>\n",
       "      <td>...</td>\n",
       "      <td>1.940000e+03</td>\n",
       "      <td>1.940000e+03</td>\n",
       "      <td>1.940000e+03</td>\n",
       "      <td>1.940000e+03</td>\n",
       "      <td>1.940000e+03</td>\n",
       "      <td>1.940000e+03</td>\n",
       "      <td>1.940000e+03</td>\n",
       "      <td>1.940000e+03</td>\n",
       "      <td>1.940000e+03</td>\n",
       "      <td>1.940000e+03</td>\n",
       "    </tr>\n",
       "    <tr>\n",
       "      <th>mean</th>\n",
       "      <td>-8.240831e-18</td>\n",
       "      <td>1.831296e-18</td>\n",
       "      <td>-3.204767e-17</td>\n",
       "      <td>1.007213e-17</td>\n",
       "      <td>-9.614302e-18</td>\n",
       "      <td>4.028851e-17</td>\n",
       "      <td>2.746944e-18</td>\n",
       "      <td>-2.563814e-17</td>\n",
       "      <td>1.991534e-17</td>\n",
       "      <td>-7.096271e-18</td>\n",
       "      <td>...</td>\n",
       "      <td>1.098777e-17</td>\n",
       "      <td>3.662591e-17</td>\n",
       "      <td>4.578239e-18</td>\n",
       "      <td>2.392130e-17</td>\n",
       "      <td>2.105990e-17</td>\n",
       "      <td>4.532457e-17</td>\n",
       "      <td>2.472249e-17</td>\n",
       "      <td>2.380684e-17</td>\n",
       "      <td>-1.190342e-17</td>\n",
       "      <td>-3.662591e-18</td>\n",
       "    </tr>\n",
       "    <tr>\n",
       "      <th>std</th>\n",
       "      <td>5.001289e-01</td>\n",
       "      <td>5.001289e-01</td>\n",
       "      <td>5.001289e-01</td>\n",
       "      <td>5.001289e-01</td>\n",
       "      <td>5.001289e-01</td>\n",
       "      <td>5.001289e-01</td>\n",
       "      <td>5.001289e-01</td>\n",
       "      <td>5.001289e-01</td>\n",
       "      <td>5.001289e-01</td>\n",
       "      <td>5.001289e-01</td>\n",
       "      <td>...</td>\n",
       "      <td>5.001289e-01</td>\n",
       "      <td>5.001289e-01</td>\n",
       "      <td>5.001289e-01</td>\n",
       "      <td>5.001289e-01</td>\n",
       "      <td>5.001289e-01</td>\n",
       "      <td>5.001289e-01</td>\n",
       "      <td>5.001289e-01</td>\n",
       "      <td>5.001289e-01</td>\n",
       "      <td>5.001289e-01</td>\n",
       "      <td>5.001289e-01</td>\n",
       "    </tr>\n",
       "    <tr>\n",
       "      <th>min</th>\n",
       "      <td>-1.047679e-01</td>\n",
       "      <td>-1.308661e-01</td>\n",
       "      <td>-1.192139e-01</td>\n",
       "      <td>-9.354543e-02</td>\n",
       "      <td>-1.204061e-01</td>\n",
       "      <td>-1.082349e-01</td>\n",
       "      <td>-1.085075e-01</td>\n",
       "      <td>-9.945743e-02</td>\n",
       "      <td>-1.031208e-01</td>\n",
       "      <td>-6.134154e-02</td>\n",
       "      <td>...</td>\n",
       "      <td>-5.952827e-02</td>\n",
       "      <td>-5.172537e-02</td>\n",
       "      <td>-4.239099e-02</td>\n",
       "      <td>-5.669371e-02</td>\n",
       "      <td>-6.966240e-02</td>\n",
       "      <td>-8.232517e-02</td>\n",
       "      <td>-4.196899e-02</td>\n",
       "      <td>-3.340381e-02</td>\n",
       "      <td>-3.434804e-02</td>\n",
       "      <td>-3.254028e-02</td>\n",
       "    </tr>\n",
       "    <tr>\n",
       "      <th>25%</th>\n",
       "      <td>-1.047679e-01</td>\n",
       "      <td>-1.308661e-01</td>\n",
       "      <td>-1.192139e-01</td>\n",
       "      <td>-9.354543e-02</td>\n",
       "      <td>-1.204061e-01</td>\n",
       "      <td>-1.082349e-01</td>\n",
       "      <td>-1.085075e-01</td>\n",
       "      <td>-9.945743e-02</td>\n",
       "      <td>-1.031208e-01</td>\n",
       "      <td>-6.134154e-02</td>\n",
       "      <td>...</td>\n",
       "      <td>-5.952827e-02</td>\n",
       "      <td>-5.172537e-02</td>\n",
       "      <td>-4.239099e-02</td>\n",
       "      <td>-5.669371e-02</td>\n",
       "      <td>-6.966240e-02</td>\n",
       "      <td>-8.232517e-02</td>\n",
       "      <td>-4.196899e-02</td>\n",
       "      <td>-3.340381e-02</td>\n",
       "      <td>-3.434804e-02</td>\n",
       "      <td>-3.254028e-02</td>\n",
       "    </tr>\n",
       "    <tr>\n",
       "      <th>50%</th>\n",
       "      <td>-1.047679e-01</td>\n",
       "      <td>-1.308661e-01</td>\n",
       "      <td>-1.192139e-01</td>\n",
       "      <td>-9.354543e-02</td>\n",
       "      <td>-1.204061e-01</td>\n",
       "      <td>-1.082349e-01</td>\n",
       "      <td>-1.085075e-01</td>\n",
       "      <td>-9.945743e-02</td>\n",
       "      <td>-1.031208e-01</td>\n",
       "      <td>-6.134154e-02</td>\n",
       "      <td>...</td>\n",
       "      <td>-5.952827e-02</td>\n",
       "      <td>-5.172537e-02</td>\n",
       "      <td>-4.239099e-02</td>\n",
       "      <td>-5.669371e-02</td>\n",
       "      <td>-6.966240e-02</td>\n",
       "      <td>-8.232517e-02</td>\n",
       "      <td>-4.196899e-02</td>\n",
       "      <td>-3.340381e-02</td>\n",
       "      <td>-3.434804e-02</td>\n",
       "      <td>-3.254028e-02</td>\n",
       "    </tr>\n",
       "    <tr>\n",
       "      <th>75%</th>\n",
       "      <td>-1.047679e-01</td>\n",
       "      <td>-1.308661e-01</td>\n",
       "      <td>-1.192139e-01</td>\n",
       "      <td>-9.354543e-02</td>\n",
       "      <td>-1.204061e-01</td>\n",
       "      <td>-1.082349e-01</td>\n",
       "      <td>-1.085075e-01</td>\n",
       "      <td>-9.945743e-02</td>\n",
       "      <td>-1.031208e-01</td>\n",
       "      <td>-6.134154e-02</td>\n",
       "      <td>...</td>\n",
       "      <td>-5.952827e-02</td>\n",
       "      <td>-5.172537e-02</td>\n",
       "      <td>-4.239099e-02</td>\n",
       "      <td>-5.669371e-02</td>\n",
       "      <td>-6.966240e-02</td>\n",
       "      <td>-8.232517e-02</td>\n",
       "      <td>-4.196899e-02</td>\n",
       "      <td>-3.340381e-02</td>\n",
       "      <td>-3.434804e-02</td>\n",
       "      <td>-3.254028e-02</td>\n",
       "    </tr>\n",
       "    <tr>\n",
       "      <th>max</th>\n",
       "      <td>4.849419e+00</td>\n",
       "      <td>5.252686e+00</td>\n",
       "      <td>6.594061e+00</td>\n",
       "      <td>8.035851e+00</td>\n",
       "      <td>5.799133e+00</td>\n",
       "      <td>5.229716e+00</td>\n",
       "      <td>8.507528e+00</td>\n",
       "      <td>6.106471e+00</td>\n",
       "      <td>7.671304e+00</td>\n",
       "      <td>7.952520e+00</td>\n",
       "      <td>...</td>\n",
       "      <td>1.022716e+01</td>\n",
       "      <td>1.066683e+01</td>\n",
       "      <td>9.964144e+00</td>\n",
       "      <td>9.804616e+00</td>\n",
       "      <td>9.380430e+00</td>\n",
       "      <td>8.442329e+00</td>\n",
       "      <td>8.823645e+00</td>\n",
       "      <td>1.241999e+01</td>\n",
       "      <td>1.152478e+01</td>\n",
       "      <td>1.126636e+01</td>\n",
       "    </tr>\n",
       "  </tbody>\n",
       "</table>\n",
       "<p>8 rows × 90 columns</p>\n",
       "</div>"
      ],
      "text/plain": [
       "               bore    disappoint           bad          wast       instead  \\\n",
       "count  1.940000e+03  1.940000e+03  1.940000e+03  1.940000e+03  1.940000e+03   \n",
       "mean  -8.240831e-18  1.831296e-18 -3.204767e-17  1.007213e-17 -9.614302e-18   \n",
       "std    5.001289e-01  5.001289e-01  5.001289e-01  5.001289e-01  5.001289e-01   \n",
       "min   -1.047679e-01 -1.308661e-01 -1.192139e-01 -9.354543e-02 -1.204061e-01   \n",
       "25%   -1.047679e-01 -1.308661e-01 -1.192139e-01 -9.354543e-02 -1.204061e-01   \n",
       "50%   -1.047679e-01 -1.308661e-01 -1.192139e-01 -9.354543e-02 -1.204061e-01   \n",
       "75%   -1.047679e-01 -1.308661e-01 -1.192139e-01 -9.354543e-02 -1.204061e-01   \n",
       "max    4.849419e+00  5.252686e+00  6.594061e+00  8.035851e+00  5.799133e+00   \n",
       "\n",
       "               easi        highli         excel          lack        poorli  \\\n",
       "count  1.940000e+03  1.940000e+03  1.940000e+03  1.940000e+03  1.940000e+03   \n",
       "mean   4.028851e-17  2.746944e-18 -2.563814e-17  1.991534e-17 -7.096271e-18   \n",
       "std    5.001289e-01  5.001289e-01  5.001289e-01  5.001289e-01  5.001289e-01   \n",
       "min   -1.082349e-01 -1.085075e-01 -9.945743e-02 -1.031208e-01 -6.134154e-02   \n",
       "25%   -1.082349e-01 -1.085075e-01 -9.945743e-02 -1.031208e-01 -6.134154e-02   \n",
       "50%   -1.082349e-01 -1.085075e-01 -9.945743e-02 -1.031208e-01 -6.134154e-02   \n",
       "75%   -1.082349e-01 -1.085075e-01 -9.945743e-02 -1.031208e-01 -6.134154e-02   \n",
       "max    5.229716e+00  8.507528e+00  6.106471e+00  7.671304e+00  7.952520e+00   \n",
       "\n",
       "       ...       fantast    comprehens         rambl       suspect  \\\n",
       "count  ...  1.940000e+03  1.940000e+03  1.940000e+03  1.940000e+03   \n",
       "mean   ...  1.098777e-17  3.662591e-17  4.578239e-18  2.392130e-17   \n",
       "std    ...  5.001289e-01  5.001289e-01  5.001289e-01  5.001289e-01   \n",
       "min    ... -5.952827e-02 -5.172537e-02 -4.239099e-02 -5.669371e-02   \n",
       "25%    ... -5.952827e-02 -5.172537e-02 -4.239099e-02 -5.669371e-02   \n",
       "50%    ... -5.952827e-02 -5.172537e-02 -4.239099e-02 -5.669371e-02   \n",
       "75%    ... -5.952827e-02 -5.172537e-02 -4.239099e-02 -5.669371e-02   \n",
       "max    ...  1.022716e+01  1.066683e+01  9.964144e+00  9.804616e+00   \n",
       "\n",
       "             explor           guy      honestli         invit  extraordinari  \\\n",
       "count  1.940000e+03  1.940000e+03  1.940000e+03  1.940000e+03   1.940000e+03   \n",
       "mean   2.105990e-17  4.532457e-17  2.472249e-17  2.380684e-17  -1.190342e-17   \n",
       "std    5.001289e-01  5.001289e-01  5.001289e-01  5.001289e-01   5.001289e-01   \n",
       "min   -6.966240e-02 -8.232517e-02 -4.196899e-02 -3.340381e-02  -3.434804e-02   \n",
       "25%   -6.966240e-02 -8.232517e-02 -4.196899e-02 -3.340381e-02  -3.434804e-02   \n",
       "50%   -6.966240e-02 -8.232517e-02 -4.196899e-02 -3.340381e-02  -3.434804e-02   \n",
       "75%   -6.966240e-02 -8.232517e-02 -4.196899e-02 -3.340381e-02  -3.434804e-02   \n",
       "max    9.380430e+00  8.442329e+00  8.823645e+00  1.241999e+01   1.152478e+01   \n",
       "\n",
       "           outstand  \n",
       "count  1.940000e+03  \n",
       "mean  -3.662591e-18  \n",
       "std    5.001289e-01  \n",
       "min   -3.254028e-02  \n",
       "25%   -3.254028e-02  \n",
       "50%   -3.254028e-02  \n",
       "75%   -3.254028e-02  \n",
       "max    1.126636e+01  \n",
       "\n",
       "[8 rows x 90 columns]"
      ]
     },
     "execution_count": 52,
     "metadata": {},
     "output_type": "execute_result"
    }
   ],
   "source": [
    "x_tr=pd.DataFrame(x_train)\n",
    "x_tr.columns=names\n",
    "\n",
    "x_ts=pd.DataFrame(x_test)\n",
    "x_ts.columns=names\n",
    "x_tr.describe()"
   ]
  },
  {
   "cell_type": "markdown",
   "id": "7ee2637a",
   "metadata": {},
   "source": [
    "### 5) Assess the optimal number of features "
   ]
  },
  {
   "cell_type": "code",
   "execution_count": 54,
   "id": "cd877afa",
   "metadata": {},
   "outputs": [],
   "source": [
    "\n",
    "\n",
    "def compute_mu(betaa,xx):\n",
    "    \n",
    "    mu=[]\n",
    "    \n",
    "    for i in range(len(xx)):\n",
    "        \n",
    "        muu=m.e**(np.dot(xx[i].T,betaa))/(1+m.e**(np.dot(xx[i].T,betaa)))\n",
    "        \n",
    "        mu.append(muu)\n",
    "        \n",
    "    return mu\n",
    "\n",
    "\n",
    "def predictions(mu_hat, threshold):\n",
    "    \n",
    "    L= len(mu_hat)\n",
    "    \n",
    "    out=np.zeros(L)\n",
    "    \n",
    "    \n",
    "    for i in range(L):\n",
    "        \n",
    "        if mu_hat[i]>threshold:\n",
    "            out[i]+=1\n",
    "            \n",
    "    return out\n",
    "\n",
    "\n",
    "\n",
    "    "
   ]
  },
  {
   "cell_type": "markdown",
   "id": "2dbf6835",
   "metadata": {},
   "source": [
    "##### Explore several HDI and for each of them computes the WAIC on the training_set and the Accuracy on the test_set"
   ]
  },
  {
   "cell_type": "code",
   "execution_count": 55,
   "id": "edda41ae",
   "metadata": {},
   "outputs": [
    {
     "name": "stderr",
     "output_type": "stream",
     "text": [
      "17:14:46 - cmdstanpy - INFO - CmdStan start processing\n"
     ]
    },
    {
     "data": {
      "application/vnd.jupyter.widget-view+json": {
       "model_id": "59bf871b34614702aa50293541f8ff5f",
       "version_major": 2,
       "version_minor": 0
      },
      "text/plain": [
       "chain 1 |          | 00:00 Status"
      ]
     },
     "metadata": {},
     "output_type": "display_data"
    },
    {
     "data": {
      "application/vnd.jupyter.widget-view+json": {
       "model_id": "b29e1e71201a425ea31ec4555145353c",
       "version_major": 2,
       "version_minor": 0
      },
      "text/plain": [
       "chain 2 |          | 00:00 Status"
      ]
     },
     "metadata": {},
     "output_type": "display_data"
    },
    {
     "name": "stdout",
     "output_type": "stream",
     "text": [
      "                                                                                                                                                                "
     ]
    },
    {
     "name": "stderr",
     "output_type": "stream",
     "text": [
      "17:16:06 - cmdstanpy - INFO - CmdStan done processing.\n"
     ]
    },
    {
     "name": "stdout",
     "output_type": "stream",
     "text": [
      "\n"
     ]
    },
    {
     "name": "stderr",
     "output_type": "stream",
     "text": [
      "C:\\Users\\carlo\\anaconda3\\envs\\stan_env\\lib\\site-packages\\arviz\\stats\\stats.py:1663: UserWarning: For one or more samples the posterior variance of the log predictive densities exceeds 0.4. This could be indication of WAIC starting to fail. \n",
      "See http://arxiv.org/abs/1507.04544 for details\n",
      "  \"For one or more samples the posterior variance of the log predictive \"\n",
      "17:16:12 - cmdstanpy - INFO - CmdStan start processing\n"
     ]
    },
    {
     "data": {
      "application/vnd.jupyter.widget-view+json": {
       "model_id": "44e75b12d8dd4d9eb31e28a9ebdf122e",
       "version_major": 2,
       "version_minor": 0
      },
      "text/plain": [
       "chain 1 |          | 00:00 Status"
      ]
     },
     "metadata": {},
     "output_type": "display_data"
    },
    {
     "data": {
      "application/vnd.jupyter.widget-view+json": {
       "model_id": "7b1930c6dce7474c8321d082b02d07ff",
       "version_major": 2,
       "version_minor": 0
      },
      "text/plain": [
       "chain 2 |          | 00:00 Status"
      ]
     },
     "metadata": {},
     "output_type": "display_data"
    },
    {
     "name": "stdout",
     "output_type": "stream",
     "text": [
      "                                                                                                                                                                "
     ]
    },
    {
     "name": "stderr",
     "output_type": "stream",
     "text": [
      "17:17:23 - cmdstanpy - INFO - CmdStan done processing.\n"
     ]
    },
    {
     "name": "stdout",
     "output_type": "stream",
     "text": [
      "\n"
     ]
    },
    {
     "name": "stderr",
     "output_type": "stream",
     "text": [
      "C:\\Users\\carlo\\anaconda3\\envs\\stan_env\\lib\\site-packages\\arviz\\stats\\stats.py:1663: UserWarning: For one or more samples the posterior variance of the log predictive densities exceeds 0.4. This could be indication of WAIC starting to fail. \n",
      "See http://arxiv.org/abs/1507.04544 for details\n",
      "  \"For one or more samples the posterior variance of the log predictive \"\n",
      "17:17:29 - cmdstanpy - INFO - CmdStan start processing\n"
     ]
    },
    {
     "data": {
      "application/vnd.jupyter.widget-view+json": {
       "model_id": "3338329acee747a086936a2aee4a57e9",
       "version_major": 2,
       "version_minor": 0
      },
      "text/plain": [
       "chain 1 |          | 00:00 Status"
      ]
     },
     "metadata": {},
     "output_type": "display_data"
    },
    {
     "data": {
      "application/vnd.jupyter.widget-view+json": {
       "model_id": "0e4f47c829a640989b003de5d68d8bee",
       "version_major": 2,
       "version_minor": 0
      },
      "text/plain": [
       "chain 2 |          | 00:00 Status"
      ]
     },
     "metadata": {},
     "output_type": "display_data"
    },
    {
     "name": "stdout",
     "output_type": "stream",
     "text": [
      "                                                                                                                                                                "
     ]
    },
    {
     "name": "stderr",
     "output_type": "stream",
     "text": [
      "17:18:41 - cmdstanpy - INFO - CmdStan done processing.\n"
     ]
    },
    {
     "name": "stdout",
     "output_type": "stream",
     "text": [
      "\n"
     ]
    },
    {
     "name": "stderr",
     "output_type": "stream",
     "text": [
      "C:\\Users\\carlo\\anaconda3\\envs\\stan_env\\lib\\site-packages\\arviz\\stats\\stats.py:1663: UserWarning: For one or more samples the posterior variance of the log predictive densities exceeds 0.4. This could be indication of WAIC starting to fail. \n",
      "See http://arxiv.org/abs/1507.04544 for details\n",
      "  \"For one or more samples the posterior variance of the log predictive \"\n",
      "17:18:48 - cmdstanpy - INFO - CmdStan start processing\n"
     ]
    },
    {
     "data": {
      "application/vnd.jupyter.widget-view+json": {
       "model_id": "1215996d03634daaba9bbf848d68ed4c",
       "version_major": 2,
       "version_minor": 0
      },
      "text/plain": [
       "chain 1 |          | 00:00 Status"
      ]
     },
     "metadata": {},
     "output_type": "display_data"
    },
    {
     "data": {
      "application/vnd.jupyter.widget-view+json": {
       "model_id": "0f446bea95c4499082614bfacd258e13",
       "version_major": 2,
       "version_minor": 0
      },
      "text/plain": [
       "chain 2 |          | 00:00 Status"
      ]
     },
     "metadata": {},
     "output_type": "display_data"
    },
    {
     "name": "stdout",
     "output_type": "stream",
     "text": [
      "                                                                                                                                                                "
     ]
    },
    {
     "name": "stderr",
     "output_type": "stream",
     "text": [
      "17:19:52 - cmdstanpy - INFO - CmdStan done processing.\n"
     ]
    },
    {
     "name": "stdout",
     "output_type": "stream",
     "text": [
      "\n"
     ]
    },
    {
     "name": "stderr",
     "output_type": "stream",
     "text": [
      "C:\\Users\\carlo\\anaconda3\\envs\\stan_env\\lib\\site-packages\\arviz\\stats\\stats.py:1663: UserWarning: For one or more samples the posterior variance of the log predictive densities exceeds 0.4. This could be indication of WAIC starting to fail. \n",
      "See http://arxiv.org/abs/1507.04544 for details\n",
      "  \"For one or more samples the posterior variance of the log predictive \"\n",
      "17:20:00 - cmdstanpy - INFO - CmdStan start processing\n"
     ]
    },
    {
     "data": {
      "application/vnd.jupyter.widget-view+json": {
       "model_id": "2d8c8c59568548bab7ce3cbe5f429038",
       "version_major": 2,
       "version_minor": 0
      },
      "text/plain": [
       "chain 1 |          | 00:00 Status"
      ]
     },
     "metadata": {},
     "output_type": "display_data"
    },
    {
     "data": {
      "application/vnd.jupyter.widget-view+json": {
       "model_id": "55e20ce3ff0e4c9f942b796871c3a34d",
       "version_major": 2,
       "version_minor": 0
      },
      "text/plain": [
       "chain 2 |          | 00:00 Status"
      ]
     },
     "metadata": {},
     "output_type": "display_data"
    },
    {
     "name": "stdout",
     "output_type": "stream",
     "text": [
      "                                                                                                                                                                "
     ]
    },
    {
     "name": "stderr",
     "output_type": "stream",
     "text": [
      "17:21:13 - cmdstanpy - INFO - CmdStan done processing.\n"
     ]
    },
    {
     "name": "stdout",
     "output_type": "stream",
     "text": [
      "\n"
     ]
    },
    {
     "name": "stderr",
     "output_type": "stream",
     "text": [
      "C:\\Users\\carlo\\anaconda3\\envs\\stan_env\\lib\\site-packages\\arviz\\stats\\stats.py:1663: UserWarning: For one or more samples the posterior variance of the log predictive densities exceeds 0.4. This could be indication of WAIC starting to fail. \n",
      "See http://arxiv.org/abs/1507.04544 for details\n",
      "  \"For one or more samples the posterior variance of the log predictive \"\n",
      "17:21:22 - cmdstanpy - INFO - CmdStan start processing\n"
     ]
    },
    {
     "data": {
      "application/vnd.jupyter.widget-view+json": {
       "model_id": "3c410574a44b425d9e0b7767d3cf6d9a",
       "version_major": 2,
       "version_minor": 0
      },
      "text/plain": [
       "chain 1 |          | 00:00 Status"
      ]
     },
     "metadata": {},
     "output_type": "display_data"
    },
    {
     "data": {
      "application/vnd.jupyter.widget-view+json": {
       "model_id": "7cef7c5ea85f472789d7e1cbdfa51780",
       "version_major": 2,
       "version_minor": 0
      },
      "text/plain": [
       "chain 2 |          | 00:00 Status"
      ]
     },
     "metadata": {},
     "output_type": "display_data"
    },
    {
     "name": "stdout",
     "output_type": "stream",
     "text": [
      "                                                                                                                                                                "
     ]
    },
    {
     "name": "stderr",
     "output_type": "stream",
     "text": [
      "17:22:09 - cmdstanpy - INFO - CmdStan done processing.\n"
     ]
    },
    {
     "name": "stdout",
     "output_type": "stream",
     "text": [
      "\n"
     ]
    },
    {
     "name": "stderr",
     "output_type": "stream",
     "text": [
      "C:\\Users\\carlo\\anaconda3\\envs\\stan_env\\lib\\site-packages\\arviz\\stats\\stats.py:1663: UserWarning: For one or more samples the posterior variance of the log predictive densities exceeds 0.4. This could be indication of WAIC starting to fail. \n",
      "See http://arxiv.org/abs/1507.04544 for details\n",
      "  \"For one or more samples the posterior variance of the log predictive \"\n"
     ]
    }
   ],
   "source": [
    "num_of_feat=[]\n",
    "\n",
    "probabilities=[0.6,0.7,0.8,0.9,0.95,0.975]\n",
    "\n",
    "\n",
    "waic=[]\n",
    "\n",
    "acc=[]\n",
    "\n",
    "\n",
    "for prob in probabilities:\n",
    "    BB=az.hdi(cmdstanpy_data1.posterior,prob)\n",
    "    \n",
    "    keep=[]\n",
    "\n",
    "    for i in range(90):\n",
    "   \n",
    "        if(BB.beta[i][0]<0 and BB.beta[i][1]>0 ):\n",
    "            {}\n",
    "        else:\n",
    "            keep.append(i)\n",
    "            \n",
    "    X=x_tr[names[keep]]\n",
    "    X.insert(0,\"1\",[1 for i in range(1940)],True)\n",
    "    \n",
    "    X_ts=x_ts[names[keep]]\n",
    "    X_ts.insert(0,\"1\",[1 for i in range(60)],True)\n",
    "   \n",
    "    \n",
    "    X=np.array(X)\n",
    "    X_ts=np.array(X_ts)\n",
    "    \n",
    "    N=X.shape[0]\n",
    "    \n",
    "    num_of_feat.append(len(keep))\n",
    "\n",
    "    p=len(keep)+1\n",
    "\n",
    "    y=y\n",
    "    \n",
    "    dat = {\n",
    "    \n",
    "    \"N\": N,\n",
    "    \"p\": p,\n",
    "    \"y\": y_train,\n",
    "    \"x\": X,\n",
    "     }\n",
    "\n",
    "    stan_fit2 = stan_model1.sample(data=dat, chains=2 ,inits=0, parallel_chains=2)\n",
    "    cmdstanpy_data2 = az.from_cmdstanpy(stan_fit2)\n",
    "    \n",
    "    waic.append(az.waic(cmdstanpy_data2, var_name=\"log_lik\")[0])\n",
    "    \n",
    "    beta_chains1=cmdstanpy_data2.posterior.beta\n",
    "    \n",
    "    beta_hat1=beta_chains1.mean(dim=[\"draw\",\"chain\"])\n",
    "    \n",
    "    posterior_mu1=compute_mu(beta_hat1,X_ts)\n",
    "    \n",
    "    pred1=predictions(posterior_mu1,0.5)\n",
    "    \n",
    "    confusion_matrix1 = pd.crosstab(y_test, pred1)\n",
    "\n",
    "    \n",
    "    acc.append((confusion_matrix1[0][0]+confusion_matrix1[1][1])/60)\n",
    "    \n",
    "    \n",
    "    \n",
    "\n",
    "    \n"
   ]
  },
  {
   "cell_type": "code",
   "execution_count": 56,
   "id": "31b909de",
   "metadata": {},
   "outputs": [
    {
     "name": "stdout",
     "output_type": "stream",
     "text": [
      "[85, 80, 77, 71, 57, 53]\n",
      "[-923.8915298141771, -921.3917191411738, -921.0704034259101, -921.721780079285, -935.4887789156992, -942.5892269636563]\n",
      "[0.75, 0.75, 0.75, 0.7666666666666667, 0.7666666666666667, 0.75]\n"
     ]
    }
   ],
   "source": [
    "print(num_of_feat)\n",
    "print(waic)\n",
    "print(acc)\n"
   ]
  },
  {
   "cell_type": "code",
   "execution_count": 57,
   "id": "f3138844",
   "metadata": {},
   "outputs": [
    {
     "data": {
      "image/png": "[encoded data removed]",
      "text/plain": [
       "<Figure size 640x480 with 1 Axes>"
      ]
     },
     "metadata": {},
     "output_type": "display_data"
    }
   ],
   "source": [
    "import matplotlib.pyplot \n",
    "  \n",
    "# plotting the points \n",
    "matplotlib.pyplot.plot(probabilities, waic)\n",
    "  \n",
    "# naming the x axis\n",
    "matplotlib.pyplot.xlabel('HDI')\n",
    "# naming the y axis\n",
    "matplotlib.pyplot.ylabel('waic')\n",
    "  \n",
    "# giving a title to my graph\n",
    "matplotlib.pyplot.title('Optimal HDI')\n",
    "  \n",
    "# function to show the plot\n",
    "matplotlib.pyplot.show()"
   ]
  },
  {
   "cell_type": "code",
   "execution_count": 58,
   "id": "88087bd2",
   "metadata": {},
   "outputs": [
    {
     "data": {
      "image/png": "[encoded data removed]",
      "text/plain": [
       "<Figure size 640x480 with 1 Axes>"
      ]
     },
     "metadata": {},
     "output_type": "display_data"
    }
   ],
   "source": [
    "# plotting the points \n",
    "matplotlib.pyplot.plot(probabilities, acc)\n",
    "  \n",
    "# naming the x axis\n",
    "matplotlib.pyplot.xlabel('HDI')\n",
    "# naming the y axis\n",
    "matplotlib.pyplot.ylabel('Test_acc')\n",
    "  \n",
    "# giving a title to my graph\n",
    "matplotlib.pyplot.title('Optimal HDI')\n",
    "\n",
    "# function to show the plot\n",
    "matplotlib.pyplot.show()"
   ]
  },
  {
   "cell_type": "markdown",
   "id": "80115fa5",
   "metadata": {},
   "source": [
    "##### Results using HDI=80% on the Hard Shrinkage"
   ]
  },
  {
   "cell_type": "code",
   "execution_count": 59,
   "id": "3cee116e",
   "metadata": {},
   "outputs": [
    {
     "name": "stdout",
     "output_type": "stream",
     "text": [
      "\n",
      "\n",
      "variables to keep\n"
     ]
    },
    {
     "data": {
      "text/plain": [
       "71"
      ]
     },
     "execution_count": 59,
     "metadata": {},
     "output_type": "execute_result"
    }
   ],
   "source": [
    "Probablity_of_the_interval=0.9\n",
    "\n",
    "BB=az.hdi(cmdstanpy_data1.posterior,Probablity_of_the_interval)\n",
    "\n",
    "\n",
    "# feature selection\n",
    "keep=[]\n",
    "\n",
    "for i in range(90):\n",
    "   \n",
    "    if(BB.beta[i][0]<0 and BB.beta[i][1]>0 ):\n",
    "        {}\n",
    "    else:\n",
    "        keep.append(i)\n",
    "   \n",
    "   \n",
    "print(\"\\n\")\n",
    "print(\"variables to keep\")\n",
    "len(names[keep])"
   ]
  },
  {
   "cell_type": "code",
   "execution_count": 61,
   "id": "6b6fc33e",
   "metadata": {},
   "outputs": [
    {
     "data": {
      "text/plain": [
       "Index(['bore', 'disappoint', 'bad', 'wast', 'instead', 'easi', 'highli',\n",
       "       'excel', 'lack', 'poorli', 'unfortun', 'favorit', 'skip', 'sorri',\n",
       "       'stupid', 'beauti', 'suppos', 'noth', 'predict', 'import', 'step',\n",
       "       'share', 'fail', 'anyth', 'appli', 'journey', 'dull', 'whatev', 'flat',\n",
       "       'useless', 'wors', 'endless', 'passion', 'vagu', 'claim', 'tire',\n",
       "       'whatsoev', 'soon', 'lesson', 'ridicul', 'gift', 'humor', 'half',\n",
       "       'bother', 'appreci', 'fascin', 'benefit', 'devot', 'vivid', 'substanc',\n",
       "       'mistak', 'superfici', 'worst', 'steel', 'decent', 'expand',\n",
       "       'establish', 'premis', 'paragraph', 'X100', 'garbag', 'remark',\n",
       "       'shallow', 'glad', 'unrealist', 'weak', 'fantast', 'suspect',\n",
       "       'honestli', 'invit', 'extraordinari'],\n",
       "      dtype='object')"
      ]
     },
     "execution_count": 61,
     "metadata": {},
     "output_type": "execute_result"
    }
   ],
   "source": [
    "names[keep]"
   ]
  },
  {
   "cell_type": "code",
   "execution_count": null,
   "id": "00de63b6",
   "metadata": {},
   "outputs": [],
   "source": []
  }
 ],
 "metadata": {
  "kernelspec": {
   "display_name": "Python 3 (ipykernel)",
   "language": "python",
   "name": "python3"
  },
  "language_info": {
   "codemirror_mode": {
    "name": "ipython",
    "version": 3
   },
   "file_extension": ".py",
   "mimetype": "text/x-python",
   "name": "python",
   "nbconvert_exporter": "python",
   "pygments_lexer": "ipython3",
   "version": "3.7.13"
  }
 },
 "nbformat": 4,
 "nbformat_minor": 5
}
